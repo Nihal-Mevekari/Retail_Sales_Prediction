{
  "cells": [
    {
      "cell_type": "markdown",
      "id": "4b09e276-70a1-4de9-aead-5ff92f6d4fd3",
      "metadata": {
        "id": "4b09e276-70a1-4de9-aead-5ff92f6d4fd3"
      },
      "source": [
        "### Importing the Libraries"
      ]
    },
    {
      "cell_type": "code",
      "execution_count": null,
      "id": "d8746448-c740-4ceb-a23a-6ee8e4e931f1",
      "metadata": {
        "id": "d8746448-c740-4ceb-a23a-6ee8e4e931f1"
      },
      "outputs": [],
      "source": [
        "import numpy as np\n",
        "import pandas as pd\n",
        "import matplotlib.pyplot as plt\n",
        "import seaborn as sns\n",
        "import warnings\n",
        "from sklearn.impute import KNNImputer\n",
        "\n",
        "warnings.filterwarnings('ignore')"
      ]
    },
    {
      "cell_type": "markdown",
      "id": "8ec6e0f6-41c7-4167-8107-8a76baf7d66c",
      "metadata": {
        "id": "8ec6e0f6-41c7-4167-8107-8a76baf7d66c"
      },
      "source": [
        "### Importing the Dataset"
      ]
    },
    {
      "cell_type": "code",
      "execution_count": null,
      "id": "342dd549-a788-47c4-b2b7-62148fc8cf6f",
      "metadata": {
        "id": "342dd549-a788-47c4-b2b7-62148fc8cf6f"
      },
      "outputs": [],
      "source": [
        "sales_data = pd.read_csv('Salesdata.csv')\n",
        "stores_data = pd.read_csv('store.csv')"
      ]
    },
    {
      "cell_type": "markdown",
      "id": "29648322-0bd9-4976-99db-35aabcec8d3d",
      "metadata": {
        "id": "29648322-0bd9-4976-99db-35aabcec8d3d"
      },
      "source": [
        "### Sample 100k data points from the Sales Data"
      ]
    },
    {
      "cell_type": "code",
      "execution_count": null,
      "id": "cd53988f-b27b-499c-bb40-c7df4eb8fbff",
      "metadata": {
        "id": "cd53988f-b27b-499c-bb40-c7df4eb8fbff"
      },
      "outputs": [],
      "source": [
        "#Since we have 1000k data points, we will sample 100k data points using random sampling\n",
        "\n",
        "num_samples = 100000\n",
        "\n",
        "unique_val = sales_data['Store'].unique()\n",
        "\n",
        "num_per_value = num_samples//len(unique_val)\n",
        "\n",
        "sampled_sales_data = pd.concat([sales_data[sales_data['Store'] == value].sample(n=num_per_value, replace=False, random_state=40) for value in unique_val])\n",
        "\n",
        "\n",
        "#If number of samples < 100k, we will further add data points\n",
        "if len(sampled_sales_data) < num_samples:\n",
        "    additional_samples = sales_data.sample(n=(num_samples - len(sampled_sales_data)))\n",
        "    sampled_sales_data = pd.concat([sampled_sales_data, additional_samples])"
      ]
    },
    {
      "cell_type": "code",
      "execution_count": null,
      "id": "5e8cd9e5-4abb-492e-87b9-b39c13becb11",
      "metadata": {
        "id": "5e8cd9e5-4abb-492e-87b9-b39c13becb11",
        "outputId": "e6761337-b567-4c56-f384-1ff239e18b8e"
      },
      "outputs": [
        {
          "data": {
            "text/plain": [
              "(100000, 9)"
            ]
          },
          "execution_count": 4,
          "metadata": {},
          "output_type": "execute_result"
        }
      ],
      "source": [
        "sampled_sales_data.shape"
      ]
    },
    {
      "cell_type": "code",
      "execution_count": null,
      "id": "7909c891-0d1d-4857-896e-6095ab2963ba",
      "metadata": {
        "id": "7909c891-0d1d-4857-896e-6095ab2963ba",
        "outputId": "5ecd999f-acc6-468a-b5f7-af694cb48d4e"
      },
      "outputs": [
        {
          "data": {
            "text/html": [
              "<div>\n",
              "<style scoped>\n",
              "    .dataframe tbody tr th:only-of-type {\n",
              "        vertical-align: middle;\n",
              "    }\n",
              "\n",
              "    .dataframe tbody tr th {\n",
              "        vertical-align: top;\n",
              "    }\n",
              "\n",
              "    .dataframe thead th {\n",
              "        text-align: right;\n",
              "    }\n",
              "</style>\n",
              "<table border=\"1\" class=\"dataframe\">\n",
              "  <thead>\n",
              "    <tr style=\"text-align: right;\">\n",
              "      <th></th>\n",
              "      <th>Store</th>\n",
              "      <th>DayOfWeek</th>\n",
              "      <th>Date</th>\n",
              "      <th>Sales</th>\n",
              "      <th>Customers</th>\n",
              "      <th>Open</th>\n",
              "      <th>Promo</th>\n",
              "      <th>StateHoliday</th>\n",
              "      <th>SchoolHoliday</th>\n",
              "    </tr>\n",
              "  </thead>\n",
              "  <tbody>\n",
              "    <tr>\n",
              "      <th>94775</th>\n",
              "      <td>1</td>\n",
              "      <td>4</td>\n",
              "      <td>07-05-2015</td>\n",
              "      <td>4529</td>\n",
              "      <td>491</td>\n",
              "      <td>1</td>\n",
              "      <td>1</td>\n",
              "      <td>0</td>\n",
              "      <td>0</td>\n",
              "    </tr>\n",
              "    <tr>\n",
              "      <th>990450</th>\n",
              "      <td>1</td>\n",
              "      <td>4</td>\n",
              "      <td>24-01-2013</td>\n",
              "      <td>5195</td>\n",
              "      <td>645</td>\n",
              "      <td>1</td>\n",
              "      <td>1</td>\n",
              "      <td>0</td>\n",
              "      <td>0</td>\n",
              "    </tr>\n",
              "    <tr>\n",
              "      <th>803130</th>\n",
              "      <td>1</td>\n",
              "      <td>4</td>\n",
              "      <td>11-07-2013</td>\n",
              "      <td>4053</td>\n",
              "      <td>486</td>\n",
              "      <td>1</td>\n",
              "      <td>0</td>\n",
              "      <td>0</td>\n",
              "      <td>1</td>\n",
              "    </tr>\n",
              "    <tr>\n",
              "      <th>828775</th>\n",
              "      <td>1</td>\n",
              "      <td>2</td>\n",
              "      <td>18-06-2013</td>\n",
              "      <td>4633</td>\n",
              "      <td>554</td>\n",
              "      <td>1</td>\n",
              "      <td>1</td>\n",
              "      <td>0</td>\n",
              "      <td>0</td>\n",
              "    </tr>\n",
              "    <tr>\n",
              "      <th>732885</th>\n",
              "      <td>1</td>\n",
              "      <td>4</td>\n",
              "      <td>12-09-2013</td>\n",
              "      <td>5079</td>\n",
              "      <td>586</td>\n",
              "      <td>1</td>\n",
              "      <td>1</td>\n",
              "      <td>0</td>\n",
              "      <td>0</td>\n",
              "    </tr>\n",
              "  </tbody>\n",
              "</table>\n",
              "</div>"
            ],
            "text/plain": [
              "        Store  DayOfWeek        Date  Sales  Customers  Open  Promo  \\\n",
              "94775       1          4  07-05-2015   4529        491     1      1   \n",
              "990450      1          4  24-01-2013   5195        645     1      1   \n",
              "803130      1          4  11-07-2013   4053        486     1      0   \n",
              "828775      1          2  18-06-2013   4633        554     1      1   \n",
              "732885      1          4  12-09-2013   5079        586     1      1   \n",
              "\n",
              "       StateHoliday  SchoolHoliday  \n",
              "94775             0              0  \n",
              "990450            0              0  \n",
              "803130            0              1  \n",
              "828775            0              0  \n",
              "732885            0              0  "
            ]
          },
          "execution_count": 5,
          "metadata": {},
          "output_type": "execute_result"
        }
      ],
      "source": [
        "sampled_sales_data.head()"
      ]
    },
    {
      "cell_type": "code",
      "execution_count": null,
      "id": "0d7fd91a-72da-4e36-b940-a6d8c4eecb32",
      "metadata": {
        "id": "0d7fd91a-72da-4e36-b940-a6d8c4eecb32",
        "outputId": "5d437ce0-532a-4680-e75c-eb2b98329ff1"
      },
      "outputs": [
        {
          "name": "stdout",
          "output_type": "stream",
          "text": [
            "<class 'pandas.core.frame.DataFrame'>\n",
            "Index: 100000 entries, 94775 to 403390\n",
            "Data columns (total 9 columns):\n",
            " #   Column         Non-Null Count   Dtype \n",
            "---  ------         --------------   ----- \n",
            " 0   Store          100000 non-null  int64 \n",
            " 1   DayOfWeek      100000 non-null  int64 \n",
            " 2   Date           100000 non-null  object\n",
            " 3   Sales          100000 non-null  int64 \n",
            " 4   Customers      100000 non-null  int64 \n",
            " 5   Open           100000 non-null  int64 \n",
            " 6   Promo          100000 non-null  int64 \n",
            " 7   StateHoliday   100000 non-null  object\n",
            " 8   SchoolHoliday  100000 non-null  int64 \n",
            "dtypes: int64(7), object(2)\n",
            "memory usage: 7.6+ MB\n"
          ]
        }
      ],
      "source": [
        "sampled_sales_data.info()"
      ]
    },
    {
      "cell_type": "code",
      "execution_count": null,
      "id": "d0ca81a6-1b05-4dc2-a193-393ee398237a",
      "metadata": {
        "id": "d0ca81a6-1b05-4dc2-a193-393ee398237a",
        "outputId": "f4cbfdfb-314a-4574-ce07-3381ed993ca0"
      },
      "outputs": [
        {
          "data": {
            "text/plain": [
              "(1115, 10)"
            ]
          },
          "execution_count": 7,
          "metadata": {},
          "output_type": "execute_result"
        }
      ],
      "source": [
        "stores_data.shape"
      ]
    },
    {
      "cell_type": "code",
      "execution_count": null,
      "id": "5c9f52cd-50da-47c3-a042-3046cdd4e566",
      "metadata": {
        "id": "5c9f52cd-50da-47c3-a042-3046cdd4e566",
        "outputId": "22e8b0dc-b9eb-4e06-ff4a-c6b2993aa8bb"
      },
      "outputs": [
        {
          "data": {
            "text/html": [
              "<div>\n",
              "<style scoped>\n",
              "    .dataframe tbody tr th:only-of-type {\n",
              "        vertical-align: middle;\n",
              "    }\n",
              "\n",
              "    .dataframe tbody tr th {\n",
              "        vertical-align: top;\n",
              "    }\n",
              "\n",
              "    .dataframe thead th {\n",
              "        text-align: right;\n",
              "    }\n",
              "</style>\n",
              "<table border=\"1\" class=\"dataframe\">\n",
              "  <thead>\n",
              "    <tr style=\"text-align: right;\">\n",
              "      <th></th>\n",
              "      <th>Store</th>\n",
              "      <th>StoreType</th>\n",
              "      <th>Assortment</th>\n",
              "      <th>CompetitionDistance</th>\n",
              "      <th>CompetitionOpenSinceMonth</th>\n",
              "      <th>CompetitionOpenSinceYear</th>\n",
              "      <th>Promo2</th>\n",
              "      <th>Promo2SinceWeek</th>\n",
              "      <th>Promo2SinceYear</th>\n",
              "      <th>PromoInterval</th>\n",
              "    </tr>\n",
              "  </thead>\n",
              "  <tbody>\n",
              "    <tr>\n",
              "      <th>0</th>\n",
              "      <td>1</td>\n",
              "      <td>c</td>\n",
              "      <td>a</td>\n",
              "      <td>1270.0</td>\n",
              "      <td>9.0</td>\n",
              "      <td>2008.0</td>\n",
              "      <td>0</td>\n",
              "      <td>NaN</td>\n",
              "      <td>NaN</td>\n",
              "      <td>NaN</td>\n",
              "    </tr>\n",
              "    <tr>\n",
              "      <th>1</th>\n",
              "      <td>2</td>\n",
              "      <td>a</td>\n",
              "      <td>a</td>\n",
              "      <td>570.0</td>\n",
              "      <td>11.0</td>\n",
              "      <td>2007.0</td>\n",
              "      <td>1</td>\n",
              "      <td>13.0</td>\n",
              "      <td>2010.0</td>\n",
              "      <td>Jan,Apr,Jul,Oct</td>\n",
              "    </tr>\n",
              "    <tr>\n",
              "      <th>2</th>\n",
              "      <td>3</td>\n",
              "      <td>a</td>\n",
              "      <td>a</td>\n",
              "      <td>14130.0</td>\n",
              "      <td>12.0</td>\n",
              "      <td>2006.0</td>\n",
              "      <td>1</td>\n",
              "      <td>14.0</td>\n",
              "      <td>2011.0</td>\n",
              "      <td>Jan,Apr,Jul,Oct</td>\n",
              "    </tr>\n",
              "    <tr>\n",
              "      <th>3</th>\n",
              "      <td>4</td>\n",
              "      <td>c</td>\n",
              "      <td>c</td>\n",
              "      <td>620.0</td>\n",
              "      <td>9.0</td>\n",
              "      <td>2009.0</td>\n",
              "      <td>0</td>\n",
              "      <td>NaN</td>\n",
              "      <td>NaN</td>\n",
              "      <td>NaN</td>\n",
              "    </tr>\n",
              "    <tr>\n",
              "      <th>4</th>\n",
              "      <td>5</td>\n",
              "      <td>a</td>\n",
              "      <td>a</td>\n",
              "      <td>29910.0</td>\n",
              "      <td>4.0</td>\n",
              "      <td>2015.0</td>\n",
              "      <td>0</td>\n",
              "      <td>NaN</td>\n",
              "      <td>NaN</td>\n",
              "      <td>NaN</td>\n",
              "    </tr>\n",
              "  </tbody>\n",
              "</table>\n",
              "</div>"
            ],
            "text/plain": [
              "   Store StoreType Assortment  CompetitionDistance  CompetitionOpenSinceMonth  \\\n",
              "0      1         c          a               1270.0                        9.0   \n",
              "1      2         a          a                570.0                       11.0   \n",
              "2      3         a          a              14130.0                       12.0   \n",
              "3      4         c          c                620.0                        9.0   \n",
              "4      5         a          a              29910.0                        4.0   \n",
              "\n",
              "   CompetitionOpenSinceYear  Promo2  Promo2SinceWeek  Promo2SinceYear  \\\n",
              "0                    2008.0       0              NaN              NaN   \n",
              "1                    2007.0       1             13.0           2010.0   \n",
              "2                    2006.0       1             14.0           2011.0   \n",
              "3                    2009.0       0              NaN              NaN   \n",
              "4                    2015.0       0              NaN              NaN   \n",
              "\n",
              "     PromoInterval  \n",
              "0              NaN  \n",
              "1  Jan,Apr,Jul,Oct  \n",
              "2  Jan,Apr,Jul,Oct  \n",
              "3              NaN  \n",
              "4              NaN  "
            ]
          },
          "execution_count": 8,
          "metadata": {},
          "output_type": "execute_result"
        }
      ],
      "source": [
        "stores_data.head()"
      ]
    },
    {
      "cell_type": "code",
      "execution_count": null,
      "id": "e7e10954-3225-4260-aa1e-7e9ec0eab208",
      "metadata": {
        "id": "e7e10954-3225-4260-aa1e-7e9ec0eab208",
        "outputId": "e09d0914-0b84-4b6f-8e0f-2e3aabdfe0d5"
      },
      "outputs": [
        {
          "name": "stdout",
          "output_type": "stream",
          "text": [
            "<class 'pandas.core.frame.DataFrame'>\n",
            "RangeIndex: 1115 entries, 0 to 1114\n",
            "Data columns (total 10 columns):\n",
            " #   Column                     Non-Null Count  Dtype  \n",
            "---  ------                     --------------  -----  \n",
            " 0   Store                      1115 non-null   int64  \n",
            " 1   StoreType                  1115 non-null   object \n",
            " 2   Assortment                 1115 non-null   object \n",
            " 3   CompetitionDistance        1112 non-null   float64\n",
            " 4   CompetitionOpenSinceMonth  761 non-null    float64\n",
            " 5   CompetitionOpenSinceYear   761 non-null    float64\n",
            " 6   Promo2                     1115 non-null   int64  \n",
            " 7   Promo2SinceWeek            571 non-null    float64\n",
            " 8   Promo2SinceYear            571 non-null    float64\n",
            " 9   PromoInterval              571 non-null    object \n",
            "dtypes: float64(5), int64(2), object(3)\n",
            "memory usage: 87.2+ KB\n"
          ]
        }
      ],
      "source": [
        "stores_data.info()"
      ]
    },
    {
      "cell_type": "markdown",
      "id": "6e39b6a7-b0dc-4d37-b4eb-671091f19b66",
      "metadata": {
        "id": "6e39b6a7-b0dc-4d37-b4eb-671091f19b66"
      },
      "source": [
        "### Check for Duplicates"
      ]
    },
    {
      "cell_type": "code",
      "execution_count": null,
      "id": "9cc90bf7-bfe6-4e92-a780-0085c5be64e1",
      "metadata": {
        "id": "9cc90bf7-bfe6-4e92-a780-0085c5be64e1",
        "outputId": "c8b6db31-671f-410f-cccc-53b52b2305c2"
      },
      "outputs": [
        {
          "data": {
            "text/plain": [
              "77"
            ]
          },
          "execution_count": 10,
          "metadata": {},
          "output_type": "execute_result"
        }
      ],
      "source": [
        "sampled_sales_data.duplicated().sum()"
      ]
    },
    {
      "cell_type": "code",
      "execution_count": null,
      "id": "59fb5297-cb7d-40a3-b945-26b6f0ab99ea",
      "metadata": {
        "id": "59fb5297-cb7d-40a3-b945-26b6f0ab99ea"
      },
      "outputs": [],
      "source": [
        "sampled_sales_data.drop_duplicates(inplace=True)"
      ]
    },
    {
      "cell_type": "code",
      "execution_count": null,
      "id": "5b94c436-95a0-411d-b508-821481cee82d",
      "metadata": {
        "id": "5b94c436-95a0-411d-b508-821481cee82d",
        "outputId": "ae0ffc3c-3845-4b55-9223-51f0f4079098"
      },
      "outputs": [
        {
          "data": {
            "text/plain": [
              "0"
            ]
          },
          "execution_count": 12,
          "metadata": {},
          "output_type": "execute_result"
        }
      ],
      "source": [
        "sampled_sales_data.duplicated().sum()"
      ]
    },
    {
      "cell_type": "code",
      "execution_count": null,
      "id": "25416894-bb55-4d9c-bdf5-4f12d5dedc1c",
      "metadata": {
        "id": "25416894-bb55-4d9c-bdf5-4f12d5dedc1c",
        "outputId": "94daa21e-de2f-4910-8d75-ffd96f8a1167"
      },
      "outputs": [
        {
          "data": {
            "text/plain": [
              "0"
            ]
          },
          "execution_count": 13,
          "metadata": {},
          "output_type": "execute_result"
        }
      ],
      "source": [
        "stores_data.duplicated().sum()"
      ]
    },
    {
      "cell_type": "markdown",
      "id": "3b67aff2-0848-4dd9-b1d7-964617d158ea",
      "metadata": {
        "id": "3b67aff2-0848-4dd9-b1d7-964617d158ea"
      },
      "source": [
        "### Checking Distribution of Data"
      ]
    },
    {
      "cell_type": "code",
      "execution_count": null,
      "id": "673c3261-fe6f-4d1d-a6dc-623e60a0560d",
      "metadata": {
        "id": "673c3261-fe6f-4d1d-a6dc-623e60a0560d",
        "outputId": "ce1a8078-fe3c-4201-eb09-f92ddd3965a8"
      },
      "outputs": [
        {
          "data": {
            "text/plain": [
              "DayOfWeek\n",
              "4    18156\n",
              "3    15905\n",
              "1    15704\n",
              "7    14950\n",
              "6    13289\n",
              "2    12161\n",
              "5     9758\n",
              "Name: count, dtype: int64"
            ]
          },
          "execution_count": 14,
          "metadata": {},
          "output_type": "execute_result"
        }
      ],
      "source": [
        "sampled_sales_data['DayOfWeek'].value_counts()"
      ]
    },
    {
      "cell_type": "code",
      "execution_count": null,
      "id": "123dfec6-cd6c-4599-bd6b-9bfdeb7eb59f",
      "metadata": {
        "id": "123dfec6-cd6c-4599-bd6b-9bfdeb7eb59f",
        "outputId": "d2f63306-2908-4429-dd75-0a291363d95f"
      },
      "outputs": [
        {
          "data": {
            "text/plain": [
              "Open\n",
              "1    82902\n",
              "0    17021\n",
              "Name: count, dtype: int64"
            ]
          },
          "execution_count": 15,
          "metadata": {},
          "output_type": "execute_result"
        }
      ],
      "source": [
        "sampled_sales_data['Open'].value_counts()"
      ]
    },
    {
      "cell_type": "code",
      "execution_count": null,
      "id": "28d26650-bc30-431b-b903-368106f43617",
      "metadata": {
        "id": "28d26650-bc30-431b-b903-368106f43617",
        "outputId": "5d0cab91-1348-4fc1-84eb-dbbae0f5496b"
      },
      "outputs": [
        {
          "data": {
            "text/plain": [
              "Promo\n",
              "0    55069\n",
              "1    44854\n",
              "Name: count, dtype: int64"
            ]
          },
          "execution_count": 16,
          "metadata": {},
          "output_type": "execute_result"
        }
      ],
      "source": [
        "sampled_sales_data['Promo'].value_counts()"
      ]
    },
    {
      "cell_type": "code",
      "execution_count": null,
      "id": "559ddd46-8dd7-4da2-bcc0-137e6c777673",
      "metadata": {
        "id": "559ddd46-8dd7-4da2-bcc0-137e6c777673",
        "outputId": "85519943-ff87-4b3a-f481-66e21b7ac790"
      },
      "outputs": [
        {
          "data": {
            "text/plain": [
              "StateHoliday\n",
              "0    85232\n",
              "0    12356\n",
              "a     1215\n",
              "c      938\n",
              "b      182\n",
              "Name: count, dtype: int64"
            ]
          },
          "execution_count": 17,
          "metadata": {},
          "output_type": "execute_result"
        }
      ],
      "source": [
        "sampled_sales_data['StateHoliday'].value_counts()"
      ]
    },
    {
      "cell_type": "code",
      "execution_count": null,
      "id": "3a2d219e-0fe6-461d-a296-098170d6d523",
      "metadata": {
        "id": "3a2d219e-0fe6-461d-a296-098170d6d523",
        "outputId": "4b8389b2-d48d-497a-a68f-49d38ca7014b"
      },
      "outputs": [
        {
          "data": {
            "text/plain": [
              "array(['0', 0, 'a', 'c', 'b'], dtype=object)"
            ]
          },
          "execution_count": 18,
          "metadata": {},
          "output_type": "execute_result"
        }
      ],
      "source": [
        "sampled_sales_data['StateHoliday'].unique()"
      ]
    },
    {
      "cell_type": "code",
      "execution_count": null,
      "id": "2c2cc63b-14b6-450d-a455-91b1b607058f",
      "metadata": {
        "id": "2c2cc63b-14b6-450d-a455-91b1b607058f"
      },
      "outputs": [],
      "source": [
        "sampled_sales_data['StateHoliday'] = sampled_sales_data['StateHoliday'].apply(lambda x: 0 if x == '0' else x)"
      ]
    },
    {
      "cell_type": "code",
      "execution_count": null,
      "id": "8b9a8ace-39d8-407b-ba9b-205c7e74a349",
      "metadata": {
        "id": "8b9a8ace-39d8-407b-ba9b-205c7e74a349",
        "outputId": "cc614cc6-b954-45d8-e8a1-8bfd9fe1a2e2"
      },
      "outputs": [
        {
          "data": {
            "text/plain": [
              "StateHoliday\n",
              "0    97588\n",
              "a     1215\n",
              "c      938\n",
              "b      182\n",
              "Name: count, dtype: int64"
            ]
          },
          "execution_count": 20,
          "metadata": {},
          "output_type": "execute_result"
        }
      ],
      "source": [
        "sampled_sales_data['StateHoliday'].value_counts()"
      ]
    },
    {
      "cell_type": "code",
      "execution_count": null,
      "id": "2f691344-c6c5-48b4-a39a-c3fb8fab4c16",
      "metadata": {
        "id": "2f691344-c6c5-48b4-a39a-c3fb8fab4c16",
        "outputId": "55c436a9-f6b6-456c-81c0-e1672dc64331"
      },
      "outputs": [
        {
          "data": {
            "text/plain": [
              "SchoolHoliday\n",
              "0    82785\n",
              "1    17138\n",
              "Name: count, dtype: int64"
            ]
          },
          "execution_count": 21,
          "metadata": {},
          "output_type": "execute_result"
        }
      ],
      "source": [
        "sampled_sales_data['SchoolHoliday'].value_counts()"
      ]
    },
    {
      "cell_type": "code",
      "execution_count": null,
      "id": "b0c2a914-2b14-43b0-b051-b81564876438",
      "metadata": {
        "id": "b0c2a914-2b14-43b0-b051-b81564876438",
        "outputId": "c13e4516-0d77-4189-ef6e-2c0c4b820097"
      },
      "outputs": [
        {
          "data": {
            "text/plain": [
              "StoreType\n",
              "a    602\n",
              "d    348\n",
              "c    148\n",
              "b     17\n",
              "Name: count, dtype: int64"
            ]
          },
          "execution_count": 22,
          "metadata": {},
          "output_type": "execute_result"
        }
      ],
      "source": [
        "stores_data['StoreType'].value_counts()"
      ]
    },
    {
      "cell_type": "code",
      "execution_count": null,
      "id": "64a4bd68-a1b7-4846-8848-20e0730dc84f",
      "metadata": {
        "id": "64a4bd68-a1b7-4846-8848-20e0730dc84f",
        "outputId": "c0fe1539-c520-48cb-d36f-93861394a5b6"
      },
      "outputs": [
        {
          "data": {
            "text/plain": [
              "Assortment\n",
              "a    593\n",
              "c    513\n",
              "b      9\n",
              "Name: count, dtype: int64"
            ]
          },
          "execution_count": 23,
          "metadata": {},
          "output_type": "execute_result"
        }
      ],
      "source": [
        "stores_data['Assortment'].value_counts()"
      ]
    },
    {
      "cell_type": "code",
      "execution_count": null,
      "id": "8520053f-1b46-4bc3-850a-ba0673281ac8",
      "metadata": {
        "id": "8520053f-1b46-4bc3-850a-ba0673281ac8",
        "outputId": "f606fb85-cf94-4410-dc2d-09f572f1335e"
      },
      "outputs": [
        {
          "data": {
            "text/plain": [
              "Promo2\n",
              "1    571\n",
              "0    544\n",
              "Name: count, dtype: int64"
            ]
          },
          "execution_count": 24,
          "metadata": {},
          "output_type": "execute_result"
        }
      ],
      "source": [
        "stores_data['Promo2'].value_counts()"
      ]
    },
    {
      "cell_type": "code",
      "execution_count": null,
      "id": "c26d02c1-8e3e-4727-a9d1-90cb9850a888",
      "metadata": {
        "id": "c26d02c1-8e3e-4727-a9d1-90cb9850a888",
        "outputId": "211c49d2-69c2-4143-c9b8-d2749a0c7fdf"
      },
      "outputs": [
        {
          "data": {
            "text/plain": [
              "CompetitionOpenSinceMonth\n",
              "9.0     125\n",
              "4.0      94\n",
              "11.0     92\n",
              "3.0      70\n",
              "7.0      67\n",
              "12.0     64\n",
              "10.0     61\n",
              "6.0      50\n",
              "5.0      44\n",
              "2.0      41\n",
              "8.0      39\n",
              "1.0      14\n",
              "Name: count, dtype: int64"
            ]
          },
          "execution_count": 25,
          "metadata": {},
          "output_type": "execute_result"
        }
      ],
      "source": [
        "stores_data['CompetitionOpenSinceMonth'].value_counts()"
      ]
    },
    {
      "cell_type": "code",
      "execution_count": null,
      "id": "9a69b95f-24ef-4dbe-80b5-92e089abc303",
      "metadata": {
        "id": "9a69b95f-24ef-4dbe-80b5-92e089abc303",
        "outputId": "9db239df-e9ca-40bc-8add-bd72f02c0762"
      },
      "outputs": [
        {
          "data": {
            "text/plain": [
              "CompetitionOpenSinceYear\n",
              "2013.0    83\n",
              "2012.0    82\n",
              "2014.0    70\n",
              "2005.0    62\n",
              "2010.0    55\n",
              "2008.0    54\n",
              "2009.0    54\n",
              "2011.0    54\n",
              "2007.0    48\n",
              "2006.0    47\n",
              "2015.0    38\n",
              "2002.0    27\n",
              "2004.0    22\n",
              "2003.0    19\n",
              "2001.0    16\n",
              "2000.0    10\n",
              "1999.0     8\n",
              "1990.0     5\n",
              "1995.0     2\n",
              "1994.0     2\n",
              "1961.0     1\n",
              "1900.0     1\n",
              "1998.0     1\n",
              "Name: count, dtype: int64"
            ]
          },
          "execution_count": 26,
          "metadata": {},
          "output_type": "execute_result"
        }
      ],
      "source": [
        "stores_data['CompetitionOpenSinceYear'].value_counts()"
      ]
    },
    {
      "cell_type": "code",
      "execution_count": null,
      "id": "859cc420-4464-43ad-8f5c-6ac0770babfe",
      "metadata": {
        "id": "859cc420-4464-43ad-8f5c-6ac0770babfe",
        "outputId": "4bf6d013-86e3-42d5-d7a7-f6c88ba339ab"
      },
      "outputs": [
        {
          "data": {
            "text/plain": [
              "PromoInterval\n",
              "Jan,Apr,Jul,Oct     335\n",
              "Feb,May,Aug,Nov     130\n",
              "Mar,Jun,Sept,Dec    106\n",
              "Name: count, dtype: int64"
            ]
          },
          "execution_count": 27,
          "metadata": {},
          "output_type": "execute_result"
        }
      ],
      "source": [
        "stores_data['PromoInterval'].value_counts()"
      ]
    },
    {
      "cell_type": "markdown",
      "id": "517b4076-730b-4dd7-8f89-a1d748fba7c3",
      "metadata": {
        "id": "517b4076-730b-4dd7-8f89-a1d748fba7c3"
      },
      "source": [
        "### Combine Two Datasets"
      ]
    },
    {
      "cell_type": "code",
      "execution_count": null,
      "id": "0d5f0809-d4de-43ae-be5e-96ba0762938a",
      "metadata": {
        "id": "0d5f0809-d4de-43ae-be5e-96ba0762938a"
      },
      "outputs": [],
      "source": [
        "combined_data = pd.merge(sampled_sales_data, stores_data, on='Store', how='inner')"
      ]
    },
    {
      "cell_type": "code",
      "execution_count": null,
      "id": "074e068a-c531-4561-822f-6caa3770b29c",
      "metadata": {
        "id": "074e068a-c531-4561-822f-6caa3770b29c",
        "outputId": "aef00902-17e6-481f-ed41-bff37f0fb151"
      },
      "outputs": [
        {
          "data": {
            "text/html": [
              "<div>\n",
              "<style scoped>\n",
              "    .dataframe tbody tr th:only-of-type {\n",
              "        vertical-align: middle;\n",
              "    }\n",
              "\n",
              "    .dataframe tbody tr th {\n",
              "        vertical-align: top;\n",
              "    }\n",
              "\n",
              "    .dataframe thead th {\n",
              "        text-align: right;\n",
              "    }\n",
              "</style>\n",
              "<table border=\"1\" class=\"dataframe\">\n",
              "  <thead>\n",
              "    <tr style=\"text-align: right;\">\n",
              "      <th></th>\n",
              "      <th>Store</th>\n",
              "      <th>DayOfWeek</th>\n",
              "      <th>Date</th>\n",
              "      <th>Sales</th>\n",
              "      <th>Customers</th>\n",
              "      <th>Open</th>\n",
              "      <th>Promo</th>\n",
              "      <th>StateHoliday</th>\n",
              "      <th>SchoolHoliday</th>\n",
              "      <th>StoreType</th>\n",
              "      <th>Assortment</th>\n",
              "      <th>CompetitionDistance</th>\n",
              "      <th>CompetitionOpenSinceMonth</th>\n",
              "      <th>CompetitionOpenSinceYear</th>\n",
              "      <th>Promo2</th>\n",
              "      <th>Promo2SinceWeek</th>\n",
              "      <th>Promo2SinceYear</th>\n",
              "      <th>PromoInterval</th>\n",
              "    </tr>\n",
              "  </thead>\n",
              "  <tbody>\n",
              "    <tr>\n",
              "      <th>0</th>\n",
              "      <td>1</td>\n",
              "      <td>4</td>\n",
              "      <td>07-05-2015</td>\n",
              "      <td>4529</td>\n",
              "      <td>491</td>\n",
              "      <td>1</td>\n",
              "      <td>1</td>\n",
              "      <td>0</td>\n",
              "      <td>0</td>\n",
              "      <td>c</td>\n",
              "      <td>a</td>\n",
              "      <td>1270.0</td>\n",
              "      <td>9.0</td>\n",
              "      <td>2008.0</td>\n",
              "      <td>0</td>\n",
              "      <td>NaN</td>\n",
              "      <td>NaN</td>\n",
              "      <td>NaN</td>\n",
              "    </tr>\n",
              "    <tr>\n",
              "      <th>1</th>\n",
              "      <td>1</td>\n",
              "      <td>4</td>\n",
              "      <td>24-01-2013</td>\n",
              "      <td>5195</td>\n",
              "      <td>645</td>\n",
              "      <td>1</td>\n",
              "      <td>1</td>\n",
              "      <td>0</td>\n",
              "      <td>0</td>\n",
              "      <td>c</td>\n",
              "      <td>a</td>\n",
              "      <td>1270.0</td>\n",
              "      <td>9.0</td>\n",
              "      <td>2008.0</td>\n",
              "      <td>0</td>\n",
              "      <td>NaN</td>\n",
              "      <td>NaN</td>\n",
              "      <td>NaN</td>\n",
              "    </tr>\n",
              "    <tr>\n",
              "      <th>2</th>\n",
              "      <td>1</td>\n",
              "      <td>4</td>\n",
              "      <td>11-07-2013</td>\n",
              "      <td>4053</td>\n",
              "      <td>486</td>\n",
              "      <td>1</td>\n",
              "      <td>0</td>\n",
              "      <td>0</td>\n",
              "      <td>1</td>\n",
              "      <td>c</td>\n",
              "      <td>a</td>\n",
              "      <td>1270.0</td>\n",
              "      <td>9.0</td>\n",
              "      <td>2008.0</td>\n",
              "      <td>0</td>\n",
              "      <td>NaN</td>\n",
              "      <td>NaN</td>\n",
              "      <td>NaN</td>\n",
              "    </tr>\n",
              "    <tr>\n",
              "      <th>3</th>\n",
              "      <td>1</td>\n",
              "      <td>2</td>\n",
              "      <td>18-06-2013</td>\n",
              "      <td>4633</td>\n",
              "      <td>554</td>\n",
              "      <td>1</td>\n",
              "      <td>1</td>\n",
              "      <td>0</td>\n",
              "      <td>0</td>\n",
              "      <td>c</td>\n",
              "      <td>a</td>\n",
              "      <td>1270.0</td>\n",
              "      <td>9.0</td>\n",
              "      <td>2008.0</td>\n",
              "      <td>0</td>\n",
              "      <td>NaN</td>\n",
              "      <td>NaN</td>\n",
              "      <td>NaN</td>\n",
              "    </tr>\n",
              "    <tr>\n",
              "      <th>4</th>\n",
              "      <td>1</td>\n",
              "      <td>4</td>\n",
              "      <td>12-09-2013</td>\n",
              "      <td>5079</td>\n",
              "      <td>586</td>\n",
              "      <td>1</td>\n",
              "      <td>1</td>\n",
              "      <td>0</td>\n",
              "      <td>0</td>\n",
              "      <td>c</td>\n",
              "      <td>a</td>\n",
              "      <td>1270.0</td>\n",
              "      <td>9.0</td>\n",
              "      <td>2008.0</td>\n",
              "      <td>0</td>\n",
              "      <td>NaN</td>\n",
              "      <td>NaN</td>\n",
              "      <td>NaN</td>\n",
              "    </tr>\n",
              "    <tr>\n",
              "      <th>5</th>\n",
              "      <td>1</td>\n",
              "      <td>4</td>\n",
              "      <td>21-05-2015</td>\n",
              "      <td>3755</td>\n",
              "      <td>471</td>\n",
              "      <td>1</td>\n",
              "      <td>1</td>\n",
              "      <td>0</td>\n",
              "      <td>0</td>\n",
              "      <td>c</td>\n",
              "      <td>a</td>\n",
              "      <td>1270.0</td>\n",
              "      <td>9.0</td>\n",
              "      <td>2008.0</td>\n",
              "      <td>0</td>\n",
              "      <td>NaN</td>\n",
              "      <td>NaN</td>\n",
              "      <td>NaN</td>\n",
              "    </tr>\n",
              "    <tr>\n",
              "      <th>6</th>\n",
              "      <td>1</td>\n",
              "      <td>1</td>\n",
              "      <td>23-12-2013</td>\n",
              "      <td>9528</td>\n",
              "      <td>1130</td>\n",
              "      <td>1</td>\n",
              "      <td>0</td>\n",
              "      <td>0</td>\n",
              "      <td>1</td>\n",
              "      <td>c</td>\n",
              "      <td>a</td>\n",
              "      <td>1270.0</td>\n",
              "      <td>9.0</td>\n",
              "      <td>2008.0</td>\n",
              "      <td>0</td>\n",
              "      <td>NaN</td>\n",
              "      <td>NaN</td>\n",
              "      <td>NaN</td>\n",
              "    </tr>\n",
              "    <tr>\n",
              "      <th>7</th>\n",
              "      <td>1</td>\n",
              "      <td>6</td>\n",
              "      <td>17-08-2013</td>\n",
              "      <td>4078</td>\n",
              "      <td>503</td>\n",
              "      <td>1</td>\n",
              "      <td>0</td>\n",
              "      <td>0</td>\n",
              "      <td>0</td>\n",
              "      <td>c</td>\n",
              "      <td>a</td>\n",
              "      <td>1270.0</td>\n",
              "      <td>9.0</td>\n",
              "      <td>2008.0</td>\n",
              "      <td>0</td>\n",
              "      <td>NaN</td>\n",
              "      <td>NaN</td>\n",
              "      <td>NaN</td>\n",
              "    </tr>\n",
              "    <tr>\n",
              "      <th>8</th>\n",
              "      <td>1</td>\n",
              "      <td>2</td>\n",
              "      <td>05-08-2014</td>\n",
              "      <td>5433</td>\n",
              "      <td>620</td>\n",
              "      <td>1</td>\n",
              "      <td>1</td>\n",
              "      <td>0</td>\n",
              "      <td>1</td>\n",
              "      <td>c</td>\n",
              "      <td>a</td>\n",
              "      <td>1270.0</td>\n",
              "      <td>9.0</td>\n",
              "      <td>2008.0</td>\n",
              "      <td>0</td>\n",
              "      <td>NaN</td>\n",
              "      <td>NaN</td>\n",
              "      <td>NaN</td>\n",
              "    </tr>\n",
              "    <tr>\n",
              "      <th>9</th>\n",
              "      <td>1</td>\n",
              "      <td>7</td>\n",
              "      <td>16-03-2014</td>\n",
              "      <td>0</td>\n",
              "      <td>0</td>\n",
              "      <td>0</td>\n",
              "      <td>0</td>\n",
              "      <td>0</td>\n",
              "      <td>0</td>\n",
              "      <td>c</td>\n",
              "      <td>a</td>\n",
              "      <td>1270.0</td>\n",
              "      <td>9.0</td>\n",
              "      <td>2008.0</td>\n",
              "      <td>0</td>\n",
              "      <td>NaN</td>\n",
              "      <td>NaN</td>\n",
              "      <td>NaN</td>\n",
              "    </tr>\n",
              "    <tr>\n",
              "      <th>10</th>\n",
              "      <td>1</td>\n",
              "      <td>1</td>\n",
              "      <td>14-04-2014</td>\n",
              "      <td>6803</td>\n",
              "      <td>693</td>\n",
              "      <td>1</td>\n",
              "      <td>1</td>\n",
              "      <td>0</td>\n",
              "      <td>1</td>\n",
              "      <td>c</td>\n",
              "      <td>a</td>\n",
              "      <td>1270.0</td>\n",
              "      <td>9.0</td>\n",
              "      <td>2008.0</td>\n",
              "      <td>0</td>\n",
              "      <td>NaN</td>\n",
              "      <td>NaN</td>\n",
              "      <td>NaN</td>\n",
              "    </tr>\n",
              "    <tr>\n",
              "      <th>11</th>\n",
              "      <td>1</td>\n",
              "      <td>4</td>\n",
              "      <td>17-01-2013</td>\n",
              "      <td>4044</td>\n",
              "      <td>503</td>\n",
              "      <td>1</td>\n",
              "      <td>0</td>\n",
              "      <td>0</td>\n",
              "      <td>0</td>\n",
              "      <td>c</td>\n",
              "      <td>a</td>\n",
              "      <td>1270.0</td>\n",
              "      <td>9.0</td>\n",
              "      <td>2008.0</td>\n",
              "      <td>0</td>\n",
              "      <td>NaN</td>\n",
              "      <td>NaN</td>\n",
              "      <td>NaN</td>\n",
              "    </tr>\n",
              "    <tr>\n",
              "      <th>12</th>\n",
              "      <td>1</td>\n",
              "      <td>3</td>\n",
              "      <td>24-04-2013</td>\n",
              "      <td>4309</td>\n",
              "      <td>512</td>\n",
              "      <td>1</td>\n",
              "      <td>1</td>\n",
              "      <td>0</td>\n",
              "      <td>0</td>\n",
              "      <td>c</td>\n",
              "      <td>a</td>\n",
              "      <td>1270.0</td>\n",
              "      <td>9.0</td>\n",
              "      <td>2008.0</td>\n",
              "      <td>0</td>\n",
              "      <td>NaN</td>\n",
              "      <td>NaN</td>\n",
              "      <td>NaN</td>\n",
              "    </tr>\n",
              "    <tr>\n",
              "      <th>13</th>\n",
              "      <td>1</td>\n",
              "      <td>6</td>\n",
              "      <td>31-01-2015</td>\n",
              "      <td>5363</td>\n",
              "      <td>638</td>\n",
              "      <td>1</td>\n",
              "      <td>0</td>\n",
              "      <td>0</td>\n",
              "      <td>0</td>\n",
              "      <td>c</td>\n",
              "      <td>a</td>\n",
              "      <td>1270.0</td>\n",
              "      <td>9.0</td>\n",
              "      <td>2008.0</td>\n",
              "      <td>0</td>\n",
              "      <td>NaN</td>\n",
              "      <td>NaN</td>\n",
              "      <td>NaN</td>\n",
              "    </tr>\n",
              "    <tr>\n",
              "      <th>14</th>\n",
              "      <td>1</td>\n",
              "      <td>6</td>\n",
              "      <td>09-02-2013</td>\n",
              "      <td>5370</td>\n",
              "      <td>656</td>\n",
              "      <td>1</td>\n",
              "      <td>0</td>\n",
              "      <td>0</td>\n",
              "      <td>0</td>\n",
              "      <td>c</td>\n",
              "      <td>a</td>\n",
              "      <td>1270.0</td>\n",
              "      <td>9.0</td>\n",
              "      <td>2008.0</td>\n",
              "      <td>0</td>\n",
              "      <td>NaN</td>\n",
              "      <td>NaN</td>\n",
              "      <td>NaN</td>\n",
              "    </tr>\n",
              "    <tr>\n",
              "      <th>15</th>\n",
              "      <td>1</td>\n",
              "      <td>7</td>\n",
              "      <td>01-03-2015</td>\n",
              "      <td>0</td>\n",
              "      <td>0</td>\n",
              "      <td>0</td>\n",
              "      <td>0</td>\n",
              "      <td>0</td>\n",
              "      <td>0</td>\n",
              "      <td>c</td>\n",
              "      <td>a</td>\n",
              "      <td>1270.0</td>\n",
              "      <td>9.0</td>\n",
              "      <td>2008.0</td>\n",
              "      <td>0</td>\n",
              "      <td>NaN</td>\n",
              "      <td>NaN</td>\n",
              "      <td>NaN</td>\n",
              "    </tr>\n",
              "    <tr>\n",
              "      <th>16</th>\n",
              "      <td>1</td>\n",
              "      <td>3</td>\n",
              "      <td>27-02-2013</td>\n",
              "      <td>4558</td>\n",
              "      <td>579</td>\n",
              "      <td>1</td>\n",
              "      <td>0</td>\n",
              "      <td>0</td>\n",
              "      <td>0</td>\n",
              "      <td>c</td>\n",
              "      <td>a</td>\n",
              "      <td>1270.0</td>\n",
              "      <td>9.0</td>\n",
              "      <td>2008.0</td>\n",
              "      <td>0</td>\n",
              "      <td>NaN</td>\n",
              "      <td>NaN</td>\n",
              "      <td>NaN</td>\n",
              "    </tr>\n",
              "    <tr>\n",
              "      <th>17</th>\n",
              "      <td>1</td>\n",
              "      <td>1</td>\n",
              "      <td>15-09-2014</td>\n",
              "      <td>4611</td>\n",
              "      <td>545</td>\n",
              "      <td>1</td>\n",
              "      <td>1</td>\n",
              "      <td>0</td>\n",
              "      <td>0</td>\n",
              "      <td>c</td>\n",
              "      <td>a</td>\n",
              "      <td>1270.0</td>\n",
              "      <td>9.0</td>\n",
              "      <td>2008.0</td>\n",
              "      <td>0</td>\n",
              "      <td>NaN</td>\n",
              "      <td>NaN</td>\n",
              "      <td>NaN</td>\n",
              "    </tr>\n",
              "    <tr>\n",
              "      <th>18</th>\n",
              "      <td>1</td>\n",
              "      <td>2</td>\n",
              "      <td>04-11-2014</td>\n",
              "      <td>5253</td>\n",
              "      <td>586</td>\n",
              "      <td>1</td>\n",
              "      <td>1</td>\n",
              "      <td>0</td>\n",
              "      <td>0</td>\n",
              "      <td>c</td>\n",
              "      <td>a</td>\n",
              "      <td>1270.0</td>\n",
              "      <td>9.0</td>\n",
              "      <td>2008.0</td>\n",
              "      <td>0</td>\n",
              "      <td>NaN</td>\n",
              "      <td>NaN</td>\n",
              "      <td>NaN</td>\n",
              "    </tr>\n",
              "    <tr>\n",
              "      <th>19</th>\n",
              "      <td>1</td>\n",
              "      <td>7</td>\n",
              "      <td>12-04-2015</td>\n",
              "      <td>0</td>\n",
              "      <td>0</td>\n",
              "      <td>0</td>\n",
              "      <td>0</td>\n",
              "      <td>0</td>\n",
              "      <td>0</td>\n",
              "      <td>c</td>\n",
              "      <td>a</td>\n",
              "      <td>1270.0</td>\n",
              "      <td>9.0</td>\n",
              "      <td>2008.0</td>\n",
              "      <td>0</td>\n",
              "      <td>NaN</td>\n",
              "      <td>NaN</td>\n",
              "      <td>NaN</td>\n",
              "    </tr>\n",
              "    <tr>\n",
              "      <th>20</th>\n",
              "      <td>1</td>\n",
              "      <td>3</td>\n",
              "      <td>09-04-2014</td>\n",
              "      <td>3919</td>\n",
              "      <td>528</td>\n",
              "      <td>1</td>\n",
              "      <td>0</td>\n",
              "      <td>0</td>\n",
              "      <td>0</td>\n",
              "      <td>c</td>\n",
              "      <td>a</td>\n",
              "      <td>1270.0</td>\n",
              "      <td>9.0</td>\n",
              "      <td>2008.0</td>\n",
              "      <td>0</td>\n",
              "      <td>NaN</td>\n",
              "      <td>NaN</td>\n",
              "      <td>NaN</td>\n",
              "    </tr>\n",
              "    <tr>\n",
              "      <th>21</th>\n",
              "      <td>1</td>\n",
              "      <td>7</td>\n",
              "      <td>20-01-2013</td>\n",
              "      <td>0</td>\n",
              "      <td>0</td>\n",
              "      <td>0</td>\n",
              "      <td>0</td>\n",
              "      <td>0</td>\n",
              "      <td>0</td>\n",
              "      <td>c</td>\n",
              "      <td>a</td>\n",
              "      <td>1270.0</td>\n",
              "      <td>9.0</td>\n",
              "      <td>2008.0</td>\n",
              "      <td>0</td>\n",
              "      <td>NaN</td>\n",
              "      <td>NaN</td>\n",
              "      <td>NaN</td>\n",
              "    </tr>\n",
              "    <tr>\n",
              "      <th>22</th>\n",
              "      <td>1</td>\n",
              "      <td>1</td>\n",
              "      <td>06-05-2013</td>\n",
              "      <td>4568</td>\n",
              "      <td>562</td>\n",
              "      <td>1</td>\n",
              "      <td>0</td>\n",
              "      <td>0</td>\n",
              "      <td>0</td>\n",
              "      <td>c</td>\n",
              "      <td>a</td>\n",
              "      <td>1270.0</td>\n",
              "      <td>9.0</td>\n",
              "      <td>2008.0</td>\n",
              "      <td>0</td>\n",
              "      <td>NaN</td>\n",
              "      <td>NaN</td>\n",
              "      <td>NaN</td>\n",
              "    </tr>\n",
              "    <tr>\n",
              "      <th>23</th>\n",
              "      <td>1</td>\n",
              "      <td>2</td>\n",
              "      <td>04-03-2014</td>\n",
              "      <td>5397</td>\n",
              "      <td>619</td>\n",
              "      <td>1</td>\n",
              "      <td>1</td>\n",
              "      <td>0</td>\n",
              "      <td>0</td>\n",
              "      <td>c</td>\n",
              "      <td>a</td>\n",
              "      <td>1270.0</td>\n",
              "      <td>9.0</td>\n",
              "      <td>2008.0</td>\n",
              "      <td>0</td>\n",
              "      <td>NaN</td>\n",
              "      <td>NaN</td>\n",
              "      <td>NaN</td>\n",
              "    </tr>\n",
              "    <tr>\n",
              "      <th>24</th>\n",
              "      <td>1</td>\n",
              "      <td>3</td>\n",
              "      <td>29-10-2014</td>\n",
              "      <td>3761</td>\n",
              "      <td>449</td>\n",
              "      <td>1</td>\n",
              "      <td>0</td>\n",
              "      <td>0</td>\n",
              "      <td>1</td>\n",
              "      <td>c</td>\n",
              "      <td>a</td>\n",
              "      <td>1270.0</td>\n",
              "      <td>9.0</td>\n",
              "      <td>2008.0</td>\n",
              "      <td>0</td>\n",
              "      <td>NaN</td>\n",
              "      <td>NaN</td>\n",
              "      <td>NaN</td>\n",
              "    </tr>\n",
              "    <tr>\n",
              "      <th>25</th>\n",
              "      <td>1</td>\n",
              "      <td>3</td>\n",
              "      <td>29-04-2015</td>\n",
              "      <td>5775</td>\n",
              "      <td>579</td>\n",
              "      <td>1</td>\n",
              "      <td>1</td>\n",
              "      <td>0</td>\n",
              "      <td>0</td>\n",
              "      <td>c</td>\n",
              "      <td>a</td>\n",
              "      <td>1270.0</td>\n",
              "      <td>9.0</td>\n",
              "      <td>2008.0</td>\n",
              "      <td>0</td>\n",
              "      <td>NaN</td>\n",
              "      <td>NaN</td>\n",
              "      <td>NaN</td>\n",
              "    </tr>\n",
              "    <tr>\n",
              "      <th>26</th>\n",
              "      <td>1</td>\n",
              "      <td>4</td>\n",
              "      <td>28-05-2015</td>\n",
              "      <td>4111</td>\n",
              "      <td>474</td>\n",
              "      <td>1</td>\n",
              "      <td>0</td>\n",
              "      <td>0</td>\n",
              "      <td>0</td>\n",
              "      <td>c</td>\n",
              "      <td>a</td>\n",
              "      <td>1270.0</td>\n",
              "      <td>9.0</td>\n",
              "      <td>2008.0</td>\n",
              "      <td>0</td>\n",
              "      <td>NaN</td>\n",
              "      <td>NaN</td>\n",
              "      <td>NaN</td>\n",
              "    </tr>\n",
              "    <tr>\n",
              "      <th>27</th>\n",
              "      <td>1</td>\n",
              "      <td>2</td>\n",
              "      <td>20-01-2015</td>\n",
              "      <td>3680</td>\n",
              "      <td>462</td>\n",
              "      <td>1</td>\n",
              "      <td>0</td>\n",
              "      <td>0</td>\n",
              "      <td>0</td>\n",
              "      <td>c</td>\n",
              "      <td>a</td>\n",
              "      <td>1270.0</td>\n",
              "      <td>9.0</td>\n",
              "      <td>2008.0</td>\n",
              "      <td>0</td>\n",
              "      <td>NaN</td>\n",
              "      <td>NaN</td>\n",
              "      <td>NaN</td>\n",
              "    </tr>\n",
              "    <tr>\n",
              "      <th>28</th>\n",
              "      <td>1</td>\n",
              "      <td>7</td>\n",
              "      <td>17-02-2013</td>\n",
              "      <td>0</td>\n",
              "      <td>0</td>\n",
              "      <td>0</td>\n",
              "      <td>0</td>\n",
              "      <td>0</td>\n",
              "      <td>0</td>\n",
              "      <td>c</td>\n",
              "      <td>a</td>\n",
              "      <td>1270.0</td>\n",
              "      <td>9.0</td>\n",
              "      <td>2008.0</td>\n",
              "      <td>0</td>\n",
              "      <td>NaN</td>\n",
              "      <td>NaN</td>\n",
              "      <td>NaN</td>\n",
              "    </tr>\n",
              "    <tr>\n",
              "      <th>29</th>\n",
              "      <td>1</td>\n",
              "      <td>6</td>\n",
              "      <td>06-04-2013</td>\n",
              "      <td>5075</td>\n",
              "      <td>657</td>\n",
              "      <td>1</td>\n",
              "      <td>0</td>\n",
              "      <td>0</td>\n",
              "      <td>0</td>\n",
              "      <td>c</td>\n",
              "      <td>a</td>\n",
              "      <td>1270.0</td>\n",
              "      <td>9.0</td>\n",
              "      <td>2008.0</td>\n",
              "      <td>0</td>\n",
              "      <td>NaN</td>\n",
              "      <td>NaN</td>\n",
              "      <td>NaN</td>\n",
              "    </tr>\n",
              "    <tr>\n",
              "      <th>30</th>\n",
              "      <td>1</td>\n",
              "      <td>7</td>\n",
              "      <td>09-02-2014</td>\n",
              "      <td>0</td>\n",
              "      <td>0</td>\n",
              "      <td>0</td>\n",
              "      <td>0</td>\n",
              "      <td>0</td>\n",
              "      <td>0</td>\n",
              "      <td>c</td>\n",
              "      <td>a</td>\n",
              "      <td>1270.0</td>\n",
              "      <td>9.0</td>\n",
              "      <td>2008.0</td>\n",
              "      <td>0</td>\n",
              "      <td>NaN</td>\n",
              "      <td>NaN</td>\n",
              "      <td>NaN</td>\n",
              "    </tr>\n",
              "    <tr>\n",
              "      <th>31</th>\n",
              "      <td>1</td>\n",
              "      <td>1</td>\n",
              "      <td>26-08-2013</td>\n",
              "      <td>5482</td>\n",
              "      <td>613</td>\n",
              "      <td>1</td>\n",
              "      <td>1</td>\n",
              "      <td>0</td>\n",
              "      <td>0</td>\n",
              "      <td>c</td>\n",
              "      <td>a</td>\n",
              "      <td>1270.0</td>\n",
              "      <td>9.0</td>\n",
              "      <td>2008.0</td>\n",
              "      <td>0</td>\n",
              "      <td>NaN</td>\n",
              "      <td>NaN</td>\n",
              "      <td>NaN</td>\n",
              "    </tr>\n",
              "    <tr>\n",
              "      <th>32</th>\n",
              "      <td>1</td>\n",
              "      <td>6</td>\n",
              "      <td>21-09-2013</td>\n",
              "      <td>3909</td>\n",
              "      <td>522</td>\n",
              "      <td>1</td>\n",
              "      <td>0</td>\n",
              "      <td>0</td>\n",
              "      <td>0</td>\n",
              "      <td>c</td>\n",
              "      <td>a</td>\n",
              "      <td>1270.0</td>\n",
              "      <td>9.0</td>\n",
              "      <td>2008.0</td>\n",
              "      <td>0</td>\n",
              "      <td>NaN</td>\n",
              "      <td>NaN</td>\n",
              "      <td>NaN</td>\n",
              "    </tr>\n",
              "    <tr>\n",
              "      <th>33</th>\n",
              "      <td>1</td>\n",
              "      <td>7</td>\n",
              "      <td>06-07-2014</td>\n",
              "      <td>0</td>\n",
              "      <td>0</td>\n",
              "      <td>0</td>\n",
              "      <td>0</td>\n",
              "      <td>0</td>\n",
              "      <td>0</td>\n",
              "      <td>c</td>\n",
              "      <td>a</td>\n",
              "      <td>1270.0</td>\n",
              "      <td>9.0</td>\n",
              "      <td>2008.0</td>\n",
              "      <td>0</td>\n",
              "      <td>NaN</td>\n",
              "      <td>NaN</td>\n",
              "      <td>NaN</td>\n",
              "    </tr>\n",
              "    <tr>\n",
              "      <th>34</th>\n",
              "      <td>1</td>\n",
              "      <td>3</td>\n",
              "      <td>30-04-2014</td>\n",
              "      <td>5870</td>\n",
              "      <td>624</td>\n",
              "      <td>1</td>\n",
              "      <td>1</td>\n",
              "      <td>0</td>\n",
              "      <td>0</td>\n",
              "      <td>c</td>\n",
              "      <td>a</td>\n",
              "      <td>1270.0</td>\n",
              "      <td>9.0</td>\n",
              "      <td>2008.0</td>\n",
              "      <td>0</td>\n",
              "      <td>NaN</td>\n",
              "      <td>NaN</td>\n",
              "      <td>NaN</td>\n",
              "    </tr>\n",
              "    <tr>\n",
              "      <th>35</th>\n",
              "      <td>1</td>\n",
              "      <td>1</td>\n",
              "      <td>08-07-2013</td>\n",
              "      <td>4475</td>\n",
              "      <td>523</td>\n",
              "      <td>1</td>\n",
              "      <td>0</td>\n",
              "      <td>0</td>\n",
              "      <td>1</td>\n",
              "      <td>c</td>\n",
              "      <td>a</td>\n",
              "      <td>1270.0</td>\n",
              "      <td>9.0</td>\n",
              "      <td>2008.0</td>\n",
              "      <td>0</td>\n",
              "      <td>NaN</td>\n",
              "      <td>NaN</td>\n",
              "      <td>NaN</td>\n",
              "    </tr>\n",
              "    <tr>\n",
              "      <th>36</th>\n",
              "      <td>1</td>\n",
              "      <td>1</td>\n",
              "      <td>28-10-2013</td>\n",
              "      <td>3557</td>\n",
              "      <td>494</td>\n",
              "      <td>1</td>\n",
              "      <td>0</td>\n",
              "      <td>0</td>\n",
              "      <td>0</td>\n",
              "      <td>c</td>\n",
              "      <td>a</td>\n",
              "      <td>1270.0</td>\n",
              "      <td>9.0</td>\n",
              "      <td>2008.0</td>\n",
              "      <td>0</td>\n",
              "      <td>NaN</td>\n",
              "      <td>NaN</td>\n",
              "      <td>NaN</td>\n",
              "    </tr>\n",
              "    <tr>\n",
              "      <th>37</th>\n",
              "      <td>1</td>\n",
              "      <td>5</td>\n",
              "      <td>17-07-2015</td>\n",
              "      <td>4852</td>\n",
              "      <td>519</td>\n",
              "      <td>1</td>\n",
              "      <td>1</td>\n",
              "      <td>0</td>\n",
              "      <td>0</td>\n",
              "      <td>c</td>\n",
              "      <td>a</td>\n",
              "      <td>1270.0</td>\n",
              "      <td>9.0</td>\n",
              "      <td>2008.0</td>\n",
              "      <td>0</td>\n",
              "      <td>NaN</td>\n",
              "      <td>NaN</td>\n",
              "      <td>NaN</td>\n",
              "    </tr>\n",
              "    <tr>\n",
              "      <th>38</th>\n",
              "      <td>1</td>\n",
              "      <td>3</td>\n",
              "      <td>11-06-2014</td>\n",
              "      <td>4207</td>\n",
              "      <td>535</td>\n",
              "      <td>1</td>\n",
              "      <td>0</td>\n",
              "      <td>0</td>\n",
              "      <td>0</td>\n",
              "      <td>c</td>\n",
              "      <td>a</td>\n",
              "      <td>1270.0</td>\n",
              "      <td>9.0</td>\n",
              "      <td>2008.0</td>\n",
              "      <td>0</td>\n",
              "      <td>NaN</td>\n",
              "      <td>NaN</td>\n",
              "      <td>NaN</td>\n",
              "    </tr>\n",
              "    <tr>\n",
              "      <th>39</th>\n",
              "      <td>1</td>\n",
              "      <td>5</td>\n",
              "      <td>16-01-2015</td>\n",
              "      <td>4161</td>\n",
              "      <td>524</td>\n",
              "      <td>1</td>\n",
              "      <td>1</td>\n",
              "      <td>0</td>\n",
              "      <td>0</td>\n",
              "      <td>c</td>\n",
              "      <td>a</td>\n",
              "      <td>1270.0</td>\n",
              "      <td>9.0</td>\n",
              "      <td>2008.0</td>\n",
              "      <td>0</td>\n",
              "      <td>NaN</td>\n",
              "      <td>NaN</td>\n",
              "      <td>NaN</td>\n",
              "    </tr>\n",
              "    <tr>\n",
              "      <th>40</th>\n",
              "      <td>1</td>\n",
              "      <td>4</td>\n",
              "      <td>08-01-2015</td>\n",
              "      <td>3716</td>\n",
              "      <td>457</td>\n",
              "      <td>1</td>\n",
              "      <td>1</td>\n",
              "      <td>0</td>\n",
              "      <td>1</td>\n",
              "      <td>c</td>\n",
              "      <td>a</td>\n",
              "      <td>1270.0</td>\n",
              "      <td>9.0</td>\n",
              "      <td>2008.0</td>\n",
              "      <td>0</td>\n",
              "      <td>NaN</td>\n",
              "      <td>NaN</td>\n",
              "      <td>NaN</td>\n",
              "    </tr>\n",
              "    <tr>\n",
              "      <th>41</th>\n",
              "      <td>1</td>\n",
              "      <td>3</td>\n",
              "      <td>23-04-2014</td>\n",
              "      <td>3482</td>\n",
              "      <td>434</td>\n",
              "      <td>1</td>\n",
              "      <td>0</td>\n",
              "      <td>0</td>\n",
              "      <td>1</td>\n",
              "      <td>c</td>\n",
              "      <td>a</td>\n",
              "      <td>1270.0</td>\n",
              "      <td>9.0</td>\n",
              "      <td>2008.0</td>\n",
              "      <td>0</td>\n",
              "      <td>NaN</td>\n",
              "      <td>NaN</td>\n",
              "      <td>NaN</td>\n",
              "    </tr>\n",
              "    <tr>\n",
              "      <th>42</th>\n",
              "      <td>1</td>\n",
              "      <td>7</td>\n",
              "      <td>28-04-2013</td>\n",
              "      <td>0</td>\n",
              "      <td>0</td>\n",
              "      <td>0</td>\n",
              "      <td>0</td>\n",
              "      <td>0</td>\n",
              "      <td>0</td>\n",
              "      <td>c</td>\n",
              "      <td>a</td>\n",
              "      <td>1270.0</td>\n",
              "      <td>9.0</td>\n",
              "      <td>2008.0</td>\n",
              "      <td>0</td>\n",
              "      <td>NaN</td>\n",
              "      <td>NaN</td>\n",
              "      <td>NaN</td>\n",
              "    </tr>\n",
              "    <tr>\n",
              "      <th>43</th>\n",
              "      <td>1</td>\n",
              "      <td>7</td>\n",
              "      <td>16-02-2014</td>\n",
              "      <td>0</td>\n",
              "      <td>0</td>\n",
              "      <td>0</td>\n",
              "      <td>0</td>\n",
              "      <td>0</td>\n",
              "      <td>0</td>\n",
              "      <td>c</td>\n",
              "      <td>a</td>\n",
              "      <td>1270.0</td>\n",
              "      <td>9.0</td>\n",
              "      <td>2008.0</td>\n",
              "      <td>0</td>\n",
              "      <td>NaN</td>\n",
              "      <td>NaN</td>\n",
              "      <td>NaN</td>\n",
              "    </tr>\n",
              "    <tr>\n",
              "      <th>44</th>\n",
              "      <td>1</td>\n",
              "      <td>2</td>\n",
              "      <td>30-09-2014</td>\n",
              "      <td>4919</td>\n",
              "      <td>550</td>\n",
              "      <td>1</td>\n",
              "      <td>1</td>\n",
              "      <td>0</td>\n",
              "      <td>0</td>\n",
              "      <td>c</td>\n",
              "      <td>a</td>\n",
              "      <td>1270.0</td>\n",
              "      <td>9.0</td>\n",
              "      <td>2008.0</td>\n",
              "      <td>0</td>\n",
              "      <td>NaN</td>\n",
              "      <td>NaN</td>\n",
              "      <td>NaN</td>\n",
              "    </tr>\n",
              "    <tr>\n",
              "      <th>45</th>\n",
              "      <td>1</td>\n",
              "      <td>1</td>\n",
              "      <td>23-02-2015</td>\n",
              "      <td>3598</td>\n",
              "      <td>454</td>\n",
              "      <td>1</td>\n",
              "      <td>0</td>\n",
              "      <td>0</td>\n",
              "      <td>0</td>\n",
              "      <td>c</td>\n",
              "      <td>a</td>\n",
              "      <td>1270.0</td>\n",
              "      <td>9.0</td>\n",
              "      <td>2008.0</td>\n",
              "      <td>0</td>\n",
              "      <td>NaN</td>\n",
              "      <td>NaN</td>\n",
              "      <td>NaN</td>\n",
              "    </tr>\n",
              "    <tr>\n",
              "      <th>46</th>\n",
              "      <td>1</td>\n",
              "      <td>1</td>\n",
              "      <td>30-06-2014</td>\n",
              "      <td>5738</td>\n",
              "      <td>641</td>\n",
              "      <td>1</td>\n",
              "      <td>1</td>\n",
              "      <td>0</td>\n",
              "      <td>0</td>\n",
              "      <td>c</td>\n",
              "      <td>a</td>\n",
              "      <td>1270.0</td>\n",
              "      <td>9.0</td>\n",
              "      <td>2008.0</td>\n",
              "      <td>0</td>\n",
              "      <td>NaN</td>\n",
              "      <td>NaN</td>\n",
              "      <td>NaN</td>\n",
              "    </tr>\n",
              "    <tr>\n",
              "      <th>47</th>\n",
              "      <td>1</td>\n",
              "      <td>3</td>\n",
              "      <td>27-03-2013</td>\n",
              "      <td>6660</td>\n",
              "      <td>779</td>\n",
              "      <td>1</td>\n",
              "      <td>1</td>\n",
              "      <td>0</td>\n",
              "      <td>1</td>\n",
              "      <td>c</td>\n",
              "      <td>a</td>\n",
              "      <td>1270.0</td>\n",
              "      <td>9.0</td>\n",
              "      <td>2008.0</td>\n",
              "      <td>0</td>\n",
              "      <td>NaN</td>\n",
              "      <td>NaN</td>\n",
              "      <td>NaN</td>\n",
              "    </tr>\n",
              "    <tr>\n",
              "      <th>48</th>\n",
              "      <td>1</td>\n",
              "      <td>4</td>\n",
              "      <td>12-03-2015</td>\n",
              "      <td>3141</td>\n",
              "      <td>405</td>\n",
              "      <td>1</td>\n",
              "      <td>0</td>\n",
              "      <td>0</td>\n",
              "      <td>0</td>\n",
              "      <td>c</td>\n",
              "      <td>a</td>\n",
              "      <td>1270.0</td>\n",
              "      <td>9.0</td>\n",
              "      <td>2008.0</td>\n",
              "      <td>0</td>\n",
              "      <td>NaN</td>\n",
              "      <td>NaN</td>\n",
              "      <td>NaN</td>\n",
              "    </tr>\n",
              "    <tr>\n",
              "      <th>49</th>\n",
              "      <td>1</td>\n",
              "      <td>4</td>\n",
              "      <td>07-08-2014</td>\n",
              "      <td>4154</td>\n",
              "      <td>480</td>\n",
              "      <td>1</td>\n",
              "      <td>1</td>\n",
              "      <td>0</td>\n",
              "      <td>1</td>\n",
              "      <td>c</td>\n",
              "      <td>a</td>\n",
              "      <td>1270.0</td>\n",
              "      <td>9.0</td>\n",
              "      <td>2008.0</td>\n",
              "      <td>0</td>\n",
              "      <td>NaN</td>\n",
              "      <td>NaN</td>\n",
              "      <td>NaN</td>\n",
              "    </tr>\n",
              "  </tbody>\n",
              "</table>\n",
              "</div>"
            ],
            "text/plain": [
              "    Store  DayOfWeek        Date  Sales  Customers  Open  Promo StateHoliday  \\\n",
              "0       1          4  07-05-2015   4529        491     1      1            0   \n",
              "1       1          4  24-01-2013   5195        645     1      1            0   \n",
              "2       1          4  11-07-2013   4053        486     1      0            0   \n",
              "3       1          2  18-06-2013   4633        554     1      1            0   \n",
              "4       1          4  12-09-2013   5079        586     1      1            0   \n",
              "5       1          4  21-05-2015   3755        471     1      1            0   \n",
              "6       1          1  23-12-2013   9528       1130     1      0            0   \n",
              "7       1          6  17-08-2013   4078        503     1      0            0   \n",
              "8       1          2  05-08-2014   5433        620     1      1            0   \n",
              "9       1          7  16-03-2014      0          0     0      0            0   \n",
              "10      1          1  14-04-2014   6803        693     1      1            0   \n",
              "11      1          4  17-01-2013   4044        503     1      0            0   \n",
              "12      1          3  24-04-2013   4309        512     1      1            0   \n",
              "13      1          6  31-01-2015   5363        638     1      0            0   \n",
              "14      1          6  09-02-2013   5370        656     1      0            0   \n",
              "15      1          7  01-03-2015      0          0     0      0            0   \n",
              "16      1          3  27-02-2013   4558        579     1      0            0   \n",
              "17      1          1  15-09-2014   4611        545     1      1            0   \n",
              "18      1          2  04-11-2014   5253        586     1      1            0   \n",
              "19      1          7  12-04-2015      0          0     0      0            0   \n",
              "20      1          3  09-04-2014   3919        528     1      0            0   \n",
              "21      1          7  20-01-2013      0          0     0      0            0   \n",
              "22      1          1  06-05-2013   4568        562     1      0            0   \n",
              "23      1          2  04-03-2014   5397        619     1      1            0   \n",
              "24      1          3  29-10-2014   3761        449     1      0            0   \n",
              "25      1          3  29-04-2015   5775        579     1      1            0   \n",
              "26      1          4  28-05-2015   4111        474     1      0            0   \n",
              "27      1          2  20-01-2015   3680        462     1      0            0   \n",
              "28      1          7  17-02-2013      0          0     0      0            0   \n",
              "29      1          6  06-04-2013   5075        657     1      0            0   \n",
              "30      1          7  09-02-2014      0          0     0      0            0   \n",
              "31      1          1  26-08-2013   5482        613     1      1            0   \n",
              "32      1          6  21-09-2013   3909        522     1      0            0   \n",
              "33      1          7  06-07-2014      0          0     0      0            0   \n",
              "34      1          3  30-04-2014   5870        624     1      1            0   \n",
              "35      1          1  08-07-2013   4475        523     1      0            0   \n",
              "36      1          1  28-10-2013   3557        494     1      0            0   \n",
              "37      1          5  17-07-2015   4852        519     1      1            0   \n",
              "38      1          3  11-06-2014   4207        535     1      0            0   \n",
              "39      1          5  16-01-2015   4161        524     1      1            0   \n",
              "40      1          4  08-01-2015   3716        457     1      1            0   \n",
              "41      1          3  23-04-2014   3482        434     1      0            0   \n",
              "42      1          7  28-04-2013      0          0     0      0            0   \n",
              "43      1          7  16-02-2014      0          0     0      0            0   \n",
              "44      1          2  30-09-2014   4919        550     1      1            0   \n",
              "45      1          1  23-02-2015   3598        454     1      0            0   \n",
              "46      1          1  30-06-2014   5738        641     1      1            0   \n",
              "47      1          3  27-03-2013   6660        779     1      1            0   \n",
              "48      1          4  12-03-2015   3141        405     1      0            0   \n",
              "49      1          4  07-08-2014   4154        480     1      1            0   \n",
              "\n",
              "    SchoolHoliday StoreType Assortment  CompetitionDistance  \\\n",
              "0               0         c          a               1270.0   \n",
              "1               0         c          a               1270.0   \n",
              "2               1         c          a               1270.0   \n",
              "3               0         c          a               1270.0   \n",
              "4               0         c          a               1270.0   \n",
              "5               0         c          a               1270.0   \n",
              "6               1         c          a               1270.0   \n",
              "7               0         c          a               1270.0   \n",
              "8               1         c          a               1270.0   \n",
              "9               0         c          a               1270.0   \n",
              "10              1         c          a               1270.0   \n",
              "11              0         c          a               1270.0   \n",
              "12              0         c          a               1270.0   \n",
              "13              0         c          a               1270.0   \n",
              "14              0         c          a               1270.0   \n",
              "15              0         c          a               1270.0   \n",
              "16              0         c          a               1270.0   \n",
              "17              0         c          a               1270.0   \n",
              "18              0         c          a               1270.0   \n",
              "19              0         c          a               1270.0   \n",
              "20              0         c          a               1270.0   \n",
              "21              0         c          a               1270.0   \n",
              "22              0         c          a               1270.0   \n",
              "23              0         c          a               1270.0   \n",
              "24              1         c          a               1270.0   \n",
              "25              0         c          a               1270.0   \n",
              "26              0         c          a               1270.0   \n",
              "27              0         c          a               1270.0   \n",
              "28              0         c          a               1270.0   \n",
              "29              0         c          a               1270.0   \n",
              "30              0         c          a               1270.0   \n",
              "31              0         c          a               1270.0   \n",
              "32              0         c          a               1270.0   \n",
              "33              0         c          a               1270.0   \n",
              "34              0         c          a               1270.0   \n",
              "35              1         c          a               1270.0   \n",
              "36              0         c          a               1270.0   \n",
              "37              0         c          a               1270.0   \n",
              "38              0         c          a               1270.0   \n",
              "39              0         c          a               1270.0   \n",
              "40              1         c          a               1270.0   \n",
              "41              1         c          a               1270.0   \n",
              "42              0         c          a               1270.0   \n",
              "43              0         c          a               1270.0   \n",
              "44              0         c          a               1270.0   \n",
              "45              0         c          a               1270.0   \n",
              "46              0         c          a               1270.0   \n",
              "47              1         c          a               1270.0   \n",
              "48              0         c          a               1270.0   \n",
              "49              1         c          a               1270.0   \n",
              "\n",
              "    CompetitionOpenSinceMonth  CompetitionOpenSinceYear  Promo2  \\\n",
              "0                         9.0                    2008.0       0   \n",
              "1                         9.0                    2008.0       0   \n",
              "2                         9.0                    2008.0       0   \n",
              "3                         9.0                    2008.0       0   \n",
              "4                         9.0                    2008.0       0   \n",
              "5                         9.0                    2008.0       0   \n",
              "6                         9.0                    2008.0       0   \n",
              "7                         9.0                    2008.0       0   \n",
              "8                         9.0                    2008.0       0   \n",
              "9                         9.0                    2008.0       0   \n",
              "10                        9.0                    2008.0       0   \n",
              "11                        9.0                    2008.0       0   \n",
              "12                        9.0                    2008.0       0   \n",
              "13                        9.0                    2008.0       0   \n",
              "14                        9.0                    2008.0       0   \n",
              "15                        9.0                    2008.0       0   \n",
              "16                        9.0                    2008.0       0   \n",
              "17                        9.0                    2008.0       0   \n",
              "18                        9.0                    2008.0       0   \n",
              "19                        9.0                    2008.0       0   \n",
              "20                        9.0                    2008.0       0   \n",
              "21                        9.0                    2008.0       0   \n",
              "22                        9.0                    2008.0       0   \n",
              "23                        9.0                    2008.0       0   \n",
              "24                        9.0                    2008.0       0   \n",
              "25                        9.0                    2008.0       0   \n",
              "26                        9.0                    2008.0       0   \n",
              "27                        9.0                    2008.0       0   \n",
              "28                        9.0                    2008.0       0   \n",
              "29                        9.0                    2008.0       0   \n",
              "30                        9.0                    2008.0       0   \n",
              "31                        9.0                    2008.0       0   \n",
              "32                        9.0                    2008.0       0   \n",
              "33                        9.0                    2008.0       0   \n",
              "34                        9.0                    2008.0       0   \n",
              "35                        9.0                    2008.0       0   \n",
              "36                        9.0                    2008.0       0   \n",
              "37                        9.0                    2008.0       0   \n",
              "38                        9.0                    2008.0       0   \n",
              "39                        9.0                    2008.0       0   \n",
              "40                        9.0                    2008.0       0   \n",
              "41                        9.0                    2008.0       0   \n",
              "42                        9.0                    2008.0       0   \n",
              "43                        9.0                    2008.0       0   \n",
              "44                        9.0                    2008.0       0   \n",
              "45                        9.0                    2008.0       0   \n",
              "46                        9.0                    2008.0       0   \n",
              "47                        9.0                    2008.0       0   \n",
              "48                        9.0                    2008.0       0   \n",
              "49                        9.0                    2008.0       0   \n",
              "\n",
              "    Promo2SinceWeek  Promo2SinceYear PromoInterval  \n",
              "0               NaN              NaN           NaN  \n",
              "1               NaN              NaN           NaN  \n",
              "2               NaN              NaN           NaN  \n",
              "3               NaN              NaN           NaN  \n",
              "4               NaN              NaN           NaN  \n",
              "5               NaN              NaN           NaN  \n",
              "6               NaN              NaN           NaN  \n",
              "7               NaN              NaN           NaN  \n",
              "8               NaN              NaN           NaN  \n",
              "9               NaN              NaN           NaN  \n",
              "10              NaN              NaN           NaN  \n",
              "11              NaN              NaN           NaN  \n",
              "12              NaN              NaN           NaN  \n",
              "13              NaN              NaN           NaN  \n",
              "14              NaN              NaN           NaN  \n",
              "15              NaN              NaN           NaN  \n",
              "16              NaN              NaN           NaN  \n",
              "17              NaN              NaN           NaN  \n",
              "18              NaN              NaN           NaN  \n",
              "19              NaN              NaN           NaN  \n",
              "20              NaN              NaN           NaN  \n",
              "21              NaN              NaN           NaN  \n",
              "22              NaN              NaN           NaN  \n",
              "23              NaN              NaN           NaN  \n",
              "24              NaN              NaN           NaN  \n",
              "25              NaN              NaN           NaN  \n",
              "26              NaN              NaN           NaN  \n",
              "27              NaN              NaN           NaN  \n",
              "28              NaN              NaN           NaN  \n",
              "29              NaN              NaN           NaN  \n",
              "30              NaN              NaN           NaN  \n",
              "31              NaN              NaN           NaN  \n",
              "32              NaN              NaN           NaN  \n",
              "33              NaN              NaN           NaN  \n",
              "34              NaN              NaN           NaN  \n",
              "35              NaN              NaN           NaN  \n",
              "36              NaN              NaN           NaN  \n",
              "37              NaN              NaN           NaN  \n",
              "38              NaN              NaN           NaN  \n",
              "39              NaN              NaN           NaN  \n",
              "40              NaN              NaN           NaN  \n",
              "41              NaN              NaN           NaN  \n",
              "42              NaN              NaN           NaN  \n",
              "43              NaN              NaN           NaN  \n",
              "44              NaN              NaN           NaN  \n",
              "45              NaN              NaN           NaN  \n",
              "46              NaN              NaN           NaN  \n",
              "47              NaN              NaN           NaN  \n",
              "48              NaN              NaN           NaN  \n",
              "49              NaN              NaN           NaN  "
            ]
          },
          "execution_count": 29,
          "metadata": {},
          "output_type": "execute_result"
        }
      ],
      "source": [
        "combined_data.head(50)"
      ]
    },
    {
      "cell_type": "markdown",
      "id": "b2e8c5d8-07c4-4d7f-801d-640a1707f30e",
      "metadata": {
        "id": "b2e8c5d8-07c4-4d7f-801d-640a1707f30e"
      },
      "source": [
        "### Check for Missing values"
      ]
    },
    {
      "cell_type": "code",
      "execution_count": null,
      "id": "68d648f3-0df0-48d9-aa04-2b0da36c23cb",
      "metadata": {
        "id": "68d648f3-0df0-48d9-aa04-2b0da36c23cb",
        "outputId": "b0f4cb16-9569-4773-894a-df1c4ca13718"
      },
      "outputs": [
        {
          "data": {
            "text/plain": [
              "Store                        0.0000\n",
              "DayOfWeek                    0.0000\n",
              "Date                         0.0000\n",
              "Sales                        0.0000\n",
              "Customers                    0.0000\n",
              "Open                         0.0000\n",
              "Promo                        0.0000\n",
              "StateHoliday                 0.0000\n",
              "SchoolHoliday                0.0000\n",
              "StoreType                    0.0000\n",
              "Assortment                   0.0000\n",
              "CompetitionDistance          0.0027\n",
              "CompetitionOpenSinceMonth    0.3175\n",
              "CompetitionOpenSinceYear     0.3175\n",
              "Promo2                       0.0000\n",
              "Promo2SinceWeek              0.4879\n",
              "Promo2SinceYear              0.4879\n",
              "PromoInterval                0.4879\n",
              "dtype: float64"
            ]
          },
          "execution_count": 30,
          "metadata": {},
          "output_type": "execute_result"
        }
      ],
      "source": [
        "np.round(combined_data.isna().mean(), 4)"
      ]
    },
    {
      "cell_type": "markdown",
      "id": "8f8db847-9a07-48ea-b588-49d656952aad",
      "metadata": {
        "id": "8f8db847-9a07-48ea-b588-49d656952aad"
      },
      "source": [
        "#### Extracting Date, Month, Year and Quarter from Date object"
      ]
    },
    {
      "cell_type": "code",
      "execution_count": null,
      "id": "6f60c4de-aae6-41f6-a994-5be303144496",
      "metadata": {
        "id": "6f60c4de-aae6-41f6-a994-5be303144496"
      },
      "outputs": [],
      "source": [
        "features_to_remove = []\n",
        "\n",
        "combined_data['date'] = combined_data['Date'].astype(str).str.split('-').str[0].astype(int)\n",
        "combined_data['month'] = combined_data['Date'].astype(str).str.split('-').str[1].astype(int)\n",
        "combined_data['year'] = combined_data['Date'].astype(str).str.split('-').str[2].astype(int)\n",
        "combined_data['Date_new'] = pd.to_datetime(combined_data['Date'], format='%d-%m-%Y')\n",
        "combined_data['Quarter'] = combined_data['Date_new'].dt.quarter\n",
        "features_to_remove.append('Date')\n",
        "features_to_remove.append('Date_new')"
      ]
    },
    {
      "cell_type": "markdown",
      "id": "1d61f425-914d-4d08-95cf-6016360030e5",
      "metadata": {
        "id": "1d61f425-914d-4d08-95cf-6016360030e5"
      },
      "source": [
        "### Exploratory Data Analysis"
      ]
    },
    {
      "cell_type": "code",
      "execution_count": null,
      "id": "d7e74fa1-0099-4c19-989d-b1021c588c84",
      "metadata": {
        "id": "d7e74fa1-0099-4c19-989d-b1021c588c84",
        "outputId": "73c87760-6e99-4ed5-b575-14803763711a"
      },
      "outputs": [
        {
          "data": {
            "image/png": "[encoded data removed]",
            "text/plain": [
              "<Figure size 1000x1200 with 6 Axes>"
            ]
          },
          "metadata": {},
          "output_type": "display_data"
        }
      ],
      "source": [
        "plt.figure(figsize=(10, 12))\n",
        "\n",
        "plt.subplot(3,2,1)\n",
        "sns.barplot(combined_data, x=\"DayOfWeek\", y=\"Sales\", estimator='median')\n",
        "plt.title('Sales by the day of Week')\n",
        "\n",
        "plt.subplot(3,2,2)\n",
        "sns.barplot(combined_data, x=\"DayOfWeek\", y=\"Customers\", estimator='median')\n",
        "plt.title('Customers visited by the day of Week')\n",
        "\n",
        "plt.subplot(3,2,3)\n",
        "combined_data.groupby(['StateHoliday'])['Sales'].mean().sort_values(ascending=False).plot.bar()\n",
        "plt.title('Sales on the StateHoliday')\n",
        "\n",
        "plt.subplot(3,2,4)\n",
        "combined_data.groupby(['CompetitionOpenSinceMonth'])['Sales'].median().sort_values(ascending=False).plot.bar()\n",
        "plt.title('CompetitionOpenSinceMonth')\n",
        "\n",
        "plt.subplot(3,2,5)\n",
        "combined_data.groupby(['CompetitionOpenSinceYear'])['Sales'].median().sort_values(ascending=False).plot.barh()\n",
        "\n",
        "plt.subplot(3,2,6)\n",
        "sns.scatterplot(data=combined_data, x='CompetitionDistance', y='Sales')\n",
        "plt.title('CompetitionDistance Vs Sales')\n",
        "\n",
        "plt.tight_layout()\n",
        "plt.show()"
      ]
    },
    {
      "cell_type": "markdown",
      "id": "46da0150-9a0d-4822-b6e0-0caf75022db4",
      "metadata": {
        "id": "46da0150-9a0d-4822-b6e0-0caf75022db4"
      },
      "source": [
        "#### **Observations:**\n",
        "- It is clearly observable that the maximum median sales has done on the 1st day of the week (i.e. Monday), followed by Friday.\n",
        "- Least sales has done on the Sunday.\n",
        "- It is clearly observable that the maximum customers visited the stores on the 1st day of the week (i.e. Monday), followed by Friday.\n",
        "- Least customers visited the stores on the Sunday."
      ]
    },
    {
      "cell_type": "markdown",
      "id": "ddb074ca-2800-43d7-a82d-c38520e53419",
      "metadata": {
        "id": "ddb074ca-2800-43d7-a82d-c38520e53419"
      },
      "source": [
        "#### Status of the Store"
      ]
    },
    {
      "cell_type": "code",
      "execution_count": null,
      "id": "6d4b02f1-f7af-47c6-9d29-99bc40c27b4d",
      "metadata": {
        "id": "6d4b02f1-f7af-47c6-9d29-99bc40c27b4d",
        "outputId": "63fa7132-df3e-4ae2-b3f1-5a375ca47cfd"
      },
      "outputs": [
        {
          "data": {
            "text/plain": [
              "Open\n",
              "1    6567.0\n",
              "0       0.0\n",
              "Name: Sales, dtype: float64"
            ]
          },
          "execution_count": 33,
          "metadata": {},
          "output_type": "execute_result"
        }
      ],
      "source": [
        "combined_data.groupby(['Open'])['Sales'].median().sort_values(ascending=False)"
      ]
    },
    {
      "cell_type": "markdown",
      "id": "e6cb8350-b403-4346-8805-429ccafac467",
      "metadata": {
        "id": "e6cb8350-b403-4346-8805-429ccafac467"
      },
      "source": [
        "- Since the sales has been done when the shops were open.\n",
        "- Hence this is not useful feature to forecast the sales."
      ]
    },
    {
      "cell_type": "code",
      "execution_count": null,
      "id": "a9233712-be5c-4a29-9b1e-825113b7f55b",
      "metadata": {
        "id": "a9233712-be5c-4a29-9b1e-825113b7f55b"
      },
      "outputs": [],
      "source": [
        "features_to_remove.append('Open')"
      ]
    },
    {
      "cell_type": "code",
      "execution_count": null,
      "id": "b5da65ec-e697-4d8f-be84-124a1a0c3bb4",
      "metadata": {
        "id": "b5da65ec-e697-4d8f-be84-124a1a0c3bb4",
        "outputId": "a95841ad-d316-497a-dfb1-9fe2a0609b64"
      },
      "outputs": [
        {
          "data": {
            "text/html": [
              "<div>\n",
              "<style scoped>\n",
              "    .dataframe tbody tr th:only-of-type {\n",
              "        vertical-align: middle;\n",
              "    }\n",
              "\n",
              "    .dataframe tbody tr th {\n",
              "        vertical-align: top;\n",
              "    }\n",
              "\n",
              "    .dataframe thead th {\n",
              "        text-align: right;\n",
              "    }\n",
              "</style>\n",
              "<table border=\"1\" class=\"dataframe\">\n",
              "  <thead>\n",
              "    <tr style=\"text-align: right;\">\n",
              "      <th></th>\n",
              "      <th>Store</th>\n",
              "      <th>DayOfWeek</th>\n",
              "      <th>Date</th>\n",
              "      <th>Sales</th>\n",
              "      <th>Customers</th>\n",
              "      <th>Open</th>\n",
              "      <th>Promo</th>\n",
              "      <th>StateHoliday</th>\n",
              "      <th>SchoolHoliday</th>\n",
              "      <th>StoreType</th>\n",
              "      <th>...</th>\n",
              "      <th>CompetitionOpenSinceYear</th>\n",
              "      <th>Promo2</th>\n",
              "      <th>Promo2SinceWeek</th>\n",
              "      <th>Promo2SinceYear</th>\n",
              "      <th>PromoInterval</th>\n",
              "      <th>date</th>\n",
              "      <th>month</th>\n",
              "      <th>year</th>\n",
              "      <th>Date_new</th>\n",
              "      <th>Quarter</th>\n",
              "    </tr>\n",
              "  </thead>\n",
              "  <tbody>\n",
              "    <tr>\n",
              "      <th>0</th>\n",
              "      <td>1</td>\n",
              "      <td>4</td>\n",
              "      <td>07-05-2015</td>\n",
              "      <td>4529</td>\n",
              "      <td>491</td>\n",
              "      <td>1</td>\n",
              "      <td>1</td>\n",
              "      <td>0</td>\n",
              "      <td>0</td>\n",
              "      <td>c</td>\n",
              "      <td>...</td>\n",
              "      <td>2008.0</td>\n",
              "      <td>0</td>\n",
              "      <td>NaN</td>\n",
              "      <td>NaN</td>\n",
              "      <td>NaN</td>\n",
              "      <td>7</td>\n",
              "      <td>5</td>\n",
              "      <td>2015</td>\n",
              "      <td>2015-05-07</td>\n",
              "      <td>2</td>\n",
              "    </tr>\n",
              "    <tr>\n",
              "      <th>1</th>\n",
              "      <td>1</td>\n",
              "      <td>4</td>\n",
              "      <td>24-01-2013</td>\n",
              "      <td>5195</td>\n",
              "      <td>645</td>\n",
              "      <td>1</td>\n",
              "      <td>1</td>\n",
              "      <td>0</td>\n",
              "      <td>0</td>\n",
              "      <td>c</td>\n",
              "      <td>...</td>\n",
              "      <td>2008.0</td>\n",
              "      <td>0</td>\n",
              "      <td>NaN</td>\n",
              "      <td>NaN</td>\n",
              "      <td>NaN</td>\n",
              "      <td>24</td>\n",
              "      <td>1</td>\n",
              "      <td>2013</td>\n",
              "      <td>2013-01-24</td>\n",
              "      <td>1</td>\n",
              "    </tr>\n",
              "    <tr>\n",
              "      <th>2</th>\n",
              "      <td>1</td>\n",
              "      <td>4</td>\n",
              "      <td>11-07-2013</td>\n",
              "      <td>4053</td>\n",
              "      <td>486</td>\n",
              "      <td>1</td>\n",
              "      <td>0</td>\n",
              "      <td>0</td>\n",
              "      <td>1</td>\n",
              "      <td>c</td>\n",
              "      <td>...</td>\n",
              "      <td>2008.0</td>\n",
              "      <td>0</td>\n",
              "      <td>NaN</td>\n",
              "      <td>NaN</td>\n",
              "      <td>NaN</td>\n",
              "      <td>11</td>\n",
              "      <td>7</td>\n",
              "      <td>2013</td>\n",
              "      <td>2013-07-11</td>\n",
              "      <td>3</td>\n",
              "    </tr>\n",
              "    <tr>\n",
              "      <th>3</th>\n",
              "      <td>1</td>\n",
              "      <td>2</td>\n",
              "      <td>18-06-2013</td>\n",
              "      <td>4633</td>\n",
              "      <td>554</td>\n",
              "      <td>1</td>\n",
              "      <td>1</td>\n",
              "      <td>0</td>\n",
              "      <td>0</td>\n",
              "      <td>c</td>\n",
              "      <td>...</td>\n",
              "      <td>2008.0</td>\n",
              "      <td>0</td>\n",
              "      <td>NaN</td>\n",
              "      <td>NaN</td>\n",
              "      <td>NaN</td>\n",
              "      <td>18</td>\n",
              "      <td>6</td>\n",
              "      <td>2013</td>\n",
              "      <td>2013-06-18</td>\n",
              "      <td>2</td>\n",
              "    </tr>\n",
              "    <tr>\n",
              "      <th>4</th>\n",
              "      <td>1</td>\n",
              "      <td>4</td>\n",
              "      <td>12-09-2013</td>\n",
              "      <td>5079</td>\n",
              "      <td>586</td>\n",
              "      <td>1</td>\n",
              "      <td>1</td>\n",
              "      <td>0</td>\n",
              "      <td>0</td>\n",
              "      <td>c</td>\n",
              "      <td>...</td>\n",
              "      <td>2008.0</td>\n",
              "      <td>0</td>\n",
              "      <td>NaN</td>\n",
              "      <td>NaN</td>\n",
              "      <td>NaN</td>\n",
              "      <td>12</td>\n",
              "      <td>9</td>\n",
              "      <td>2013</td>\n",
              "      <td>2013-09-12</td>\n",
              "      <td>3</td>\n",
              "    </tr>\n",
              "  </tbody>\n",
              "</table>\n",
              "<p>5 rows × 23 columns</p>\n",
              "</div>"
            ],
            "text/plain": [
              "   Store  DayOfWeek        Date  Sales  Customers  Open  Promo StateHoliday  \\\n",
              "0      1          4  07-05-2015   4529        491     1      1            0   \n",
              "1      1          4  24-01-2013   5195        645     1      1            0   \n",
              "2      1          4  11-07-2013   4053        486     1      0            0   \n",
              "3      1          2  18-06-2013   4633        554     1      1            0   \n",
              "4      1          4  12-09-2013   5079        586     1      1            0   \n",
              "\n",
              "   SchoolHoliday StoreType  ... CompetitionOpenSinceYear  Promo2  \\\n",
              "0              0         c  ...                   2008.0       0   \n",
              "1              0         c  ...                   2008.0       0   \n",
              "2              1         c  ...                   2008.0       0   \n",
              "3              0         c  ...                   2008.0       0   \n",
              "4              0         c  ...                   2008.0       0   \n",
              "\n",
              "   Promo2SinceWeek  Promo2SinceYear  PromoInterval  date  month  year  \\\n",
              "0              NaN              NaN            NaN     7      5  2015   \n",
              "1              NaN              NaN            NaN    24      1  2013   \n",
              "2              NaN              NaN            NaN    11      7  2013   \n",
              "3              NaN              NaN            NaN    18      6  2013   \n",
              "4              NaN              NaN            NaN    12      9  2013   \n",
              "\n",
              "    Date_new  Quarter  \n",
              "0 2015-05-07        2  \n",
              "1 2013-01-24        1  \n",
              "2 2013-07-11        3  \n",
              "3 2013-06-18        2  \n",
              "4 2013-09-12        3  \n",
              "\n",
              "[5 rows x 23 columns]"
            ]
          },
          "execution_count": 35,
          "metadata": {},
          "output_type": "execute_result"
        }
      ],
      "source": [
        "combined_data.head()"
      ]
    },
    {
      "cell_type": "code",
      "execution_count": null,
      "id": "67775d50-a35a-4fcc-b853-5fbd468f43db",
      "metadata": {
        "id": "67775d50-a35a-4fcc-b853-5fbd468f43db"
      },
      "outputs": [],
      "source": [
        "def plot_sales(df, index_lst, column_lst, values_lst, titles_lst):\n",
        "    l = 1\n",
        "    plt.figure(figsize=(11, 12))\n",
        "\n",
        "    for index,column,values,title in zip(index_lst, column_lst, values_lst, titles_lst):\n",
        "        pivot_df = df.pivot_table(index=index, columns=column, values=values)\n",
        "        plt.subplot(3,2,l)\n",
        "        for column in pivot_df.columns:\n",
        "            plt.plot(pivot_df.index, pivot_df[column], marker='o', label=column)\n",
        "\n",
        "        plt.xlabel(index)\n",
        "        plt.ylabel(values)\n",
        "        plt.title(title)\n",
        "\n",
        "        plt.xticks(pivot_df.index)\n",
        "        plt.legend()\n",
        "\n",
        "        plt.grid(True)\n",
        "        l += 1\n",
        "    plt.tight_layout()\n",
        "    plt.show()\n",
        "\n"
      ]
    },
    {
      "cell_type": "code",
      "execution_count": null,
      "id": "382198ec-1c8e-429a-b758-48b42e21260c",
      "metadata": {
        "id": "382198ec-1c8e-429a-b758-48b42e21260c"
      },
      "outputs": [],
      "source": [
        "index_lst = ['month', 'month', 'month', 'month', 'Quarter']\n",
        "column_lst = ['year', 'Promo', 'Promo2', 'SchoolHoliday', 'year']\n",
        "values_lst = ['Sales', 'Sales', 'Sales', 'Sales', 'Sales']\n",
        "titles_lst = ['Month-wise Year-wise Sales', 'Month-wise Sales when Promo Applied vs Promo Not Applied', 'Month-wise Sales when Promo2 Applied vs Promo2 Not Applied', \\\n",
        "              'Month-wise Sales for SchoolHoliday vs School Non-Holiday',  'Year-wise Quarterly Sales']"
      ]
    },
    {
      "cell_type": "code",
      "execution_count": null,
      "id": "d72da192-ea6c-4564-ac8e-4bc1f8547dcd",
      "metadata": {
        "id": "d72da192-ea6c-4564-ac8e-4bc1f8547dcd",
        "outputId": "d868e916-ca12-4462-b5f8-88b5f9b3d660"
      },
      "outputs": [
        {
          "data": {
            "image/png": "[encoded data removed]",
            "text/plain": [
              "<Figure size 1100x1200 with 5 Axes>"
            ]
          },
          "metadata": {},
          "output_type": "display_data"
        }
      ],
      "source": [
        "plot_sales(combined_data, index_lst, column_lst, values_lst, titles_lst)"
      ]
    },
    {
      "cell_type": "markdown",
      "id": "c305c335-c573-4bf1-8231-aaea839f3e0c",
      "metadata": {
        "id": "c305c335-c573-4bf1-8231-aaea839f3e0c"
      },
      "source": [
        "#### **Observations:**\n",
        "- Sales were Maximum when Store was running a Promo on the day.\n",
        "- It is observed that when Store were not continuining and promoting, sales were little bit higher than the sales when Store were continuining and promoting any promo.\n",
        "- In year 2014, quarterly sales were either increasing/constant throughout the year.\n",
        "- Sales were high on School Holidays."
      ]
    },
    {
      "cell_type": "code",
      "execution_count": null,
      "id": "b7325184-4eb0-463e-93f8-2dd0f2ba32ff",
      "metadata": {
        "id": "b7325184-4eb0-463e-93f8-2dd0f2ba32ff",
        "outputId": "dc02020a-e416-402a-ab52-456431a476e3"
      },
      "outputs": [
        {
          "data": {
            "image/png": "[encoded data removed]",
            "text/plain": [
              "<Figure size 1000x400 with 2 Axes>"
            ]
          },
          "metadata": {},
          "output_type": "display_data"
        }
      ],
      "source": [
        "plt.figure(figsize=(10, 4))\n",
        "\n",
        "plt.subplot(1,2,1)\n",
        "sns.barplot(combined_data, x=\"PromoInterval\", y=\"Sales\", hue='Assortment', estimator='median')\n",
        "plt.title('Sales on the basis of PromoInterval for with different Assortment')\n",
        "\n",
        "plt.subplot(1,2,2)\n",
        "sns.barplot(combined_data, x='SchoolHoliday', y=\"Sales\", hue=\"StoreType\", estimator='median')\n",
        "plt.title('Sales on the basis of StoreType')\n",
        "\n",
        "plt.tight_layout()\n",
        "plt.show()"
      ]
    },
    {
      "cell_type": "markdown",
      "id": "3161d075-e4ef-48e8-83a0-49291de12fce",
      "metadata": {
        "id": "3161d075-e4ef-48e8-83a0-49291de12fce"
      },
      "source": [
        "#### **Observations:**\n",
        "- Median sales done on School holiday is very higher than the median sales done on the School Non-Holidays."
      ]
    },
    {
      "cell_type": "code",
      "execution_count": null,
      "id": "557d0c3e-0695-4480-83ac-af197485ceda",
      "metadata": {
        "id": "557d0c3e-0695-4480-83ac-af197485ceda"
      },
      "outputs": [],
      "source": [
        "combined_data_1 = combined_data.select_dtypes(include=np.number)"
      ]
    },
    {
      "cell_type": "code",
      "execution_count": null,
      "id": "4b59b10f-4a3a-417d-858e-6c1dbcdceee8",
      "metadata": {
        "id": "4b59b10f-4a3a-417d-858e-6c1dbcdceee8"
      },
      "outputs": [],
      "source": [
        "combined_data_1.drop(['Store'], axis=1, inplace=True)"
      ]
    },
    {
      "cell_type": "code",
      "execution_count": null,
      "id": "1fb8a538-e365-4c6a-858e-fcedaef43e25",
      "metadata": {
        "id": "1fb8a538-e365-4c6a-858e-fcedaef43e25",
        "outputId": "39485f8b-8e93-48db-887c-423281a3a55f"
      },
      "outputs": [
        {
          "data": {
            "text/html": [
              "<div>\n",
              "<style scoped>\n",
              "    .dataframe tbody tr th:only-of-type {\n",
              "        vertical-align: middle;\n",
              "    }\n",
              "\n",
              "    .dataframe tbody tr th {\n",
              "        vertical-align: top;\n",
              "    }\n",
              "\n",
              "    .dataframe thead th {\n",
              "        text-align: right;\n",
              "    }\n",
              "</style>\n",
              "<table border=\"1\" class=\"dataframe\">\n",
              "  <thead>\n",
              "    <tr style=\"text-align: right;\">\n",
              "      <th></th>\n",
              "      <th>DayOfWeek</th>\n",
              "      <th>Sales</th>\n",
              "      <th>Customers</th>\n",
              "      <th>Open</th>\n",
              "      <th>Promo</th>\n",
              "      <th>SchoolHoliday</th>\n",
              "      <th>CompetitionDistance</th>\n",
              "      <th>CompetitionOpenSinceMonth</th>\n",
              "      <th>CompetitionOpenSinceYear</th>\n",
              "      <th>Promo2</th>\n",
              "      <th>Promo2SinceWeek</th>\n",
              "      <th>Promo2SinceYear</th>\n",
              "      <th>date</th>\n",
              "      <th>month</th>\n",
              "      <th>year</th>\n",
              "      <th>Quarter</th>\n",
              "    </tr>\n",
              "  </thead>\n",
              "  <tbody>\n",
              "    <tr>\n",
              "      <th>DayOfWeek</th>\n",
              "      <td>1.000000</td>\n",
              "      <td>-0.513159</td>\n",
              "      <td>-0.429255</td>\n",
              "      <td>-0.570525</td>\n",
              "      <td>-0.447577</td>\n",
              "      <td>-0.220087</td>\n",
              "      <td>-0.000218</td>\n",
              "      <td>-0.000186</td>\n",
              "      <td>-0.000329</td>\n",
              "      <td>0.001936</td>\n",
              "      <td>0.002001</td>\n",
              "      <td>-0.000096</td>\n",
              "      <td>-0.126798</td>\n",
              "      <td>-0.161299</td>\n",
              "      <td>0.059084</td>\n",
              "      <td>-0.148588</td>\n",
              "    </tr>\n",
              "    <tr>\n",
              "      <th>Sales</th>\n",
              "      <td>-0.513159</td>\n",
              "      <td>1.000000</td>\n",
              "      <td>0.894782</td>\n",
              "      <td>0.677710</td>\n",
              "      <td>0.478799</td>\n",
              "      <td>0.159804</td>\n",
              "      <td>-0.016722</td>\n",
              "      <td>-0.027450</td>\n",
              "      <td>0.011199</td>\n",
              "      <td>-0.091717</td>\n",
              "      <td>0.050623</td>\n",
              "      <td>-0.025252</td>\n",
              "      <td>0.145042</td>\n",
              "      <td>0.138896</td>\n",
              "      <td>0.039172</td>\n",
              "      <td>0.136306</td>\n",
              "    </tr>\n",
              "    <tr>\n",
              "      <th>Customers</th>\n",
              "      <td>-0.429255</td>\n",
              "      <td>0.894782</td>\n",
              "      <td>1.000000</td>\n",
              "      <td>0.619439</td>\n",
              "      <td>0.344070</td>\n",
              "      <td>0.140479</td>\n",
              "      <td>-0.100063</td>\n",
              "      <td>-0.031183</td>\n",
              "      <td>0.009251</td>\n",
              "      <td>-0.155842</td>\n",
              "      <td>0.030177</td>\n",
              "      <td>0.026483</td>\n",
              "      <td>0.108234</td>\n",
              "      <td>0.124217</td>\n",
              "      <td>-0.000292</td>\n",
              "      <td>0.123157</td>\n",
              "    </tr>\n",
              "    <tr>\n",
              "      <th>Open</th>\n",
              "      <td>-0.570525</td>\n",
              "      <td>0.677710</td>\n",
              "      <td>0.619439</td>\n",
              "      <td>1.000000</td>\n",
              "      <td>0.353435</td>\n",
              "      <td>0.111321</td>\n",
              "      <td>0.008665</td>\n",
              "      <td>0.001754</td>\n",
              "      <td>0.005350</td>\n",
              "      <td>-0.022304</td>\n",
              "      <td>-0.015086</td>\n",
              "      <td>-0.001437</td>\n",
              "      <td>0.111815</td>\n",
              "      <td>0.090843</td>\n",
              "      <td>0.000921</td>\n",
              "      <td>0.101673</td>\n",
              "    </tr>\n",
              "    <tr>\n",
              "      <th>Promo</th>\n",
              "      <td>-0.447577</td>\n",
              "      <td>0.478799</td>\n",
              "      <td>0.344070</td>\n",
              "      <td>0.353435</td>\n",
              "      <td>1.000000</td>\n",
              "      <td>0.118017</td>\n",
              "      <td>-0.000208</td>\n",
              "      <td>-0.000438</td>\n",
              "      <td>0.000164</td>\n",
              "      <td>-0.000150</td>\n",
              "      <td>-0.000126</td>\n",
              "      <td>-0.000295</td>\n",
              "      <td>0.075697</td>\n",
              "      <td>0.065867</td>\n",
              "      <td>0.103822</td>\n",
              "      <td>0.073826</td>\n",
              "    </tr>\n",
              "    <tr>\n",
              "      <th>SchoolHoliday</th>\n",
              "      <td>-0.220087</td>\n",
              "      <td>0.159804</td>\n",
              "      <td>0.140479</td>\n",
              "      <td>0.111321</td>\n",
              "      <td>0.118017</td>\n",
              "      <td>1.000000</td>\n",
              "      <td>-0.006655</td>\n",
              "      <td>-0.003454</td>\n",
              "      <td>0.008357</td>\n",
              "      <td>-0.036814</td>\n",
              "      <td>-0.026399</td>\n",
              "      <td>-0.009407</td>\n",
              "      <td>0.076067</td>\n",
              "      <td>0.296711</td>\n",
              "      <td>-0.063480</td>\n",
              "      <td>0.318742</td>\n",
              "    </tr>\n",
              "    <tr>\n",
              "      <th>CompetitionDistance</th>\n",
              "      <td>-0.000218</td>\n",
              "      <td>-0.016722</td>\n",
              "      <td>-0.100063</td>\n",
              "      <td>0.008665</td>\n",
              "      <td>-0.000208</td>\n",
              "      <td>-0.006655</td>\n",
              "      <td>1.000000</td>\n",
              "      <td>-0.059042</td>\n",
              "      <td>0.024801</td>\n",
              "      <td>-0.145742</td>\n",
              "      <td>-0.060903</td>\n",
              "      <td>-0.109004</td>\n",
              "      <td>0.000729</td>\n",
              "      <td>0.003650</td>\n",
              "      <td>0.000127</td>\n",
              "      <td>0.004086</td>\n",
              "    </tr>\n",
              "    <tr>\n",
              "      <th>CompetitionOpenSinceMonth</th>\n",
              "      <td>-0.000186</td>\n",
              "      <td>-0.027450</td>\n",
              "      <td>-0.031183</td>\n",
              "      <td>0.001754</td>\n",
              "      <td>-0.000438</td>\n",
              "      <td>-0.003454</td>\n",
              "      <td>-0.059042</td>\n",
              "      <td>1.000000</td>\n",
              "      <td>-0.052672</td>\n",
              "      <td>-0.011204</td>\n",
              "      <td>-0.035371</td>\n",
              "      <td>0.048125</td>\n",
              "      <td>-0.000567</td>\n",
              "      <td>-0.000877</td>\n",
              "      <td>0.000511</td>\n",
              "      <td>-0.000997</td>\n",
              "    </tr>\n",
              "    <tr>\n",
              "      <th>CompetitionOpenSinceYear</th>\n",
              "      <td>-0.000329</td>\n",
              "      <td>0.011199</td>\n",
              "      <td>0.009251</td>\n",
              "      <td>0.005350</td>\n",
              "      <td>0.000164</td>\n",
              "      <td>0.008357</td>\n",
              "      <td>0.024801</td>\n",
              "      <td>-0.052672</td>\n",
              "      <td>1.000000</td>\n",
              "      <td>-0.076381</td>\n",
              "      <td>-0.079966</td>\n",
              "      <td>0.006646</td>\n",
              "      <td>0.000360</td>\n",
              "      <td>0.004259</td>\n",
              "      <td>-0.000235</td>\n",
              "      <td>0.004669</td>\n",
              "    </tr>\n",
              "    <tr>\n",
              "      <th>Promo2</th>\n",
              "      <td>0.001936</td>\n",
              "      <td>-0.091717</td>\n",
              "      <td>-0.155842</td>\n",
              "      <td>-0.022304</td>\n",
              "      <td>-0.000150</td>\n",
              "      <td>-0.036814</td>\n",
              "      <td>-0.145742</td>\n",
              "      <td>-0.011204</td>\n",
              "      <td>-0.076381</td>\n",
              "      <td>1.000000</td>\n",
              "      <td>NaN</td>\n",
              "      <td>NaN</td>\n",
              "      <td>-0.003659</td>\n",
              "      <td>-0.029102</td>\n",
              "      <td>0.001442</td>\n",
              "      <td>-0.032186</td>\n",
              "    </tr>\n",
              "    <tr>\n",
              "      <th>Promo2SinceWeek</th>\n",
              "      <td>0.002001</td>\n",
              "      <td>0.050623</td>\n",
              "      <td>0.030177</td>\n",
              "      <td>-0.015086</td>\n",
              "      <td>-0.000126</td>\n",
              "      <td>-0.026399</td>\n",
              "      <td>-0.060903</td>\n",
              "      <td>-0.035371</td>\n",
              "      <td>-0.079966</td>\n",
              "      <td>NaN</td>\n",
              "      <td>1.000000</td>\n",
              "      <td>-0.217307</td>\n",
              "      <td>-0.004327</td>\n",
              "      <td>-0.027648</td>\n",
              "      <td>0.001972</td>\n",
              "      <td>-0.030660</td>\n",
              "    </tr>\n",
              "    <tr>\n",
              "      <th>Promo2SinceYear</th>\n",
              "      <td>-0.000096</td>\n",
              "      <td>-0.025252</td>\n",
              "      <td>0.026483</td>\n",
              "      <td>-0.001437</td>\n",
              "      <td>-0.000295</td>\n",
              "      <td>-0.009407</td>\n",
              "      <td>-0.109004</td>\n",
              "      <td>0.048125</td>\n",
              "      <td>0.006646</td>\n",
              "      <td>NaN</td>\n",
              "      <td>-0.217307</td>\n",
              "      <td>1.000000</td>\n",
              "      <td>-0.001066</td>\n",
              "      <td>-0.006752</td>\n",
              "      <td>0.000395</td>\n",
              "      <td>-0.007586</td>\n",
              "    </tr>\n",
              "    <tr>\n",
              "      <th>date</th>\n",
              "      <td>-0.126798</td>\n",
              "      <td>0.145042</td>\n",
              "      <td>0.108234</td>\n",
              "      <td>0.111815</td>\n",
              "      <td>0.075697</td>\n",
              "      <td>0.076067</td>\n",
              "      <td>0.000729</td>\n",
              "      <td>-0.000567</td>\n",
              "      <td>0.000360</td>\n",
              "      <td>-0.003659</td>\n",
              "      <td>-0.004327</td>\n",
              "      <td>-0.001066</td>\n",
              "      <td>1.000000</td>\n",
              "      <td>0.003205</td>\n",
              "      <td>-0.034107</td>\n",
              "      <td>0.019651</td>\n",
              "    </tr>\n",
              "    <tr>\n",
              "      <th>month</th>\n",
              "      <td>-0.161299</td>\n",
              "      <td>0.138896</td>\n",
              "      <td>0.124217</td>\n",
              "      <td>0.090843</td>\n",
              "      <td>0.065867</td>\n",
              "      <td>0.296711</td>\n",
              "      <td>0.003650</td>\n",
              "      <td>-0.000877</td>\n",
              "      <td>0.004259</td>\n",
              "      <td>-0.029102</td>\n",
              "      <td>-0.027648</td>\n",
              "      <td>-0.006752</td>\n",
              "      <td>0.003205</td>\n",
              "      <td>1.000000</td>\n",
              "      <td>-0.234726</td>\n",
              "      <td>0.963127</td>\n",
              "    </tr>\n",
              "    <tr>\n",
              "      <th>year</th>\n",
              "      <td>0.059084</td>\n",
              "      <td>0.039172</td>\n",
              "      <td>-0.000292</td>\n",
              "      <td>0.000921</td>\n",
              "      <td>0.103822</td>\n",
              "      <td>-0.063480</td>\n",
              "      <td>0.000127</td>\n",
              "      <td>0.000511</td>\n",
              "      <td>-0.000235</td>\n",
              "      <td>0.001442</td>\n",
              "      <td>0.001972</td>\n",
              "      <td>0.000395</td>\n",
              "      <td>-0.034107</td>\n",
              "      <td>-0.234726</td>\n",
              "      <td>1.000000</td>\n",
              "      <td>-0.200283</td>\n",
              "    </tr>\n",
              "    <tr>\n",
              "      <th>Quarter</th>\n",
              "      <td>-0.148588</td>\n",
              "      <td>0.136306</td>\n",
              "      <td>0.123157</td>\n",
              "      <td>0.101673</td>\n",
              "      <td>0.073826</td>\n",
              "      <td>0.318742</td>\n",
              "      <td>0.004086</td>\n",
              "      <td>-0.000997</td>\n",
              "      <td>0.004669</td>\n",
              "      <td>-0.032186</td>\n",
              "      <td>-0.030660</td>\n",
              "      <td>-0.007586</td>\n",
              "      <td>0.019651</td>\n",
              "      <td>0.963127</td>\n",
              "      <td>-0.200283</td>\n",
              "      <td>1.000000</td>\n",
              "    </tr>\n",
              "  </tbody>\n",
              "</table>\n",
              "</div>"
            ],
            "text/plain": [
              "                           DayOfWeek     Sales  Customers      Open     Promo  \\\n",
              "DayOfWeek                   1.000000 -0.513159  -0.429255 -0.570525 -0.447577   \n",
              "Sales                      -0.513159  1.000000   0.894782  0.677710  0.478799   \n",
              "Customers                  -0.429255  0.894782   1.000000  0.619439  0.344070   \n",
              "Open                       -0.570525  0.677710   0.619439  1.000000  0.353435   \n",
              "Promo                      -0.447577  0.478799   0.344070  0.353435  1.000000   \n",
              "SchoolHoliday              -0.220087  0.159804   0.140479  0.111321  0.118017   \n",
              "CompetitionDistance        -0.000218 -0.016722  -0.100063  0.008665 -0.000208   \n",
              "CompetitionOpenSinceMonth  -0.000186 -0.027450  -0.031183  0.001754 -0.000438   \n",
              "CompetitionOpenSinceYear   -0.000329  0.011199   0.009251  0.005350  0.000164   \n",
              "Promo2                      0.001936 -0.091717  -0.155842 -0.022304 -0.000150   \n",
              "Promo2SinceWeek             0.002001  0.050623   0.030177 -0.015086 -0.000126   \n",
              "Promo2SinceYear            -0.000096 -0.025252   0.026483 -0.001437 -0.000295   \n",
              "date                       -0.126798  0.145042   0.108234  0.111815  0.075697   \n",
              "month                      -0.161299  0.138896   0.124217  0.090843  0.065867   \n",
              "year                        0.059084  0.039172  -0.000292  0.000921  0.103822   \n",
              "Quarter                    -0.148588  0.136306   0.123157  0.101673  0.073826   \n",
              "\n",
              "                           SchoolHoliday  CompetitionDistance  \\\n",
              "DayOfWeek                      -0.220087            -0.000218   \n",
              "Sales                           0.159804            -0.016722   \n",
              "Customers                       0.140479            -0.100063   \n",
              "Open                            0.111321             0.008665   \n",
              "Promo                           0.118017            -0.000208   \n",
              "SchoolHoliday                   1.000000            -0.006655   \n",
              "CompetitionDistance            -0.006655             1.000000   \n",
              "CompetitionOpenSinceMonth      -0.003454            -0.059042   \n",
              "CompetitionOpenSinceYear        0.008357             0.024801   \n",
              "Promo2                         -0.036814            -0.145742   \n",
              "Promo2SinceWeek                -0.026399            -0.060903   \n",
              "Promo2SinceYear                -0.009407            -0.109004   \n",
              "date                            0.076067             0.000729   \n",
              "month                           0.296711             0.003650   \n",
              "year                           -0.063480             0.000127   \n",
              "Quarter                         0.318742             0.004086   \n",
              "\n",
              "                           CompetitionOpenSinceMonth  \\\n",
              "DayOfWeek                                  -0.000186   \n",
              "Sales                                      -0.027450   \n",
              "Customers                                  -0.031183   \n",
              "Open                                        0.001754   \n",
              "Promo                                      -0.000438   \n",
              "SchoolHoliday                              -0.003454   \n",
              "CompetitionDistance                        -0.059042   \n",
              "CompetitionOpenSinceMonth                   1.000000   \n",
              "CompetitionOpenSinceYear                   -0.052672   \n",
              "Promo2                                     -0.011204   \n",
              "Promo2SinceWeek                            -0.035371   \n",
              "Promo2SinceYear                             0.048125   \n",
              "date                                       -0.000567   \n",
              "month                                      -0.000877   \n",
              "year                                        0.000511   \n",
              "Quarter                                    -0.000997   \n",
              "\n",
              "                           CompetitionOpenSinceYear    Promo2  \\\n",
              "DayOfWeek                                 -0.000329  0.001936   \n",
              "Sales                                      0.011199 -0.091717   \n",
              "Customers                                  0.009251 -0.155842   \n",
              "Open                                       0.005350 -0.022304   \n",
              "Promo                                      0.000164 -0.000150   \n",
              "SchoolHoliday                              0.008357 -0.036814   \n",
              "CompetitionDistance                        0.024801 -0.145742   \n",
              "CompetitionOpenSinceMonth                 -0.052672 -0.011204   \n",
              "CompetitionOpenSinceYear                   1.000000 -0.076381   \n",
              "Promo2                                    -0.076381  1.000000   \n",
              "Promo2SinceWeek                           -0.079966       NaN   \n",
              "Promo2SinceYear                            0.006646       NaN   \n",
              "date                                       0.000360 -0.003659   \n",
              "month                                      0.004259 -0.029102   \n",
              "year                                      -0.000235  0.001442   \n",
              "Quarter                                    0.004669 -0.032186   \n",
              "\n",
              "                           Promo2SinceWeek  Promo2SinceYear      date  \\\n",
              "DayOfWeek                         0.002001        -0.000096 -0.126798   \n",
              "Sales                             0.050623        -0.025252  0.145042   \n",
              "Customers                         0.030177         0.026483  0.108234   \n",
              "Open                             -0.015086        -0.001437  0.111815   \n",
              "Promo                            -0.000126        -0.000295  0.075697   \n",
              "SchoolHoliday                    -0.026399        -0.009407  0.076067   \n",
              "CompetitionDistance              -0.060903        -0.109004  0.000729   \n",
              "CompetitionOpenSinceMonth        -0.035371         0.048125 -0.000567   \n",
              "CompetitionOpenSinceYear         -0.079966         0.006646  0.000360   \n",
              "Promo2                                 NaN              NaN -0.003659   \n",
              "Promo2SinceWeek                   1.000000        -0.217307 -0.004327   \n",
              "Promo2SinceYear                  -0.217307         1.000000 -0.001066   \n",
              "date                             -0.004327        -0.001066  1.000000   \n",
              "month                            -0.027648        -0.006752  0.003205   \n",
              "year                              0.001972         0.000395 -0.034107   \n",
              "Quarter                          -0.030660        -0.007586  0.019651   \n",
              "\n",
              "                              month      year   Quarter  \n",
              "DayOfWeek                 -0.161299  0.059084 -0.148588  \n",
              "Sales                      0.138896  0.039172  0.136306  \n",
              "Customers                  0.124217 -0.000292  0.123157  \n",
              "Open                       0.090843  0.000921  0.101673  \n",
              "Promo                      0.065867  0.103822  0.073826  \n",
              "SchoolHoliday              0.296711 -0.063480  0.318742  \n",
              "CompetitionDistance        0.003650  0.000127  0.004086  \n",
              "CompetitionOpenSinceMonth -0.000877  0.000511 -0.000997  \n",
              "CompetitionOpenSinceYear   0.004259 -0.000235  0.004669  \n",
              "Promo2                    -0.029102  0.001442 -0.032186  \n",
              "Promo2SinceWeek           -0.027648  0.001972 -0.030660  \n",
              "Promo2SinceYear           -0.006752  0.000395 -0.007586  \n",
              "date                       0.003205 -0.034107  0.019651  \n",
              "month                      1.000000 -0.234726  0.963127  \n",
              "year                      -0.234726  1.000000 -0.200283  \n",
              "Quarter                    0.963127 -0.200283  1.000000  "
            ]
          },
          "execution_count": 172,
          "metadata": {},
          "output_type": "execute_result"
        }
      ],
      "source": [
        "combined_data_1.corr()"
      ]
    },
    {
      "cell_type": "markdown",
      "id": "c2bddc0b-39b5-4f48-bdd9-b7e405f0da16",
      "metadata": {
        "id": "c2bddc0b-39b5-4f48-bdd9-b7e405f0da16"
      },
      "source": [
        "### Train-Test split"
      ]
    },
    {
      "cell_type": "code",
      "execution_count": null,
      "id": "da943a04-604f-4646-8011-0ba7ff3d8038",
      "metadata": {
        "id": "da943a04-604f-4646-8011-0ba7ff3d8038"
      },
      "outputs": [],
      "source": [
        "from sklearn.model_selection import train_test_split"
      ]
    },
    {
      "cell_type": "code",
      "execution_count": null,
      "id": "1b6dfc0c-bb04-498f-a87a-00f582dc6da1",
      "metadata": {
        "id": "1b6dfc0c-bb04-498f-a87a-00f582dc6da1"
      },
      "outputs": [],
      "source": [
        "X = combined_data.drop(['Sales'], axis=1)\n",
        "y = combined_data['Sales']"
      ]
    },
    {
      "cell_type": "code",
      "execution_count": null,
      "id": "ec9ad83b-01a6-4b6a-9747-353447f670c4",
      "metadata": {
        "id": "ec9ad83b-01a6-4b6a-9747-353447f670c4"
      },
      "outputs": [],
      "source": [
        "X_train, X_test, y_train, y_test = train_test_split(X, y, test_size=0.3, random_state=42)"
      ]
    },
    {
      "cell_type": "code",
      "execution_count": null,
      "id": "f5b99e7d-d8da-4b02-9f5e-b88804d408b6",
      "metadata": {
        "id": "f5b99e7d-d8da-4b02-9f5e-b88804d408b6",
        "outputId": "ab0de225-7f43-4f21-c460-399a7781ed24"
      },
      "outputs": [
        {
          "data": {
            "text/plain": [
              "((69946, 22), (69946,))"
            ]
          },
          "execution_count": 47,
          "metadata": {},
          "output_type": "execute_result"
        }
      ],
      "source": [
        "X_train.shape, y_train.shape"
      ]
    },
    {
      "cell_type": "code",
      "execution_count": null,
      "id": "9e73028a-466d-4add-84a9-fc25673f22d6",
      "metadata": {
        "id": "9e73028a-466d-4add-84a9-fc25673f22d6",
        "outputId": "2f53d35b-7db0-424d-a576-1f6758cf3108"
      },
      "outputs": [
        {
          "data": {
            "text/plain": [
              "((29977, 22), (29977,))"
            ]
          },
          "execution_count": 48,
          "metadata": {},
          "output_type": "execute_result"
        }
      ],
      "source": [
        "X_test.shape, y_test.shape"
      ]
    },
    {
      "cell_type": "markdown",
      "id": "9b671346-9103-4faf-b06c-da104b5897b0",
      "metadata": {
        "id": "9b671346-9103-4faf-b06c-da104b5897b0"
      },
      "source": [
        "### Imputation of Missing/Null/Nan values"
      ]
    },
    {
      "cell_type": "markdown",
      "id": "e1eb7e71-dafc-473f-8ca4-9bc011e7ea38",
      "metadata": {
        "id": "e1eb7e71-dafc-473f-8ca4-9bc011e7ea38"
      },
      "source": [
        "#### A. Imputation of Missing value in Train data"
      ]
    },
    {
      "cell_type": "code",
      "execution_count": null,
      "id": "cfa85ab5-3565-4e21-8abf-12f9ece490f3",
      "metadata": {
        "id": "cfa85ab5-3565-4e21-8abf-12f9ece490f3",
        "outputId": "d1ddb5aa-11b3-4054-f79c-d9df3ca8630e"
      },
      "outputs": [
        {
          "data": {
            "text/plain": [
              "Store                        0.000000\n",
              "DayOfWeek                    0.000000\n",
              "Date                         0.000000\n",
              "Customers                    0.000000\n",
              "Open                         0.000000\n",
              "Promo                        0.000000\n",
              "StateHoliday                 0.000000\n",
              "SchoolHoliday                0.000000\n",
              "StoreType                    0.000000\n",
              "Assortment                   0.000000\n",
              "CompetitionDistance          0.002774\n",
              "CompetitionOpenSinceMonth    0.317874\n",
              "CompetitionOpenSinceYear     0.317874\n",
              "Promo2                       0.000000\n",
              "Promo2SinceWeek              0.486504\n",
              "Promo2SinceYear              0.486504\n",
              "PromoInterval                0.486504\n",
              "date                         0.000000\n",
              "month                        0.000000\n",
              "year                         0.000000\n",
              "Date_new                     0.000000\n",
              "Quarter                      0.000000\n",
              "dtype: float64"
            ]
          },
          "execution_count": 49,
          "metadata": {},
          "output_type": "execute_result"
        }
      ],
      "source": [
        "X_train.isna().mean()"
      ]
    },
    {
      "cell_type": "markdown",
      "id": "c45fafa3-f50f-41b4-9a76-47b312eca629",
      "metadata": {
        "id": "c45fafa3-f50f-41b4-9a76-47b312eca629"
      },
      "source": [
        "#### 1. CompetitionDistance"
      ]
    },
    {
      "cell_type": "code",
      "execution_count": null,
      "id": "985783f0-d0a4-477d-92aa-388aa5fca244",
      "metadata": {
        "id": "985783f0-d0a4-477d-92aa-388aa5fca244"
      },
      "outputs": [],
      "source": [
        "X_train_missing_values = {}"
      ]
    },
    {
      "cell_type": "code",
      "execution_count": null,
      "id": "4a29f27f-f3c4-4996-a26b-2c590c5573f2",
      "metadata": {
        "id": "4a29f27f-f3c4-4996-a26b-2c590c5573f2",
        "outputId": "13f080d1-68f7-4f24-ba67-c8d4a2157193"
      },
      "outputs": [
        {
          "data": {
            "text/plain": [
              "count    69752.000000\n",
              "mean      5391.522680\n",
              "std       7679.409841\n",
              "min         20.000000\n",
              "25%        710.000000\n",
              "50%       2320.000000\n",
              "75%       6870.000000\n",
              "max      75860.000000\n",
              "Name: CompetitionDistance, dtype: float64"
            ]
          },
          "execution_count": 51,
          "metadata": {},
          "output_type": "execute_result"
        }
      ],
      "source": [
        "X_train['CompetitionDistance'].describe()"
      ]
    },
    {
      "cell_type": "markdown",
      "id": "dce2fe82-213e-4f58-b64d-ec351fc7b228",
      "metadata": {
        "id": "dce2fe82-213e-4f58-b64d-ec351fc7b228"
      },
      "source": [
        "#### **Observations:**\n",
        "- Here 75th percentile value = 6880 and Maximum = 75860\n",
        "- It is a possibility that an outlier is present in this feature\n",
        "- Hence we will impute Null/Nan values with median to overcome any outlier."
      ]
    },
    {
      "cell_type": "code",
      "execution_count": null,
      "id": "ec61f59c-2371-4c99-b890-b383419a11b2",
      "metadata": {
        "id": "ec61f59c-2371-4c99-b890-b383419a11b2"
      },
      "outputs": [],
      "source": [
        "X_train['CompetitionDistance'] = X_train['CompetitionDistance'].fillna(X_train['CompetitionDistance'].median())\n",
        "X_train_missing_values['CompetitionDistance'] = X_train['CompetitionDistance'].median()"
      ]
    },
    {
      "cell_type": "markdown",
      "id": "52cac5f5-7209-4baf-82c3-e325d6c099d6",
      "metadata": {
        "id": "52cac5f5-7209-4baf-82c3-e325d6c099d6"
      },
      "source": [
        "#### 2. PromoInterval\n",
        "\n",
        "- We have 3 Promos\n",
        "  1) Mar,Jun,Sept,Dec\n",
        "  2) Jan,Apr,Jul,Oct\n",
        "  3) Feb,May,Aug,Nov\n",
        "- Missing values in this feature are very high ~ > 45% of total data. Hence we can not impute missing values with the Mode (Most frequent category) of the feature. As it will change the distribution of the data.\n",
        "- Here we will consider Nan values as another category - \"No Promo\""
      ]
    },
    {
      "cell_type": "code",
      "execution_count": null,
      "id": "05772a14-64e6-4330-b2a1-5de3efa6811f",
      "metadata": {
        "id": "05772a14-64e6-4330-b2a1-5de3efa6811f"
      },
      "outputs": [],
      "source": [
        "X_train['PromoInterval'].fillna('No Promo', inplace=True)\n",
        "X_train_missing_values['PromoInterval'] = 'No Promo'"
      ]
    },
    {
      "cell_type": "markdown",
      "id": "59da290a-7db3-4305-8b42-ac87a194b4d6",
      "metadata": {
        "id": "59da290a-7db3-4305-8b42-ac87a194b4d6"
      },
      "source": [
        "#### 3. CompetitionOpenSinceMonth"
      ]
    },
    {
      "cell_type": "code",
      "execution_count": null,
      "id": "f79edb81-5adc-4b2d-8e63-a922b4a15307",
      "metadata": {
        "id": "f79edb81-5adc-4b2d-8e63-a922b4a15307",
        "outputId": "dbe55901-7c12-42de-845f-c71def31475c"
      },
      "outputs": [
        {
          "data": {
            "text/plain": [
              "<Axes: xlabel='CompetitionOpenSinceMonth', ylabel='count'>"
            ]
          },
          "execution_count": 54,
          "metadata": {},
          "output_type": "execute_result"
        },
        {
          "data": {
            "image/png": "[encoded data removed]",
            "text/plain": [
              "<Figure size 640x480 with 1 Axes>"
            ]
          },
          "metadata": {},
          "output_type": "display_data"
        }
      ],
      "source": [
        "sns.countplot(x='CompetitionOpenSinceMonth', data=X_train)"
      ]
    },
    {
      "cell_type": "code",
      "execution_count": null,
      "id": "319b1e4e-99f6-47cc-970c-ad9965521ba4",
      "metadata": {
        "id": "319b1e4e-99f6-47cc-970c-ad9965521ba4"
      },
      "outputs": [],
      "source": [
        "X_train['CompetitionOpenSinceMonth_1'] = X_train['CompetitionOpenSinceMonth'].fillna(X_train['CompetitionOpenSinceMonth'].mode()[0])"
      ]
    },
    {
      "cell_type": "code",
      "execution_count": null,
      "id": "fb38f9af-3975-4678-9ba7-108a66ded952",
      "metadata": {
        "id": "fb38f9af-3975-4678-9ba7-108a66ded952",
        "outputId": "284eda68-5b60-4ce9-c1ce-4e1090814341"
      },
      "outputs": [
        {
          "data": {
            "text/plain": [
              "<Axes: xlabel='CompetitionOpenSinceMonth_1', ylabel='count'>"
            ]
          },
          "execution_count": 56,
          "metadata": {},
          "output_type": "execute_result"
        },
        {
          "data": {
            "image/png": "[encoded data removed]",
            "text/plain": [
              "<Figure size 640x480 with 1 Axes>"
            ]
          },
          "metadata": {},
          "output_type": "display_data"
        }
      ],
      "source": [
        "sns.countplot(x='CompetitionOpenSinceMonth_1', data=X_train)"
      ]
    },
    {
      "cell_type": "markdown",
      "id": "9ff3d3f3-8c19-4c9e-a7a0-f2fb7e5b8a1e",
      "metadata": {
        "id": "9ff3d3f3-8c19-4c9e-a7a0-f2fb7e5b8a1e"
      },
      "source": [
        "- Missing values in this feature are very high ~ > 30 of total data.\n",
        "- It is changing the distribution of the data if we impute missing values with the Mode (Most frequent category).\n",
        "- Hence we can not impute missing values with the Mode.\n"
      ]
    },
    {
      "cell_type": "code",
      "execution_count": null,
      "id": "4c7b19b5-dda7-4b58-bd62-6d83099dda60",
      "metadata": {
        "id": "4c7b19b5-dda7-4b58-bd62-6d83099dda60"
      },
      "outputs": [],
      "source": [
        "X_train.drop(['CompetitionOpenSinceMonth_1'], axis=1, inplace=True)"
      ]
    },
    {
      "cell_type": "markdown",
      "id": "cf4595e6-1c08-4f14-b213-ef829c941e7c",
      "metadata": {
        "id": "cf4595e6-1c08-4f14-b213-ef829c941e7c"
      },
      "source": [
        "- Here we will try with KNN (K-Nearest Neighbors) imputation method.\n",
        "- It is used to fill in missing values in a dataset. It works by finding the K nearest neighbors of each observation with missing values and then using the values from those neighbors to impute the missing data."
      ]
    },
    {
      "cell_type": "markdown",
      "id": "404b5af2-38f9-4eab-acf5-407291ccfdbe",
      "metadata": {
        "id": "404b5af2-38f9-4eab-acf5-407291ccfdbe"
      },
      "source": [
        "##### KNN Imputation"
      ]
    },
    {
      "cell_type": "code",
      "execution_count": null,
      "id": "e804bfa0-d4f4-434d-9c4c-1ebdb8e0f588",
      "metadata": {
        "id": "e804bfa0-d4f4-434d-9c4c-1ebdb8e0f588"
      },
      "outputs": [],
      "source": [
        "imputer = KNNImputer(n_neighbors= 3)\n",
        "impute_with_3 = imputer.fit_transform(X_train[['CompetitionOpenSinceMonth']])"
      ]
    },
    {
      "cell_type": "code",
      "execution_count": null,
      "id": "00a3abb9-a198-48f3-b607-e90b0366293f",
      "metadata": {
        "id": "00a3abb9-a198-48f3-b607-e90b0366293f"
      },
      "outputs": [],
      "source": [
        "X_train['CompetitionOpenSinceMonth_knn_impute'] = np.floor(impute_with_3)"
      ]
    },
    {
      "cell_type": "code",
      "execution_count": null,
      "id": "ae93e19b-c347-496f-a04f-a4d6c7e19f69",
      "metadata": {
        "id": "ae93e19b-c347-496f-a04f-a4d6c7e19f69",
        "outputId": "7cd7a720-3805-458b-b033-3aa601856d28"
      },
      "outputs": [
        {
          "data": {
            "text/plain": [
              "<Axes: xlabel='CompetitionOpenSinceMonth_knn_impute', ylabel='count'>"
            ]
          },
          "execution_count": 60,
          "metadata": {},
          "output_type": "execute_result"
        },
        {
          "data": {
            "image/png": "[encoded data removed]",
            "text/plain": [
              "<Figure size 640x480 with 1 Axes>"
            ]
          },
          "metadata": {},
          "output_type": "display_data"
        }
      ],
      "source": [
        "sns.countplot(x='CompetitionOpenSinceMonth_knn_impute', data=X_train)"
      ]
    },
    {
      "cell_type": "code",
      "execution_count": null,
      "id": "bc1df472-1836-427a-806b-88b5e353d89e",
      "metadata": {
        "id": "bc1df472-1836-427a-806b-88b5e353d89e"
      },
      "outputs": [],
      "source": [
        "X_train.drop(['CompetitionOpenSinceMonth_knn_impute'], axis=1, inplace=True)"
      ]
    },
    {
      "cell_type": "markdown",
      "id": "9a976e3c-9d42-4268-8733-0836a81d1585",
      "metadata": {
        "id": "9a976e3c-9d42-4268-8733-0836a81d1585"
      },
      "source": [
        "- If we use KNN imputation, again it is totally changing the distribution of the data.\n",
        "- So we will try with Random Sample Imputation."
      ]
    },
    {
      "cell_type": "code",
      "execution_count": null,
      "id": "111f037f-320f-411b-bfe0-32e0051ee0f2",
      "metadata": {
        "id": "111f037f-320f-411b-bfe0-32e0051ee0f2"
      },
      "outputs": [],
      "source": [
        "random_sample = X_train['CompetitionOpenSinceMonth'].dropna().sample(X_train['CompetitionOpenSinceMonth'].isna().sum(), random_state=0)\n",
        "random_sample.index = X_train[X_train['CompetitionOpenSinceMonth'].isna()].index"
      ]
    },
    {
      "cell_type": "code",
      "execution_count": null,
      "id": "da6a176a-92ff-4ba9-949e-7cbd8fc31220",
      "metadata": {
        "id": "da6a176a-92ff-4ba9-949e-7cbd8fc31220"
      },
      "outputs": [],
      "source": [
        "X_train['CompetitionOpenSinceMonth_random'] = X_train['CompetitionOpenSinceMonth'].fillna(random_sample)"
      ]
    },
    {
      "cell_type": "code",
      "execution_count": null,
      "id": "859f3d06-5d19-440a-b660-994dfdc69c11",
      "metadata": {
        "id": "859f3d06-5d19-440a-b660-994dfdc69c11",
        "outputId": "6dd70f0a-b128-4fa1-cc07-057bc9d981a8"
      },
      "outputs": [
        {
          "data": {
            "text/plain": [
              "<Axes: xlabel='CompetitionOpenSinceMonth_random', ylabel='count'>"
            ]
          },
          "execution_count": 64,
          "metadata": {},
          "output_type": "execute_result"
        },
        {
          "data": {
            "image/png": "[encoded data removed]",
            "text/plain": [
              "<Figure size 640x480 with 1 Axes>"
            ]
          },
          "metadata": {},
          "output_type": "display_data"
        }
      ],
      "source": [
        "sns.countplot(x='CompetitionOpenSinceMonth_random', data=X_train)"
      ]
    },
    {
      "cell_type": "markdown",
      "id": "c44410e6-1f46-4629-be56-a5b04f5bb407",
      "metadata": {
        "id": "c44410e6-1f46-4629-be56-a5b04f5bb407"
      },
      "source": [
        "- With random sample imputation, we are imputing missing values with the randomly selected samples.\n",
        "- With this approach, original distribution of the data is also preserved."
      ]
    },
    {
      "cell_type": "code",
      "execution_count": null,
      "id": "4fb6f026-78e0-4b85-aa7c-a51e7657448d",
      "metadata": {
        "id": "4fb6f026-78e0-4b85-aa7c-a51e7657448d"
      },
      "outputs": [],
      "source": [
        "X_train.drop(['CompetitionOpenSinceMonth_random'], axis=1, inplace=True)"
      ]
    },
    {
      "cell_type": "markdown",
      "id": "bf98479a-e12f-4026-8be6-b40998ea67d2",
      "metadata": {
        "id": "bf98479a-e12f-4026-8be6-b40998ea67d2"
      },
      "source": [
        "##### Random Sample Imputation"
      ]
    },
    {
      "cell_type": "code",
      "execution_count": null,
      "id": "792b8c21-4e11-4703-b2ad-811bb419a944",
      "metadata": {
        "id": "792b8c21-4e11-4703-b2ad-811bb419a944"
      },
      "outputs": [],
      "source": [
        "def impute_nan_with_random(df, variable):\n",
        "    random_sample = df[variable].dropna().sample(df[variable].isna().sum(), random_state=0)\n",
        "    random_sample.index = df[df[variable].isna()].index\n",
        "    df[variable] = df[variable].fillna(random_sample)"
      ]
    },
    {
      "cell_type": "code",
      "execution_count": null,
      "id": "fa97ac4d-d41c-4ded-a823-11e1eb765f41",
      "metadata": {
        "id": "fa97ac4d-d41c-4ded-a823-11e1eb765f41"
      },
      "outputs": [],
      "source": [
        "for feature in ['CompetitionOpenSinceMonth', 'CompetitionOpenSinceYear']:\n",
        "    impute_nan_with_random(X_train, feature)"
      ]
    },
    {
      "cell_type": "markdown",
      "id": "2cd07ff8-cb86-4478-94f7-37341fd0b563",
      "metadata": {
        "id": "2cd07ff8-cb86-4478-94f7-37341fd0b563"
      },
      "source": [
        "#### 4. Promo2SinceWeek/Year\n",
        "\n",
        "- For these features, missing values are present only when Promo2 = 0\n",
        "- Hence we will impute missing values in these two features with 0 as there is no Promo code."
      ]
    },
    {
      "cell_type": "code",
      "execution_count": null,
      "id": "def8e0d3-3dd6-4320-ab91-e4ef569f1586",
      "metadata": {
        "id": "def8e0d3-3dd6-4320-ab91-e4ef569f1586"
      },
      "outputs": [],
      "source": [
        "X_train['Promo2SinceWeek'].fillna(0, inplace=True)\n",
        "X_train['Promo2SinceYear'].fillna(0, inplace=True)\n",
        "X_train_missing_values['Promo2SinceYear'] = 0\n",
        "X_train_missing_values['Promo2SinceWeek'] = 0"
      ]
    },
    {
      "cell_type": "code",
      "execution_count": null,
      "id": "e77a0175-b529-4726-852e-f7ef681b35a3",
      "metadata": {
        "id": "e77a0175-b529-4726-852e-f7ef681b35a3",
        "outputId": "17892c94-f231-4308-9984-bd8087dd747b"
      },
      "outputs": [
        {
          "data": {
            "text/plain": [
              "Store                        0\n",
              "DayOfWeek                    0\n",
              "Date                         0\n",
              "Customers                    0\n",
              "Open                         0\n",
              "Promo                        0\n",
              "StateHoliday                 0\n",
              "SchoolHoliday                0\n",
              "StoreType                    0\n",
              "Assortment                   0\n",
              "CompetitionDistance          0\n",
              "CompetitionOpenSinceMonth    0\n",
              "CompetitionOpenSinceYear     0\n",
              "Promo2                       0\n",
              "Promo2SinceWeek              0\n",
              "Promo2SinceYear              0\n",
              "PromoInterval                0\n",
              "date                         0\n",
              "month                        0\n",
              "year                         0\n",
              "Date_new                     0\n",
              "Quarter                      0\n",
              "dtype: int64"
            ]
          },
          "execution_count": 69,
          "metadata": {},
          "output_type": "execute_result"
        }
      ],
      "source": [
        "X_train.isna().sum()"
      ]
    },
    {
      "cell_type": "markdown",
      "id": "61a20c05-c29c-4d6a-bc9e-233a3fb1df3a",
      "metadata": {
        "id": "61a20c05-c29c-4d6a-bc9e-233a3fb1df3a"
      },
      "source": [
        "#### B. Imputation of Missing value in Test dataset"
      ]
    },
    {
      "cell_type": "code",
      "execution_count": null,
      "id": "8841be57-f8f2-42be-8467-a46ed46ab5ab",
      "metadata": {
        "id": "8841be57-f8f2-42be-8467-a46ed46ab5ab",
        "outputId": "28ac8ccf-0e3f-4043-93bc-518987795127"
      },
      "outputs": [
        {
          "data": {
            "text/plain": [
              "Store                            0\n",
              "DayOfWeek                        0\n",
              "Date                             0\n",
              "Customers                        0\n",
              "Open                             0\n",
              "Promo                            0\n",
              "StateHoliday                     0\n",
              "SchoolHoliday                    0\n",
              "StoreType                        0\n",
              "Assortment                       0\n",
              "CompetitionDistance             74\n",
              "CompetitionOpenSinceMonth     9489\n",
              "CompetitionOpenSinceYear      9489\n",
              "Promo2                           0\n",
              "Promo2SinceWeek              14719\n",
              "Promo2SinceYear              14719\n",
              "PromoInterval                14719\n",
              "date                             0\n",
              "month                            0\n",
              "year                             0\n",
              "Date_new                         0\n",
              "Quarter                          0\n",
              "dtype: int64"
            ]
          },
          "execution_count": 70,
          "metadata": {},
          "output_type": "execute_result"
        }
      ],
      "source": [
        "X_test.isna().sum()"
      ]
    },
    {
      "cell_type": "code",
      "execution_count": null,
      "id": "7dcc78e8-8c91-42b5-8e58-6e244410c13a",
      "metadata": {
        "id": "7dcc78e8-8c91-42b5-8e58-6e244410c13a"
      },
      "outputs": [],
      "source": [
        "X_test['CompetitionDistance'].fillna(X_train_missing_values['CompetitionDistance'], inplace=True)\n",
        "X_test['Promo2SinceYear'].fillna(X_train_missing_values['Promo2SinceYear'], inplace=True)\n",
        "X_test['Promo2SinceWeek'].fillna(X_train_missing_values['Promo2SinceWeek'], inplace=True)\n",
        "X_test['PromoInterval'].fillna(X_train_missing_values['PromoInterval'], inplace=True)\n",
        "for feature in ['CompetitionOpenSinceMonth', 'CompetitionOpenSinceYear']:\n",
        "    impute_nan_with_random(X_test, feature)"
      ]
    },
    {
      "cell_type": "code",
      "execution_count": null,
      "id": "59e78cf7-21cf-4145-b638-9b73a061562a",
      "metadata": {
        "id": "59e78cf7-21cf-4145-b638-9b73a061562a",
        "outputId": "50c54074-a611-4d3c-e9ab-d5c7c657d590"
      },
      "outputs": [
        {
          "data": {
            "text/plain": [
              "Store                        0\n",
              "DayOfWeek                    0\n",
              "Date                         0\n",
              "Customers                    0\n",
              "Open                         0\n",
              "Promo                        0\n",
              "StateHoliday                 0\n",
              "SchoolHoliday                0\n",
              "StoreType                    0\n",
              "Assortment                   0\n",
              "CompetitionDistance          0\n",
              "CompetitionOpenSinceMonth    0\n",
              "CompetitionOpenSinceYear     0\n",
              "Promo2                       0\n",
              "Promo2SinceWeek              0\n",
              "Promo2SinceYear              0\n",
              "PromoInterval                0\n",
              "date                         0\n",
              "month                        0\n",
              "year                         0\n",
              "Date_new                     0\n",
              "Quarter                      0\n",
              "dtype: int64"
            ]
          },
          "execution_count": 72,
          "metadata": {},
          "output_type": "execute_result"
        }
      ],
      "source": [
        "X_test.isna().sum()"
      ]
    },
    {
      "cell_type": "code",
      "execution_count": null,
      "id": "5ad69844-5225-4e38-9d8f-312830ae9a6d",
      "metadata": {
        "id": "5ad69844-5225-4e38-9d8f-312830ae9a6d",
        "outputId": "a67d6c79-05cd-4b56-8ac9-48283fdd07dd"
      },
      "outputs": [
        {
          "data": {
            "text/html": [
              "<div>\n",
              "<style scoped>\n",
              "    .dataframe tbody tr th:only-of-type {\n",
              "        vertical-align: middle;\n",
              "    }\n",
              "\n",
              "    .dataframe tbody tr th {\n",
              "        vertical-align: top;\n",
              "    }\n",
              "\n",
              "    .dataframe thead th {\n",
              "        text-align: right;\n",
              "    }\n",
              "</style>\n",
              "<table border=\"1\" class=\"dataframe\">\n",
              "  <thead>\n",
              "    <tr style=\"text-align: right;\">\n",
              "      <th></th>\n",
              "      <th>Store</th>\n",
              "      <th>DayOfWeek</th>\n",
              "      <th>Date</th>\n",
              "      <th>Customers</th>\n",
              "      <th>Open</th>\n",
              "      <th>Promo</th>\n",
              "      <th>StateHoliday</th>\n",
              "      <th>SchoolHoliday</th>\n",
              "      <th>StoreType</th>\n",
              "      <th>Assortment</th>\n",
              "      <th>...</th>\n",
              "      <th>CompetitionOpenSinceYear</th>\n",
              "      <th>Promo2</th>\n",
              "      <th>Promo2SinceWeek</th>\n",
              "      <th>Promo2SinceYear</th>\n",
              "      <th>PromoInterval</th>\n",
              "      <th>date</th>\n",
              "      <th>month</th>\n",
              "      <th>year</th>\n",
              "      <th>Date_new</th>\n",
              "      <th>Quarter</th>\n",
              "    </tr>\n",
              "  </thead>\n",
              "  <tbody>\n",
              "    <tr>\n",
              "      <th>12750</th>\n",
              "      <td>143</td>\n",
              "      <td>7</td>\n",
              "      <td>20-01-2013</td>\n",
              "      <td>0</td>\n",
              "      <td>0</td>\n",
              "      <td>0</td>\n",
              "      <td>0</td>\n",
              "      <td>0</td>\n",
              "      <td>d</td>\n",
              "      <td>a</td>\n",
              "      <td>...</td>\n",
              "      <td>2002.0</td>\n",
              "      <td>0</td>\n",
              "      <td>0.0</td>\n",
              "      <td>0.0</td>\n",
              "      <td>No Promo</td>\n",
              "      <td>20</td>\n",
              "      <td>1</td>\n",
              "      <td>2013</td>\n",
              "      <td>2013-01-20</td>\n",
              "      <td>1</td>\n",
              "    </tr>\n",
              "    <tr>\n",
              "      <th>35743</th>\n",
              "      <td>399</td>\n",
              "      <td>1</td>\n",
              "      <td>29-04-2013</td>\n",
              "      <td>657</td>\n",
              "      <td>1</td>\n",
              "      <td>1</td>\n",
              "      <td>0</td>\n",
              "      <td>0</td>\n",
              "      <td>a</td>\n",
              "      <td>a</td>\n",
              "      <td>...</td>\n",
              "      <td>2012.0</td>\n",
              "      <td>1</td>\n",
              "      <td>40.0</td>\n",
              "      <td>2011.0</td>\n",
              "      <td>Jan,Apr,Jul,Oct</td>\n",
              "      <td>29</td>\n",
              "      <td>4</td>\n",
              "      <td>2013</td>\n",
              "      <td>2013-04-29</td>\n",
              "      <td>2</td>\n",
              "    </tr>\n",
              "    <tr>\n",
              "      <th>98359</th>\n",
              "      <td>1098</td>\n",
              "      <td>5</td>\n",
              "      <td>19-06-2015</td>\n",
              "      <td>775</td>\n",
              "      <td>1</td>\n",
              "      <td>1</td>\n",
              "      <td>0</td>\n",
              "      <td>0</td>\n",
              "      <td>a</td>\n",
              "      <td>a</td>\n",
              "      <td>...</td>\n",
              "      <td>2004.0</td>\n",
              "      <td>0</td>\n",
              "      <td>0.0</td>\n",
              "      <td>0.0</td>\n",
              "      <td>No Promo</td>\n",
              "      <td>19</td>\n",
              "      <td>6</td>\n",
              "      <td>2015</td>\n",
              "      <td>2015-06-19</td>\n",
              "      <td>2</td>\n",
              "    </tr>\n",
              "    <tr>\n",
              "      <th>82229</th>\n",
              "      <td>918</td>\n",
              "      <td>7</td>\n",
              "      <td>28-04-2013</td>\n",
              "      <td>0</td>\n",
              "      <td>0</td>\n",
              "      <td>0</td>\n",
              "      <td>0</td>\n",
              "      <td>0</td>\n",
              "      <td>a</td>\n",
              "      <td>c</td>\n",
              "      <td>...</td>\n",
              "      <td>2015.0</td>\n",
              "      <td>0</td>\n",
              "      <td>0.0</td>\n",
              "      <td>0.0</td>\n",
              "      <td>No Promo</td>\n",
              "      <td>28</td>\n",
              "      <td>4</td>\n",
              "      <td>2013</td>\n",
              "      <td>2013-04-28</td>\n",
              "      <td>2</td>\n",
              "    </tr>\n",
              "    <tr>\n",
              "      <th>64004</th>\n",
              "      <td>715</td>\n",
              "      <td>4</td>\n",
              "      <td>28-05-2015</td>\n",
              "      <td>699</td>\n",
              "      <td>1</td>\n",
              "      <td>0</td>\n",
              "      <td>0</td>\n",
              "      <td>0</td>\n",
              "      <td>a</td>\n",
              "      <td>a</td>\n",
              "      <td>...</td>\n",
              "      <td>2014.0</td>\n",
              "      <td>0</td>\n",
              "      <td>0.0</td>\n",
              "      <td>0.0</td>\n",
              "      <td>No Promo</td>\n",
              "      <td>28</td>\n",
              "      <td>5</td>\n",
              "      <td>2015</td>\n",
              "      <td>2015-05-28</td>\n",
              "      <td>2</td>\n",
              "    </tr>\n",
              "  </tbody>\n",
              "</table>\n",
              "<p>5 rows × 22 columns</p>\n",
              "</div>"
            ],
            "text/plain": [
              "       Store  DayOfWeek        Date  Customers  Open  Promo StateHoliday  \\\n",
              "12750    143          7  20-01-2013          0     0      0            0   \n",
              "35743    399          1  29-04-2013        657     1      1            0   \n",
              "98359   1098          5  19-06-2015        775     1      1            0   \n",
              "82229    918          7  28-04-2013          0     0      0            0   \n",
              "64004    715          4  28-05-2015        699     1      0            0   \n",
              "\n",
              "       SchoolHoliday StoreType Assortment  ...  CompetitionOpenSinceYear  \\\n",
              "12750              0         d          a  ...                    2002.0   \n",
              "35743              0         a          a  ...                    2012.0   \n",
              "98359              0         a          a  ...                    2004.0   \n",
              "82229              0         a          c  ...                    2015.0   \n",
              "64004              0         a          a  ...                    2014.0   \n",
              "\n",
              "       Promo2  Promo2SinceWeek  Promo2SinceYear    PromoInterval  date month  \\\n",
              "12750       0              0.0              0.0         No Promo    20     1   \n",
              "35743       1             40.0           2011.0  Jan,Apr,Jul,Oct    29     4   \n",
              "98359       0              0.0              0.0         No Promo    19     6   \n",
              "82229       0              0.0              0.0         No Promo    28     4   \n",
              "64004       0              0.0              0.0         No Promo    28     5   \n",
              "\n",
              "       year   Date_new  Quarter  \n",
              "12750  2013 2013-01-20        1  \n",
              "35743  2013 2013-04-29        2  \n",
              "98359  2015 2015-06-19        2  \n",
              "82229  2013 2013-04-28        2  \n",
              "64004  2015 2015-05-28        2  \n",
              "\n",
              "[5 rows x 22 columns]"
            ]
          },
          "execution_count": 73,
          "metadata": {},
          "output_type": "execute_result"
        }
      ],
      "source": [
        "X_test.head()"
      ]
    },
    {
      "cell_type": "markdown",
      "id": "bb4e1de8-69b2-45b3-accb-759e71f1455e",
      "metadata": {
        "id": "bb4e1de8-69b2-45b3-accb-759e71f1455e"
      },
      "source": [
        "### Remove unwanted features/columns"
      ]
    },
    {
      "cell_type": "code",
      "execution_count": null,
      "id": "beac8458-e832-4835-b08f-14f9836f6dce",
      "metadata": {
        "id": "beac8458-e832-4835-b08f-14f9836f6dce"
      },
      "outputs": [],
      "source": [
        "X_train.drop(features_to_remove, axis=1, inplace=True)\n",
        "X_test.drop(features_to_remove, axis=1, inplace=True)"
      ]
    },
    {
      "cell_type": "markdown",
      "id": "a9925509-932a-4b45-b93b-e0b459707d4d",
      "metadata": {
        "id": "a9925509-932a-4b45-b93b-e0b459707d4d"
      },
      "source": [
        "### Encoding Categorical Features"
      ]
    },
    {
      "cell_type": "code",
      "execution_count": null,
      "id": "f2b6c2fa-4532-459e-84a0-fb2ad6a344b8",
      "metadata": {
        "id": "f2b6c2fa-4532-459e-84a0-fb2ad6a344b8",
        "outputId": "8ab00374-3e89-4b92-a537-f91c8ccf0f53"
      },
      "outputs": [
        {
          "name": "stdout",
          "output_type": "stream",
          "text": [
            "<class 'pandas.core.frame.DataFrame'>\n",
            "Index: 69946 entries, 53207 to 15795\n",
            "Data columns (total 19 columns):\n",
            " #   Column                     Non-Null Count  Dtype  \n",
            "---  ------                     --------------  -----  \n",
            " 0   Store                      69946 non-null  int64  \n",
            " 1   DayOfWeek                  69946 non-null  int64  \n",
            " 2   Customers                  69946 non-null  int64  \n",
            " 3   Promo                      69946 non-null  int64  \n",
            " 4   StateHoliday               69946 non-null  object \n",
            " 5   SchoolHoliday              69946 non-null  int64  \n",
            " 6   StoreType                  69946 non-null  object \n",
            " 7   Assortment                 69946 non-null  object \n",
            " 8   CompetitionDistance        69946 non-null  float64\n",
            " 9   CompetitionOpenSinceMonth  69946 non-null  float64\n",
            " 10  CompetitionOpenSinceYear   69946 non-null  float64\n",
            " 11  Promo2                     69946 non-null  int64  \n",
            " 12  Promo2SinceWeek            69946 non-null  float64\n",
            " 13  Promo2SinceYear            69946 non-null  float64\n",
            " 14  PromoInterval              69946 non-null  object \n",
            " 15  date                       69946 non-null  int32  \n",
            " 16  month                      69946 non-null  int32  \n",
            " 17  year                       69946 non-null  int32  \n",
            " 18  Quarter                    69946 non-null  int32  \n",
            "dtypes: float64(5), int32(4), int64(6), object(4)\n",
            "memory usage: 9.6+ MB\n"
          ]
        }
      ],
      "source": [
        "X_train.info()"
      ]
    },
    {
      "cell_type": "markdown",
      "id": "002c83ca-63e9-48b4-8ef1-874773747c1a",
      "metadata": {
        "id": "002c83ca-63e9-48b4-8ef1-874773747c1a"
      },
      "source": [
        "#### **Observations:**\n",
        "- Here 'StateHoliday', 'StoreType' and 'PromoInterval' are Nominal categorical features.\n",
        "- Hence we can use OneHotEncoder to encode these features.\n",
        "- Here 'Assortment' is Ordinal categorical feature.\n",
        "- Hence we can not use OneHotEncoder to encode this feature."
      ]
    },
    {
      "cell_type": "code",
      "execution_count": null,
      "id": "880636f6-9e44-45f8-974e-78524c44bbda",
      "metadata": {
        "id": "880636f6-9e44-45f8-974e-78524c44bbda"
      },
      "outputs": [],
      "source": [
        "cols_to_encode = ['StateHoliday', 'StoreType', 'PromoInterval']\n",
        "assortment_dictionary = {'a': 1, 'b': 2, 'c': 3}"
      ]
    },
    {
      "cell_type": "code",
      "execution_count": null,
      "id": "017e4ef5-eca0-44b7-b4e9-e5ec5bfdba0b",
      "metadata": {
        "id": "017e4ef5-eca0-44b7-b4e9-e5ec5bfdba0b"
      },
      "outputs": [],
      "source": [
        "X_train_enc = pd.get_dummies(X_train[cols_to_encode], drop_first=True, dtype=int)\n",
        "X_train = pd.concat([X_train, X_train_enc], axis=1)\n",
        "X_train.drop(cols_to_encode, axis=1, inplace=True)\n",
        "X_train['Assortment'] = X_train['Assortment'].map(assortment_dictionary)"
      ]
    },
    {
      "cell_type": "code",
      "execution_count": null,
      "id": "3aa5af80-846d-4dc2-a428-e5b77a2da02d",
      "metadata": {
        "id": "3aa5af80-846d-4dc2-a428-e5b77a2da02d"
      },
      "outputs": [],
      "source": [
        "X_test['Assortment'] = X_test['Assortment'].map(assortment_dictionary)\n",
        "X_test_enc = pd.get_dummies(X_test[cols_to_encode], drop_first=True, dtype=int)\n",
        "X_test = pd.concat([X_test, X_test_enc], axis=1)\n",
        "X_test.drop(cols_to_encode, axis=1, inplace=True)"
      ]
    },
    {
      "cell_type": "markdown",
      "id": "ab948f07-9920-404c-bb7c-793054398f42",
      "metadata": {
        "id": "ab948f07-9920-404c-bb7c-793054398f42"
      },
      "source": [
        "### Model Building"
      ]
    },
    {
      "cell_type": "code",
      "execution_count": null,
      "id": "ca68cf4d-a2cf-4937-91d8-edda3a470ed3",
      "metadata": {
        "id": "ca68cf4d-a2cf-4937-91d8-edda3a470ed3"
      },
      "outputs": [],
      "source": [
        "from sklearn.linear_model import LinearRegression\n",
        "from sklearn.ensemble import RandomForestRegressor\n",
        "from sklearn.tree import DecisionTreeRegressor\n",
        "from xgboost import XGBRegressor\n",
        "from sklearn.neighbors import KNeighborsRegressor\n",
        "from sklearn.ensemble import GradientBoostingRegressor\n",
        "from sklearn.ensemble import AdaBoostRegressor\n",
        "from sklearn.svm import SVR\n",
        "from sklearn.naive_bayes import GaussianNB\n",
        "\n",
        "from sklearn.metrics import r2_score, mean_squared_error, mean_absolute_error"
      ]
    },
    {
      "cell_type": "code",
      "execution_count": null,
      "id": "904ec016-7519-4e1d-b486-ac0453d7a60a",
      "metadata": {
        "id": "904ec016-7519-4e1d-b486-ac0453d7a60a"
      },
      "outputs": [],
      "source": [
        "R2_df = pd.DataFrame(columns = ['Model Name', 'Training_R2', 'Testing_R2'])\n",
        "\n",
        "# creating a function to perform the model building\n",
        "def predict(model_name):\n",
        "    print(f'Model Name: {model_name}')\n",
        "    model = model_name.fit(X_train,y_train) # fitting the data to model\n",
        "    train_pred = model.predict(X_train)     # predict train data\n",
        "    test_pred = model.predict(X_test)       # predict test data\n",
        "    print()\n",
        "    print('R2_SCORE')\n",
        "    print()\n",
        "    training_r2 = r2_score(y_train,train_pred)\n",
        "    testing_r2 = r2_score(y_test,test_pred)\n",
        "    print(f'Training : {training_r2}')\n",
        "    print(f'Testing  : {testing_r2}')\n",
        "    print()\n",
        "    print('Mean_Squared_Error(MSE)')\n",
        "    print()\n",
        "    training_MSE = mean_squared_error(y_train,train_pred)\n",
        "    testing_MSE = mean_squared_error(y_test,test_pred)\n",
        "    print(f'Training : {training_MSE}')\n",
        "    print(f'Testing  : {testing_MSE}')\n",
        "    print()\n",
        "    print('Mean_Absolute_Error(MAE)')\n",
        "    print()\n",
        "    training_MAE = mean_absolute_error(y_train,train_pred)\n",
        "    testing_MAE = mean_absolute_error(y_test,test_pred)\n",
        "    print(f'Training : {training_MAE}')\n",
        "    print(f'Testing  : {testing_MAE}')\n",
        "    print()\n",
        "    print('Root_Mean_Squared_Error(RMSE)')\n",
        "    print()\n",
        "    training_RMSE = np.sqrt(mean_squared_error(y_train,train_pred))\n",
        "    testing_RMSE = np.sqrt(mean_squared_error(y_test,test_pred))\n",
        "    print(f'Training : {training_RMSE}')\n",
        "    print(f'Testing  : {testing_RMSE}')\n",
        "\n",
        "    # storing the R2 values to a dataframe\n",
        "    r2_scores = pd.DataFrame({'Model Name': [model_name], 'Training_R2': [training_r2], 'Testing_R2': [testing_r2]})\n",
        "\n",
        "    global R2_df # accessing global variable\n",
        "\n",
        "    R2_df = pd.concat([R2_df, r2_scores], ignore_index=True) # concatenating the stored value to  the empty df"
      ]
    },
    {
      "cell_type": "code",
      "execution_count": null,
      "id": "ca8ee51d-6fc2-4e00-9cf7-4317d5a4b013",
      "metadata": {
        "id": "ca8ee51d-6fc2-4e00-9cf7-4317d5a4b013",
        "outputId": "3e6e768c-d823-43af-ec9c-b20489b230a9"
      },
      "outputs": [
        {
          "name": "stdout",
          "output_type": "stream",
          "text": [
            "Model Name: LinearRegression()\n",
            "\n",
            "R2_SCORE\n",
            "\n",
            "Training : 0.8957287495771542\n",
            "Testing  : 0.89873649316623\n",
            "\n",
            "Mean_Squared_Error(MSE)\n",
            "\n",
            "Training : 1651664.2454702773\n",
            "Testing  : 1583769.8169003192\n",
            "\n",
            "Mean_Absolute_Error(MAE)\n",
            "\n",
            "Training : 909.5929665269308\n",
            "Testing  : 893.9380020542852\n",
            "\n",
            "Root_Mean_Squared_Error(RMSE)\n",
            "\n",
            "Training : 1285.1709012696629\n",
            "Testing  : 1258.4791682424939\n"
          ]
        }
      ],
      "source": [
        "predict(LinearRegression())"
      ]
    },
    {
      "cell_type": "code",
      "execution_count": null,
      "id": "d5825130-7efd-4b5d-aea5-8be1fbbf60ef",
      "metadata": {
        "id": "d5825130-7efd-4b5d-aea5-8be1fbbf60ef",
        "outputId": "9d66a9a2-57cd-42cf-8d34-05a3cc8ae34f"
      },
      "outputs": [
        {
          "name": "stdout",
          "output_type": "stream",
          "text": [
            "Model Name: DecisionTreeRegressor()\n",
            "\n",
            "R2_SCORE\n",
            "\n",
            "Training : 1.0\n",
            "Testing  : 0.9334364477181923\n",
            "\n",
            "Mean_Squared_Error(MSE)\n",
            "\n",
            "Training : 0.0\n",
            "Testing  : 1041059.5910197819\n",
            "\n",
            "Mean_Absolute_Error(MAE)\n",
            "\n",
            "Training : 0.0\n",
            "Testing  : 615.759815858825\n",
            "\n",
            "Root_Mean_Squared_Error(RMSE)\n",
            "\n",
            "Training : 0.0\n",
            "Testing  : 1020.3232777016223\n"
          ]
        }
      ],
      "source": [
        "predict(DecisionTreeRegressor())"
      ]
    },
    {
      "cell_type": "code",
      "execution_count": null,
      "id": "116c1edf-bf01-41d2-9802-afc023a28734",
      "metadata": {
        "id": "116c1edf-bf01-41d2-9802-afc023a28734",
        "outputId": "e06daf69-97ee-4134-edd9-3d2e0c27dadb"
      },
      "outputs": [
        {
          "name": "stdout",
          "output_type": "stream",
          "text": [
            "Model Name: RandomForestRegressor()\n",
            "\n",
            "R2_SCORE\n",
            "\n",
            "Training : 0.9956776858982418\n",
            "Testing  : 0.9702921028318741\n",
            "\n",
            "Mean_Squared_Error(MSE)\n",
            "\n",
            "Training : 68465.77201880308\n",
            "Testing  : 464634.0259151049\n",
            "\n",
            "Mean_Absolute_Error(MAE)\n",
            "\n",
            "Training : 161.91147856918195\n",
            "Testing  : 429.8184037762284\n",
            "\n",
            "Root_Mean_Squared_Error(RMSE)\n",
            "\n",
            "Training : 261.6596491987312\n",
            "Testing  : 681.6406868102174\n"
          ]
        }
      ],
      "source": [
        "predict(RandomForestRegressor())"
      ]
    },
    {
      "cell_type": "code",
      "execution_count": null,
      "id": "a5cb7f1f-9ff6-408a-86a4-e3b08f1c2fc3",
      "metadata": {
        "id": "a5cb7f1f-9ff6-408a-86a4-e3b08f1c2fc3",
        "outputId": "cba85dc9-6464-487c-db5a-34794117c8dc"
      },
      "outputs": [
        {
          "name": "stdout",
          "output_type": "stream",
          "text": [
            "Model Name: XGBRegressor(base_score=None, booster=None, callbacks=None,\n",
            "             colsample_bylevel=None, colsample_bynode=None,\n",
            "             colsample_bytree=None, device=None, early_stopping_rounds=None,\n",
            "             enable_categorical=False, eval_metric=None, feature_types=None,\n",
            "             gamma=None, grow_policy=None, importance_type=None,\n",
            "             interaction_constraints=None, learning_rate=None, max_bin=None,\n",
            "             max_cat_threshold=None, max_cat_to_onehot=None,\n",
            "             max_delta_step=None, max_depth=None, max_leaves=None,\n",
            "             min_child_weight=None, missing=nan, monotone_constraints=None,\n",
            "             multi_strategy=None, n_estimators=None, n_jobs=None,\n",
            "             num_parallel_tree=None, random_state=None, ...)\n",
            "\n",
            "R2_SCORE\n",
            "\n",
            "Training : 0.9843251354873012\n",
            "Testing  : 0.9802370609328531\n",
            "\n",
            "Mean_Squared_Error(MSE)\n",
            "\n",
            "Training : 248291.00220076684\n",
            "Testing  : 309094.0395651915\n",
            "\n",
            "Mean_Absolute_Error(MAE)\n",
            "\n",
            "Training : 355.1251433899496\n",
            "Testing  : 388.4885039185215\n",
            "\n",
            "Root_Mean_Squared_Error(RMSE)\n",
            "\n",
            "Training : 498.28807150158315\n",
            "Testing  : 555.9622645154898\n"
          ]
        }
      ],
      "source": [
        "predict(XGBRegressor())"
      ]
    },
    {
      "cell_type": "code",
      "execution_count": null,
      "id": "19f49ac8-ffaa-43ae-bfad-c93568e1cc26",
      "metadata": {
        "id": "19f49ac8-ffaa-43ae-bfad-c93568e1cc26",
        "outputId": "1e6d6a1a-6353-4f87-f90a-ead9d92ca181"
      },
      "outputs": [
        {
          "name": "stdout",
          "output_type": "stream",
          "text": [
            "Model Name: KNeighborsRegressor()\n",
            "\n",
            "R2_SCORE\n",
            "\n",
            "Training : 0.9754641715995088\n",
            "Testing  : 0.9605063152222533\n",
            "\n",
            "Mean_Squared_Error(MSE)\n",
            "\n",
            "Training : 388649.31932576554\n",
            "Testing  : 617684.5723094372\n",
            "\n",
            "Mean_Absolute_Error(MAE)\n",
            "\n",
            "Training : 365.41230377719955\n",
            "Testing  : 459.2021549854889\n",
            "\n",
            "Root_Mean_Squared_Error(RMSE)\n",
            "\n",
            "Training : 623.4174518938057\n",
            "Testing  : 785.9291140487398\n"
          ]
        }
      ],
      "source": [
        "predict(KNeighborsRegressor())"
      ]
    },
    {
      "cell_type": "code",
      "execution_count": null,
      "id": "2fa20cb3-d396-4166-baf1-aea466a5829e",
      "metadata": {
        "id": "2fa20cb3-d396-4166-baf1-aea466a5829e",
        "outputId": "1a315c52-2f06-47e5-ad7d-1ecedd7c52b8"
      },
      "outputs": [
        {
          "name": "stdout",
          "output_type": "stream",
          "text": [
            "Model Name: GradientBoostingRegressor()\n",
            "\n",
            "R2_SCORE\n",
            "\n",
            "Training : 0.9419094727897491\n",
            "Testing  : 0.9423974954595319\n",
            "\n",
            "Mean_Squared_Error(MSE)\n",
            "\n",
            "Training : 920158.2066447323\n",
            "Testing  : 900908.0459638342\n",
            "\n",
            "Mean_Absolute_Error(MAE)\n",
            "\n",
            "Training : 672.6628000008561\n",
            "Testing  : 666.7937466174071\n",
            "\n",
            "Root_Mean_Squared_Error(RMSE)\n",
            "\n",
            "Training : 959.2487720319126\n",
            "Testing  : 949.1617596404915\n"
          ]
        }
      ],
      "source": [
        "predict(GradientBoostingRegressor())"
      ]
    },
    {
      "cell_type": "code",
      "execution_count": null,
      "id": "28c151d1-66a7-4c1e-98cd-cab0ea35d46a",
      "metadata": {
        "id": "28c151d1-66a7-4c1e-98cd-cab0ea35d46a",
        "outputId": "92017b9f-bccd-4556-faec-1c60cb27019d"
      },
      "outputs": [
        {
          "name": "stdout",
          "output_type": "stream",
          "text": [
            "Model Name: SVR()\n",
            "\n",
            "R2_SCORE\n",
            "\n",
            "Training : 0.0668671973557109\n",
            "Testing  : 0.06684169164978526\n",
            "\n",
            "Mean_Squared_Error(MSE)\n",
            "\n",
            "Training : 14780891.953947108\n",
            "Testing  : 14594674.916610433\n",
            "\n",
            "Mean_Absolute_Error(MAE)\n",
            "\n",
            "Training : 2900.9327334635095\n",
            "Testing  : 2886.942353685773\n",
            "\n",
            "Root_Mean_Squared_Error(RMSE)\n",
            "\n",
            "Training : 3844.5925602002494\n",
            "Testing  : 3820.2977523499962\n"
          ]
        }
      ],
      "source": [
        "predict(SVR())"
      ]
    },
    {
      "cell_type": "code",
      "execution_count": null,
      "id": "ef5223a6-b059-4f29-abd8-3b14cef1a966",
      "metadata": {
        "id": "ef5223a6-b059-4f29-abd8-3b14cef1a966",
        "outputId": "ee1842f7-aa57-42a1-c054-f58c19f1dddf"
      },
      "outputs": [
        {
          "name": "stdout",
          "output_type": "stream",
          "text": [
            "Model Name: GaussianNB()\n",
            "\n",
            "R2_SCORE\n",
            "\n",
            "Training : 0.4083599884570305\n",
            "Testing  : 0.34056311997594024\n",
            "\n",
            "Mean_Squared_Error(MSE)\n",
            "\n",
            "Training : 9371621.125596888\n",
            "Testing  : 10313648.612302765\n",
            "\n",
            "Mean_Absolute_Error(MAE)\n",
            "\n",
            "Training : 1854.7253738598347\n",
            "Testing  : 2035.5220002001533\n",
            "\n",
            "Root_Mean_Squared_Error(RMSE)\n",
            "\n",
            "Training : 3061.31036087439\n",
            "Testing  : 3211.486978379761\n"
          ]
        }
      ],
      "source": [
        "predict(GaussianNB())"
      ]
    },
    {
      "cell_type": "code",
      "execution_count": null,
      "id": "0ff9bbfd-7382-49bd-b2bc-58bdd25fd7f6",
      "metadata": {
        "id": "0ff9bbfd-7382-49bd-b2bc-58bdd25fd7f6"
      },
      "outputs": [],
      "source": []
    },
    {
      "cell_type": "code",
      "execution_count": null,
      "id": "81d35d6e-203d-46b9-9ee2-57e072cc35f4",
      "metadata": {
        "id": "81d35d6e-203d-46b9-9ee2-57e072cc35f4",
        "outputId": "3178caa2-69f4-4c37-e5c0-fe769a5d4862"
      },
      "outputs": [
        {
          "data": {
            "text/html": [
              "<div>\n",
              "<style scoped>\n",
              "    .dataframe tbody tr th:only-of-type {\n",
              "        vertical-align: middle;\n",
              "    }\n",
              "\n",
              "    .dataframe tbody tr th {\n",
              "        vertical-align: top;\n",
              "    }\n",
              "\n",
              "    .dataframe thead th {\n",
              "        text-align: right;\n",
              "    }\n",
              "</style>\n",
              "<table border=\"1\" class=\"dataframe\">\n",
              "  <thead>\n",
              "    <tr style=\"text-align: right;\">\n",
              "      <th></th>\n",
              "      <th>Training_R2</th>\n",
              "      <th>Testing_R2</th>\n",
              "    </tr>\n",
              "  </thead>\n",
              "  <tbody>\n",
              "    <tr>\n",
              "      <th>LinReg</th>\n",
              "      <td>0.895729</td>\n",
              "      <td>0.898736</td>\n",
              "    </tr>\n",
              "    <tr>\n",
              "      <th>RForest</th>\n",
              "      <td>1.000000</td>\n",
              "      <td>0.933436</td>\n",
              "    </tr>\n",
              "    <tr>\n",
              "      <th>DTree</th>\n",
              "      <td>0.995678</td>\n",
              "      <td>0.970292</td>\n",
              "    </tr>\n",
              "    <tr>\n",
              "      <th>XGBoost</th>\n",
              "      <td>0.984325</td>\n",
              "      <td>0.980237</td>\n",
              "    </tr>\n",
              "    <tr>\n",
              "      <th>KNN</th>\n",
              "      <td>0.975464</td>\n",
              "      <td>0.960506</td>\n",
              "    </tr>\n",
              "    <tr>\n",
              "      <th>GradBoost</th>\n",
              "      <td>0.941909</td>\n",
              "      <td>0.942397</td>\n",
              "    </tr>\n",
              "    <tr>\n",
              "      <th>AdaBoost</th>\n",
              "      <td>0.066867</td>\n",
              "      <td>0.066842</td>\n",
              "    </tr>\n",
              "    <tr>\n",
              "      <th>SVR</th>\n",
              "      <td>0.408360</td>\n",
              "      <td>0.340563</td>\n",
              "    </tr>\n",
              "  </tbody>\n",
              "</table>\n",
              "</div>"
            ],
            "text/plain": [
              "           Training_R2  Testing_R2\n",
              "LinReg        0.895729    0.898736\n",
              "RForest       1.000000    0.933436\n",
              "DTree         0.995678    0.970292\n",
              "XGBoost       0.984325    0.980237\n",
              "KNN           0.975464    0.960506\n",
              "GradBoost     0.941909    0.942397\n",
              "AdaBoost      0.066867    0.066842\n",
              "SVR           0.408360    0.340563"
            ]
          },
          "execution_count": 156,
          "metadata": {},
          "output_type": "execute_result"
        }
      ],
      "source": [
        "# Dataframe containing the R2_scores of all models\n",
        "models = ['LinReg','RForest','DTree','XGBoost','KNN','GradBoost','AdaBoost','SVR']\n",
        "R2_df.drop('Model Name', axis =1,inplace=True)\n",
        "R2_df.index = models\n",
        "R2_df"
      ]
    },
    {
      "cell_type": "code",
      "execution_count": null,
      "id": "6dc2919d-03f7-42d1-be8b-34390e42a4d5",
      "metadata": {
        "id": "6dc2919d-03f7-42d1-be8b-34390e42a4d5",
        "outputId": "09552483-07fd-4cda-aa24-55b7e314b548"
      },
      "outputs": [
        {
          "data": {
            "image/png": "[encoded data removed]",
            "text/plain": [
              "<Figure size 1500x800 with 1 Axes>"
            ]
          },
          "metadata": {},
          "output_type": "display_data"
        }
      ],
      "source": [
        "# Visulisation of R2_Scores of train and test data by all models\n",
        "ax = R2_df.plot(kind = 'bar', figsize = (15,8))\n",
        "plt.xticks(rotation = 0)\n",
        "ax.bar_label(ax.containers[0],fmt= '%.2g')\n",
        "ax.bar_label(ax.containers[1],fmt= '%.2g')\n",
        "plt.show()"
      ]
    },
    {
      "cell_type": "code",
      "execution_count": null,
      "id": "c7fde667-e392-4a38-a1ca-376ce53b0c66",
      "metadata": {
        "id": "c7fde667-e392-4a38-a1ca-376ce53b0c66"
      },
      "outputs": [],
      "source": [
        "# import stacking regressor\n",
        "from sklearn.ensemble import StackingRegressor"
      ]
    },
    {
      "cell_type": "code",
      "execution_count": null,
      "id": "39c4d95b-18c4-42f5-9889-bd366cbed655",
      "metadata": {
        "id": "39c4d95b-18c4-42f5-9889-bd366cbed655"
      },
      "outputs": [],
      "source": [
        "# define the estimators for the regressor\n",
        "estimators = [('lr',LinearRegression()),\n",
        "              ('dt',DecisionTreeRegressor()),\n",
        "              ('xgb',XGBRegressor()),\n",
        "              ('knn',KNeighborsRegressor()),\n",
        "              ('gbst',GradientBoostingRegressor()),\n",
        "              ('adbst',AdaBoostRegressor()),\n",
        "              ('svm',SVR()) ]"
      ]
    },
    {
      "cell_type": "code",
      "execution_count": null,
      "id": "174fb52a-9485-4570-b7ba-feaeeb9f9426",
      "metadata": {
        "id": "174fb52a-9485-4570-b7ba-feaeeb9f9426"
      },
      "outputs": [],
      "source": [
        "regressor = StackingRegressor(estimators = estimators,final_estimator=RandomForestRegressor(),cv=10,n_jobs= -1)"
      ]
    },
    {
      "cell_type": "code",
      "execution_count": null,
      "id": "24e008fd-9889-427d-87ff-df999ceb22a8",
      "metadata": {
        "id": "24e008fd-9889-427d-87ff-df999ceb22a8",
        "outputId": "90a85046-cb64-4431-b616-a120214d3710"
      },
      "outputs": [
        {
          "data": {
            "text/html": [
              "<style>#sk-container-id-1 {color: black;background-color: white;}#sk-container-id-1 pre{padding: 0;}#sk-container-id-1 div.sk-toggleable {background-color: white;}#sk-container-id-1 label.sk-toggleable__label {cursor: pointer;display: block;width: 100%;margin-bottom: 0;padding: 0.3em;box-sizing: border-box;text-align: center;}#sk-container-id-1 label.sk-toggleable__label-arrow:before {content: \"▸\";float: left;margin-right: 0.25em;color: #696969;}#sk-container-id-1 label.sk-toggleable__label-arrow:hover:before {color: black;}#sk-container-id-1 div.sk-estimator:hover label.sk-toggleable__label-arrow:before {color: black;}#sk-container-id-1 div.sk-toggleable__content {max-height: 0;max-width: 0;overflow: hidden;text-align: left;background-color: #f0f8ff;}#sk-container-id-1 div.sk-toggleable__content pre {margin: 0.2em;color: black;border-radius: 0.25em;background-color: #f0f8ff;}#sk-container-id-1 input.sk-toggleable__control:checked~div.sk-toggleable__content {max-height: 200px;max-width: 100%;overflow: auto;}#sk-container-id-1 input.sk-toggleable__control:checked~label.sk-toggleable__label-arrow:before {content: \"▾\";}#sk-container-id-1 div.sk-estimator input.sk-toggleable__control:checked~label.sk-toggleable__label {background-color: #d4ebff;}#sk-container-id-1 div.sk-label input.sk-toggleable__control:checked~label.sk-toggleable__label {background-color: #d4ebff;}#sk-container-id-1 input.sk-hidden--visually {border: 0;clip: rect(1px 1px 1px 1px);clip: rect(1px, 1px, 1px, 1px);height: 1px;margin: -1px;overflow: hidden;padding: 0;position: absolute;width: 1px;}#sk-container-id-1 div.sk-estimator {font-family: monospace;background-color: #f0f8ff;border: 1px dotted black;border-radius: 0.25em;box-sizing: border-box;margin-bottom: 0.5em;}#sk-container-id-1 div.sk-estimator:hover {background-color: #d4ebff;}#sk-container-id-1 div.sk-parallel-item::after {content: \"\";width: 100%;border-bottom: 1px solid gray;flex-grow: 1;}#sk-container-id-1 div.sk-label:hover label.sk-toggleable__label {background-color: #d4ebff;}#sk-container-id-1 div.sk-serial::before {content: \"\";position: absolute;border-left: 1px solid gray;box-sizing: border-box;top: 0;bottom: 0;left: 50%;z-index: 0;}#sk-container-id-1 div.sk-serial {display: flex;flex-direction: column;align-items: center;background-color: white;padding-right: 0.2em;padding-left: 0.2em;position: relative;}#sk-container-id-1 div.sk-item {position: relative;z-index: 1;}#sk-container-id-1 div.sk-parallel {display: flex;align-items: stretch;justify-content: center;background-color: white;position: relative;}#sk-container-id-1 div.sk-item::before, #sk-container-id-1 div.sk-parallel-item::before {content: \"\";position: absolute;border-left: 1px solid gray;box-sizing: border-box;top: 0;bottom: 0;left: 50%;z-index: -1;}#sk-container-id-1 div.sk-parallel-item {display: flex;flex-direction: column;z-index: 1;position: relative;background-color: white;}#sk-container-id-1 div.sk-parallel-item:first-child::after {align-self: flex-end;width: 50%;}#sk-container-id-1 div.sk-parallel-item:last-child::after {align-self: flex-start;width: 50%;}#sk-container-id-1 div.sk-parallel-item:only-child::after {width: 0;}#sk-container-id-1 div.sk-dashed-wrapped {border: 1px dashed gray;margin: 0 0.4em 0.5em 0.4em;box-sizing: border-box;padding-bottom: 0.4em;background-color: white;}#sk-container-id-1 div.sk-label label {font-family: monospace;font-weight: bold;display: inline-block;line-height: 1.2em;}#sk-container-id-1 div.sk-label-container {text-align: center;}#sk-container-id-1 div.sk-container {/* jupyter's `normalize.less` sets `[hidden] { display: none; }` but bootstrap.min.css set `[hidden] { display: none !important; }` so we also need the `!important` here to be able to override the default hidden behavior on the sphinx rendered scikit-learn.org. See: https://github.com/scikit-learn/scikit-learn/issues/21755 */display: inline-block !important;position: relative;}#sk-container-id-1 div.sk-text-repr-fallback {display: none;}</style><div id=\"sk-container-id-1\" class=\"sk-top-container\"><div class=\"sk-text-repr-fallback\"><pre>StackingRegressor(cv=10,\n",
              "                  estimators=[(&#x27;lr&#x27;, LinearRegression()),\n",
              "                              (&#x27;dt&#x27;, DecisionTreeRegressor()),\n",
              "                              (&#x27;xgb&#x27;,\n",
              "                               XGBRegressor(base_score=None, booster=None,\n",
              "                                            callbacks=None,\n",
              "                                            colsample_bylevel=None,\n",
              "                                            colsample_bynode=None,\n",
              "                                            colsample_bytree=None, device=None,\n",
              "                                            early_stopping_rounds=None,\n",
              "                                            enable_categorical=False,\n",
              "                                            eval_metric=None,\n",
              "                                            feature_types=None, gamma=None,\n",
              "                                            grow_policy=Non...\n",
              "                                            max_delta_step=None, max_depth=None,\n",
              "                                            max_leaves=None,\n",
              "                                            min_child_weight=None, missing=nan,\n",
              "                                            monotone_constraints=None,\n",
              "                                            multi_strategy=None,\n",
              "                                            n_estimators=None, n_jobs=None,\n",
              "                                            num_parallel_tree=None,\n",
              "                                            random_state=None, ...)),\n",
              "                              (&#x27;knn&#x27;, KNeighborsRegressor()),\n",
              "                              (&#x27;gbst&#x27;, GradientBoostingRegressor()),\n",
              "                              (&#x27;adbst&#x27;, AdaBoostRegressor()), (&#x27;svm&#x27;, SVR())],\n",
              "                  final_estimator=RandomForestRegressor(), n_jobs=-1)</pre><b>In a Jupyter environment, please rerun this cell to show the HTML representation or trust the notebook. <br />On GitHub, the HTML representation is unable to render, please try loading this page with nbviewer.org.</b></div><div class=\"sk-container\" hidden><div class=\"sk-item sk-dashed-wrapped\"><div class=\"sk-label-container\"><div class=\"sk-label sk-toggleable\"><input class=\"sk-toggleable__control sk-hidden--visually\" id=\"sk-estimator-id-1\" type=\"checkbox\" ><label for=\"sk-estimator-id-1\" class=\"sk-toggleable__label sk-toggleable__label-arrow\">StackingRegressor</label><div class=\"sk-toggleable__content\"><pre>StackingRegressor(cv=10,\n",
              "                  estimators=[(&#x27;lr&#x27;, LinearRegression()),\n",
              "                              (&#x27;dt&#x27;, DecisionTreeRegressor()),\n",
              "                              (&#x27;xgb&#x27;,\n",
              "                               XGBRegressor(base_score=None, booster=None,\n",
              "                                            callbacks=None,\n",
              "                                            colsample_bylevel=None,\n",
              "                                            colsample_bynode=None,\n",
              "                                            colsample_bytree=None, device=None,\n",
              "                                            early_stopping_rounds=None,\n",
              "                                            enable_categorical=False,\n",
              "                                            eval_metric=None,\n",
              "                                            feature_types=None, gamma=None,\n",
              "                                            grow_policy=Non...\n",
              "                                            max_delta_step=None, max_depth=None,\n",
              "                                            max_leaves=None,\n",
              "                                            min_child_weight=None, missing=nan,\n",
              "                                            monotone_constraints=None,\n",
              "                                            multi_strategy=None,\n",
              "                                            n_estimators=None, n_jobs=None,\n",
              "                                            num_parallel_tree=None,\n",
              "                                            random_state=None, ...)),\n",
              "                              (&#x27;knn&#x27;, KNeighborsRegressor()),\n",
              "                              (&#x27;gbst&#x27;, GradientBoostingRegressor()),\n",
              "                              (&#x27;adbst&#x27;, AdaBoostRegressor()), (&#x27;svm&#x27;, SVR())],\n",
              "                  final_estimator=RandomForestRegressor(), n_jobs=-1)</pre></div></div></div><div class=\"sk-serial\"><div class=\"sk-item\"><div class=\"sk-parallel\"><div class=\"sk-parallel-item\"><div class=\"sk-item\"><div class=\"sk-label-container\"><div class=\"sk-label sk-toggleable\"><label>lr</label></div></div><div class=\"sk-serial\"><div class=\"sk-item\"><div class=\"sk-estimator sk-toggleable\"><input class=\"sk-toggleable__control sk-hidden--visually\" id=\"sk-estimator-id-2\" type=\"checkbox\" ><label for=\"sk-estimator-id-2\" class=\"sk-toggleable__label sk-toggleable__label-arrow\">LinearRegression</label><div class=\"sk-toggleable__content\"><pre>LinearRegression()</pre></div></div></div></div></div></div><div class=\"sk-parallel-item\"><div class=\"sk-item\"><div class=\"sk-label-container\"><div class=\"sk-label sk-toggleable\"><label>dt</label></div></div><div class=\"sk-serial\"><div class=\"sk-item\"><div class=\"sk-estimator sk-toggleable\"><input class=\"sk-toggleable__control sk-hidden--visually\" id=\"sk-estimator-id-3\" type=\"checkbox\" ><label for=\"sk-estimator-id-3\" class=\"sk-toggleable__label sk-toggleable__label-arrow\">DecisionTreeRegressor</label><div class=\"sk-toggleable__content\"><pre>DecisionTreeRegressor()</pre></div></div></div></div></div></div><div class=\"sk-parallel-item\"><div class=\"sk-item\"><div class=\"sk-label-container\"><div class=\"sk-label sk-toggleable\"><label>xgb</label></div></div><div class=\"sk-serial\"><div class=\"sk-item\"><div class=\"sk-estimator sk-toggleable\"><input class=\"sk-toggleable__control sk-hidden--visually\" id=\"sk-estimator-id-4\" type=\"checkbox\" ><label for=\"sk-estimator-id-4\" class=\"sk-toggleable__label sk-toggleable__label-arrow\">XGBRegressor</label><div class=\"sk-toggleable__content\"><pre>XGBRegressor(base_score=None, booster=None, callbacks=None,\n",
              "             colsample_bylevel=None, colsample_bynode=None,\n",
              "             colsample_bytree=None, device=None, early_stopping_rounds=None,\n",
              "             enable_categorical=False, eval_metric=None, feature_types=None,\n",
              "             gamma=None, grow_policy=None, importance_type=None,\n",
              "             interaction_constraints=None, learning_rate=None, max_bin=None,\n",
              "             max_cat_threshold=None, max_cat_to_onehot=None,\n",
              "             max_delta_step=None, max_depth=None, max_leaves=None,\n",
              "             min_child_weight=None, missing=nan, monotone_constraints=None,\n",
              "             multi_strategy=None, n_estimators=None, n_jobs=None,\n",
              "             num_parallel_tree=None, random_state=None, ...)</pre></div></div></div></div></div></div><div class=\"sk-parallel-item\"><div class=\"sk-item\"><div class=\"sk-label-container\"><div class=\"sk-label sk-toggleable\"><label>knn</label></div></div><div class=\"sk-serial\"><div class=\"sk-item\"><div class=\"sk-estimator sk-toggleable\"><input class=\"sk-toggleable__control sk-hidden--visually\" id=\"sk-estimator-id-5\" type=\"checkbox\" ><label for=\"sk-estimator-id-5\" class=\"sk-toggleable__label sk-toggleable__label-arrow\">KNeighborsRegressor</label><div class=\"sk-toggleable__content\"><pre>KNeighborsRegressor()</pre></div></div></div></div></div></div><div class=\"sk-parallel-item\"><div class=\"sk-item\"><div class=\"sk-label-container\"><div class=\"sk-label sk-toggleable\"><label>gbst</label></div></div><div class=\"sk-serial\"><div class=\"sk-item\"><div class=\"sk-estimator sk-toggleable\"><input class=\"sk-toggleable__control sk-hidden--visually\" id=\"sk-estimator-id-6\" type=\"checkbox\" ><label for=\"sk-estimator-id-6\" class=\"sk-toggleable__label sk-toggleable__label-arrow\">GradientBoostingRegressor</label><div class=\"sk-toggleable__content\"><pre>GradientBoostingRegressor()</pre></div></div></div></div></div></div><div class=\"sk-parallel-item\"><div class=\"sk-item\"><div class=\"sk-label-container\"><div class=\"sk-label sk-toggleable\"><label>adbst</label></div></div><div class=\"sk-serial\"><div class=\"sk-item\"><div class=\"sk-estimator sk-toggleable\"><input class=\"sk-toggleable__control sk-hidden--visually\" id=\"sk-estimator-id-7\" type=\"checkbox\" ><label for=\"sk-estimator-id-7\" class=\"sk-toggleable__label sk-toggleable__label-arrow\">AdaBoostRegressor</label><div class=\"sk-toggleable__content\"><pre>AdaBoostRegressor()</pre></div></div></div></div></div></div><div class=\"sk-parallel-item\"><div class=\"sk-item\"><div class=\"sk-label-container\"><div class=\"sk-label sk-toggleable\"><label>svm</label></div></div><div class=\"sk-serial\"><div class=\"sk-item\"><div class=\"sk-estimator sk-toggleable\"><input class=\"sk-toggleable__control sk-hidden--visually\" id=\"sk-estimator-id-8\" type=\"checkbox\" ><label for=\"sk-estimator-id-8\" class=\"sk-toggleable__label sk-toggleable__label-arrow\">SVR</label><div class=\"sk-toggleable__content\"><pre>SVR()</pre></div></div></div></div></div></div></div></div><div class=\"sk-item\"><div class=\"sk-parallel\"><div class=\"sk-parallel-item\"><div class=\"sk-item\"><div class=\"sk-label-container\"><div class=\"sk-label sk-toggleable\"><label>final_estimator</label></div></div><div class=\"sk-serial\"><div class=\"sk-item\"><div class=\"sk-estimator sk-toggleable\"><input class=\"sk-toggleable__control sk-hidden--visually\" id=\"sk-estimator-id-9\" type=\"checkbox\" ><label for=\"sk-estimator-id-9\" class=\"sk-toggleable__label sk-toggleable__label-arrow\">RandomForestRegressor</label><div class=\"sk-toggleable__content\"><pre>RandomForestRegressor()</pre></div></div></div></div></div></div></div></div></div></div></div></div>"
            ],
            "text/plain": [
              "StackingRegressor(cv=10,\n",
              "                  estimators=[('lr', LinearRegression()),\n",
              "                              ('dt', DecisionTreeRegressor()),\n",
              "                              ('xgb',\n",
              "                               XGBRegressor(base_score=None, booster=None,\n",
              "                                            callbacks=None,\n",
              "                                            colsample_bylevel=None,\n",
              "                                            colsample_bynode=None,\n",
              "                                            colsample_bytree=None, device=None,\n",
              "                                            early_stopping_rounds=None,\n",
              "                                            enable_categorical=False,\n",
              "                                            eval_metric=None,\n",
              "                                            feature_types=None, gamma=None,\n",
              "                                            grow_policy=Non...\n",
              "                                            max_delta_step=None, max_depth=None,\n",
              "                                            max_leaves=None,\n",
              "                                            min_child_weight=None, missing=nan,\n",
              "                                            monotone_constraints=None,\n",
              "                                            multi_strategy=None,\n",
              "                                            n_estimators=None, n_jobs=None,\n",
              "                                            num_parallel_tree=None,\n",
              "                                            random_state=None, ...)),\n",
              "                              ('knn', KNeighborsRegressor()),\n",
              "                              ('gbst', GradientBoostingRegressor()),\n",
              "                              ('adbst', AdaBoostRegressor()), ('svm', SVR())],\n",
              "                  final_estimator=RandomForestRegressor(), n_jobs=-1)"
            ]
          },
          "execution_count": 162,
          "metadata": {},
          "output_type": "execute_result"
        }
      ],
      "source": [
        "regressor.fit(X_train,y_train) # fitting the train data to the stacking regressor"
      ]
    },
    {
      "cell_type": "code",
      "execution_count": null,
      "id": "c6735aac-8ee1-46c8-a930-177f9912ac16",
      "metadata": {
        "id": "c6735aac-8ee1-46c8-a930-177f9912ac16",
        "outputId": "20a832ba-ee80-41a2-d0bf-9154f20b5077"
      },
      "outputs": [
        {
          "name": "stdout",
          "output_type": "stream",
          "text": [
            "Stacking_R2_Score\n",
            "Training : 0.9904497189025\n",
            "\n",
            "Testing : 0.9839627549676586\n",
            "\n",
            "Stacking_MAE\n",
            "Training : 247.98693677980154\n",
            "\n",
            "Testing : 321.0896804216567\n",
            "\n",
            "Stacking_MSE\n",
            "Training : 151277.15222522517\n",
            "\n",
            "Testing : 250823.86955205322\n",
            "\n",
            "Stacking_RMSE\n",
            "Training : 388.9436363089454\n",
            "\n",
            "Testing : 500.82319190713724\n",
            "\n"
          ]
        }
      ],
      "source": [
        "# predicting using stacking regressor\n",
        "\n",
        "stacking_train_pred = regressor.predict(X_train)\n",
        "stacking_test_pred = regressor.predict(X_test)\n",
        "\n",
        "print(\"Stacking_R2_Score\")\n",
        "print(f'Training : {r2_score(y_train, stacking_train_pred)}')\n",
        "print()\n",
        "print(f'Testing : {r2_score(y_test, stacking_test_pred)}')\n",
        "print()\n",
        "print(\"Stacking_MAE\")\n",
        "print(f'Training : {mean_absolute_error(y_train, stacking_train_pred)}')\n",
        "print()\n",
        "print(f'Testing : {mean_absolute_error(y_test, stacking_test_pred)}')\n",
        "print()\n",
        "print(\"Stacking_MSE\")\n",
        "print(f'Training : {mean_squared_error(y_train, stacking_train_pred)}')\n",
        "print()\n",
        "print(f'Testing : {mean_squared_error(y_test, stacking_test_pred)}')\n",
        "print()\n",
        "print(\"Stacking_RMSE\")\n",
        "print(f'Training : {np.sqrt(mean_squared_error(y_train, stacking_train_pred))}')\n",
        "print()\n",
        "print(f'Testing : {np.sqrt(mean_squared_error(y_test, stacking_test_pred))}')\n",
        "print()"
      ]
    }
  ],
  "metadata": {
    "kernelspec": {
      "display_name": "Python 3 (ipykernel)",
      "language": "python",
      "name": "python3"
    },
    "language_info": {
      "codemirror_mode": {
        "name": "ipython",
        "version": 3
      },
      "file_extension": ".py",
      "mimetype": "text/x-python",
      "name": "python",
      "nbconvert_exporter": "python",
      "pygments_lexer": "ipython3",
      "version": "3.11.7"
    },
    "colab": {
      "provenance": []
    }
  },
  "nbformat": 4,
  "nbformat_minor": 5
}